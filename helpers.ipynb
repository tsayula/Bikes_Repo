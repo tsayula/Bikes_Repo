{
 "cells": [
  {
   "cell_type": "code",
   "execution_count": 9,
   "metadata": {},
   "outputs": [],
   "source": [
    "client_id = 'UPd8KVfQybexrmKSjNF-mA'\n",
    "api_key = 'TQ3V7mYVhRo1vOV7HFkQEuG-QKC7eVgNjpOkfkGD43EnLnLLY2ub-owG779hx-vZI6YX6YQZSxmE9kOjoo8iQYMx3mq0pwqenQ3Jc_vYjMZCci2PPC-BevZVmZomYHYx'\n"
   ]
  },
  {
   "cell_type": "code",
   "execution_count": 1,
   "metadata": {},
   "outputs": [],
   "source": [
    "def yelp_data(url_params, api_key):\n",
    "    yelp_call(url_params, api_key)\n",
    "    parse_results(business_data)\n",
    "    df_save('/Users/leratsayukova/Documents/Flatiron/Bikes_Repo/data/bikes_data', parsed_results)\n",
    "    our_data= pd.read_csv('/Users/leratsayukova/Documents/Flatiron/Bikes_Repo/data/bikes_data')\n",
    "    return our_data"
   ]
  },
  {
   "cell_type": "code",
   "execution_count": 2,
   "metadata": {},
   "outputs": [],
   "source": [
    "def yelp_call(url_params, api_key):\n",
    "    \n",
    "    response= requests.get(url, headers=headers, params=url_params)  \n",
    "    \n",
    "    if response.status_code==200:\n",
    "        return response.json()\n",
    "     \n",
    "    else: \n",
    "        return response.status_code\n",
    "    \n"
   ]
  },
  {
   "cell_type": "code",
   "execution_count": 3,
   "metadata": {},
   "outputs": [],
   "source": [
    "def parse_results(results):\n",
    "    parsed_results =[]\n",
    "    for biz in results:\n",
    "        biz_info= ( biz['id'],\n",
    "                   biz['name'],\n",
    "                   biz['rating'],\n",
    "                   biz['review_count'],\n",
    "                   biz['location']['zip_code'])\n",
    "        parsed_results.append(biz_info)\n",
    "    \n",
    "    return parsed_results\n",
    "\n"
   ]
  },
  {
   "cell_type": "code",
   "execution_count": 4,
   "metadata": {},
   "outputs": [],
   "source": [
    "def df_save(csv_filepath, parsed_results):\n",
    "    \n",
    "    \n",
    "    pr_df= pd.DataFrame(parsed_results, columns= \n",
    "             ['id','name', 'rating', 'review_count', 'zipcode'])\n",
    "    \n",
    "    pr_csv=pr_df.to_csv(path_or_buf=csv_filepath, mode=\"a\", header=\"False\")\n",
    "   \n",
    "    return print(\"Results added!\")\n",
    "   "
   ]
  },
  {
   "cell_type": "code",
   "execution_count": 5,
   "metadata": {},
   "outputs": [],
   "source": [
    "def yelp_call_reviews(url_review, api_key):\n",
    "    response= requests.get(url_reviews, headers=headers)  \n",
    "    if response.status_code==200:\n",
    "        return response.json()\n",
    "    else: \n",
    "        return response.status_code"
   ]
  },
  {
   "cell_type": "code",
   "execution_count": 6,
   "metadata": {},
   "outputs": [],
   "source": [
    "def yelp_reviews(url_params_reviews, api_key):\n",
    "    yelp_call_reviews(biz_ids_lst, api_key)\n",
    "    parse_reviews(reviews)\n",
    "    df_save_reviews('/Users/leratsayukova/Documents/Flatiron/Bikes_Repo/data/bikes_reviews', parsed_reviews)\n",
    "    our_data= pd.read_csv('/Users/leratsayukova/Documents/Flatiron/Bikes_Repo/data/bikes_reviews')\n",
    "    return our_data"
   ]
  },
  {
   "cell_type": "code",
   "execution_count": 7,
   "metadata": {},
   "outputs": [],
   "source": [
    "def parse_reviews(bid, reviews):\n",
    "    parsed_reviews =[]\n",
    "    for review in reviews:\n",
    "        review_info= ( bid,\n",
    "                    review['id'],\n",
    "                    review['text'],\n",
    "                    review['rating'] \n",
    "                           )\n",
    "        parsed_reviews.append(review_info)\n",
    "        \n",
    "    return parsed_reviews\n"
   ]
  },
  {
   "cell_type": "code",
   "execution_count": 8,
   "metadata": {},
   "outputs": [],
   "source": [
    "def df_save_reviews(csv_filepath, parsed_reviews):\n",
    "    \n",
    "    \n",
    "    pr_df= pd.DataFrame(parsed_reviews, columns= \n",
    "             ['business_id','id','text', 'rating'])\n",
    "    \n",
    "    pr_csv=pr_df.to_csv(path_or_buf=csv_filepath, mode=\"a\", header=False)\n",
    "   \n",
    "    return print(\"Results added!\")"
   ]
  },
  {
   "cell_type": "code",
   "execution_count": null,
   "metadata": {},
   "outputs": [],
   "source": [
    "url= 'https://api.yelp.com/v3/businesses/search'"
   ]
  },
  {
   "cell_type": "code",
   "execution_count": null,
   "metadata": {},
   "outputs": [],
   "source": [
    "client_id = 'UPd8KVfQybexrmKSjNF-mA'\n",
    "api_key = 'TQ3V7mYVhRo1vOV7HFkQEuG-QKC7eVgNjpOkfkGD43EnLnLLY2ub-owG779hx-vZI6YX6YQZSxmE9kOjoo8iQYMx3mq0pwqenQ3Jc_vYjMZCci2PPC-BevZVmZomYHYx'\n"
   ]
  },
  {
   "cell_type": "code",
   "execution_count": null,
   "metadata": {},
   "outputs": [],
   "source": [
    "headers = {'Authorization':'Bearer {}'.format(api_key),}"
   ]
  },
  {
   "cell_type": "code",
   "execution_count": null,
   "metadata": {},
   "outputs": [],
   "source": [
    "url_params = {\n",
    "                \"term\": term.replace(' ', '+'),\n",
    "                \"location\": location.replace(' ', '+'),\n",
    "                \"categories\" : categories,\n",
    "                \"limit\": 50,\n",
    "    \n",
    "            }"
   ]
  }
 ],
 "metadata": {
  "kernelspec": {
   "display_name": "Python 3",
   "language": "python",
   "name": "python3"
  },
  "language_info": {
   "codemirror_mode": {
    "name": "ipython",
    "version": 3
   },
   "file_extension": ".py",
   "mimetype": "text/x-python",
   "name": "python",
   "nbconvert_exporter": "python",
   "pygments_lexer": "ipython3",
   "version": "3.8.5"
  }
 },
 "nbformat": 4,
 "nbformat_minor": 4
}
