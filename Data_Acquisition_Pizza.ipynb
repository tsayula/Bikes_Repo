{
 "cells": [
  {
   "cell_type": "markdown",
   "metadata": {},
   "source": [
    "# Exploring The Pizza Shop Market in Austin, Texas\n"
   ]
  },
  {
   "cell_type": "markdown",
   "metadata": {},
   "source": [
    "This project aims to analyzes the local business needs of the great city of Austin, Texas, whos local slogan \"Keep Austin Weird\" was inspired by the cities small business alliance Austin Indepedent Business Alliance to promote small businesses!\n",
    "\n",
    "While Austin is a booming metropolis City, we aim to analyze whether a pizza shop or a bike shop would be more lucrative!\n",
    "Here you will find the analysis for Pizza Parlors!\n",
    "![Pizza vs. Bike Shops in Austin](https://upload.wikimedia.org/wikipedia/commons/a/a5/Austin_Evening.jpg)<img src=\"url\" width=\"100\" height=\"100\">\n"
   ]
  },
  {
   "cell_type": "code",
   "execution_count": 1,
   "metadata": {},
   "outputs": [
    {
     "ename": "ModuleNotFoundError",
     "evalue": "No module named 'helpers'",
     "output_type": "error",
     "traceback": [
      "\u001b[0;31m---------------------------------------------------------------------------\u001b[0m",
      "\u001b[0;31mModuleNotFoundError\u001b[0m                       Traceback (most recent call last)",
      "\u001b[0;32m<ipython-input-1-b0bdf78192ff>\u001b[0m in \u001b[0;36m<module>\u001b[0;34m\u001b[0m\n\u001b[1;32m      9\u001b[0m \u001b[0;34m\u001b[0m\u001b[0m\n\u001b[1;32m     10\u001b[0m \u001b[0;34m\u001b[0m\u001b[0m\n\u001b[0;32m---> 11\u001b[0;31m \u001b[0;32mfrom\u001b[0m \u001b[0mhelpers\u001b[0m \u001b[0;32mimport\u001b[0m \u001b[0;34m*\u001b[0m\u001b[0;34m\u001b[0m\u001b[0;34m\u001b[0m\u001b[0m\n\u001b[0m",
      "\u001b[0;31mModuleNotFoundError\u001b[0m: No module named 'helpers'"
     ]
    }
   ],
   "source": [
    "import json\n",
    "import requests\n",
    "import sys\n",
    "import pandas as pd\n",
    "import csv\n",
    "import numpy as np\n",
    "import matplotlib.pyplot as plt\n",
    "%matplotlib inline\n",
    "\n",
    "\n",
    "# from helpers import *"
   ]
  },
  {
   "cell_type": "code",
   "execution_count": null,
   "metadata": {},
   "outputs": [],
   "source": [
    "url= 'https://api.yelp.com/v3/businesses/search'"
   ]
  },
  {
   "cell_type": "code",
   "execution_count": null,
   "metadata": {},
   "outputs": [],
   "source": [
    "client_id = 'UPd8KVfQybexrmKSjNF-mA'\n",
    "api_key = 'TQ3V7mYVhRo1vOV7HFkQEuG-QKC7eVgNjpOkfkGD43EnLnLLY2ub-owG779hx-vZI6YX6YQZSxmE9kOjoo8iQYMx3mq0pwqenQ3Jc_vYjMZCci2PPC-BevZVmZomYHYx'\n",
    "\n",
    "\n"
   ]
  },
  {
   "cell_type": "markdown",
   "metadata": {},
   "source": [
    "___"
   ]
  },
  {
   "cell_type": "markdown",
   "metadata": {},
   "source": [
    "## Step 1 -  compares the the number of pizza restaurants by zipcodes and ratings:\n",
    "\n"
   ]
  },
  {
   "cell_type": "markdown",
   "metadata": {},
   "source": [
    "**Objective: We want to determine if there is an opporunity for expansion within local neighborhoods!"
   ]
  },
  {
   "cell_type": "code",
   "execution_count": null,
   "metadata": {},
   "outputs": [],
   "source": [
    "headers = {'Authorization':'Bearer {}'.format(api_key),}"
   ]
  },
  {
   "cell_type": "code",
   "execution_count": null,
   "metadata": {},
   "outputs": [],
   "source": [
    "term= 'restaurants'\n",
    "location='Austin'\n",
    "categories='pizza'"
   ]
  },
  {
   "cell_type": "code",
   "execution_count": null,
   "metadata": {},
   "outputs": [],
   "source": [
    "url_params = {\n",
    "                \"term\": term.replace(' ', '+'),\n",
    "                \"location\": location.replace(' ', '+'),\n",
    "                \"categories\" : categories,\n",
    "                \"limit\": 50,\n",
    "    \n",
    "            }"
   ]
  },
  {
   "cell_type": "code",
   "execution_count": null,
   "metadata": {},
   "outputs": [],
   "source": [
    "def yelp_call(url_params, api_key):\n",
    "    \n",
    "    response= requests.get(url, headers=headers, params=url_params)  \n",
    "    \n",
    "    if response.status_code==200:\n",
    "        return response.json()\n",
    "     \n",
    "    else: \n",
    "        return response.status_code\n",
    "    \n"
   ]
  },
  {
   "cell_type": "code",
   "execution_count": null,
   "metadata": {},
   "outputs": [],
   "source": [
    "response= yelp_call(url_params, api_key)"
   ]
  },
  {
   "cell_type": "markdown",
   "metadata": {},
   "source": [
    "## Step 2: Determine how many pizza shops in Austin are chain Restaurants?"
   ]
  },
  {
   "cell_type": "markdown",
   "metadata": {},
   "source": [
    "**Objective: We would like to see in which neighborhoods there is a need for a solid local pizza parlor.\n",
    "Small businesses are the heart of Austin afterall!\n"
   ]
  },
  {
   "cell_type": "code",
   "execution_count": null,
   "metadata": {},
   "outputs": [],
   "source": [
    "# setting business data equal to 'business' key in response dictionary\n",
    "business_data= response['businesses']"
   ]
  },
  {
   "cell_type": "markdown",
   "metadata": {},
   "source": [
    "**What data do we want from each business?**"
   ]
  },
  {
   "cell_type": "code",
   "execution_count": null,
   "metadata": {},
   "outputs": [],
   "source": [
    "def parse_results(results):\n",
    "    parsed_results =[]\n",
    "    for biz in results:\n",
    "        biz_info= ( biz['id'],\n",
    "                   biz['name'],\n",
    "                   biz['rating'],\n",
    "                   biz['review_count'],\n",
    "                   biz['location']['zip_code'])\n",
    "        parsed_results.append(biz_info)\n",
    "    \n",
    "    return parsed_results\n",
    "\n"
   ]
  },
  {
   "cell_type": "code",
   "execution_count": null,
   "metadata": {
    "scrolled": false
   },
   "outputs": [],
   "source": [
    "parsed_results= parse_results(business_data)\n"
   ]
  },
  {
   "cell_type": "code",
   "execution_count": null,
   "metadata": {},
   "outputs": [],
   "source": [
    "def df_save(csv_filepath, parsed_results):\n",
    "    \n",
    "    \n",
    "    pr_df= pd.DataFrame(parsed_results, columns= \n",
    "             ['business_id','biz_name', 'biz_rating', 'biz_review_count', 'biz_zipcode'])\n",
    "    \n",
    "    pr_csv=pr_df.to_csv(path_or_buf=csv_filepath, mode=\"a\", header=\"False\")\n",
    "   \n",
    "    return print(\"Results added!\")\n",
    "   "
   ]
  },
  {
   "cell_type": "code",
   "execution_count": null,
   "metadata": {},
   "outputs": [],
   "source": [
    "def yelp_data(url_params, api_key):\n",
    "    yelp_call(url_params, api_key)\n",
    "    parse_results(business_data)\n",
    "    df_save('/Users/leratsayukova/Documents/Flatiron/phase_1/Bikes_Repo/Data_Exploration_Project/data/csv_data_pizza', parsed_results)\n",
    "    our_data= pd.read_csv('/Users/leratsayukova/Documents/Flatiron/phase_1/Bikes_Repo/Data_Exploration_Project/data/csv_data_pizza')\n",
    "    return our_data"
   ]
  },
  {
   "cell_type": "code",
   "execution_count": null,
   "metadata": {},
   "outputs": [],
   "source": [
    "yelp_data(url_params,api_key)"
   ]
  },
  {
   "cell_type": "code",
   "execution_count": null,
   "metadata": {},
   "outputs": [],
   "source": [
    "# create a variable  to keep track of which result you are in. \n",
    "cur = 0\n",
    "num= response['total']\n",
    "\n",
    "#set up a while loop to go through and grab the result \n",
    "while cur <= num and cur < 1000:\n",
    "    #set the offset parameter to be where you currently are in the results \n",
    "    url_params['offset'] = cur\n",
    "    #make your API call with the new offset number\n",
    "    results =  yelp_call(url_params, api_key)\n",
    "    \n",
    "    #after you get your results you can now use your function to parse those results\n",
    "    new_parsed_results = parse_results(results['businesses'])\n",
    "    \n",
    "    # use your function to insert your parsed results into the db\n",
    "    df_save('/Users/leratsayukova/Documents/Flatiron/Bikes_Repo/data/csv_data_pizza', new_parsed_results)\n",
    "    \n",
    "    \n",
    "    #increment the counter by 50 to move on to the next results\n",
    "    cur += 50"
   ]
  },
  {
   "cell_type": "code",
   "execution_count": null,
   "metadata": {},
   "outputs": [],
   "source": [
    "bikes_csv= pd.read_csv('/Users/leratsayukova/Documents/Flatiron/Bikes_Repo/data/csv_data_pizza', header=0, \n",
    "                       names=['business_id','biz_name', 'biz_rating', 'biz_review_count', 'biz_zipcode']).reset_index(drop=True)\n",
    "# pd.set_option('display.max_rows', None, 'display.max_columns', None)\n",
    "# drops rows\n",
    "Bikes_csv= bikes_csv.drop([50,101,152])\n",
    "\n"
   ]
  },
  {
   "cell_type": "code",
   "execution_count": null,
   "metadata": {},
   "outputs": [],
   "source": [
    "biz_ids=Bikes_csv.loc[:,'business_id'].to_list()\n",
    "biz_ids_lst=list(set(biz_ids))\n"
   ]
  },
  {
   "cell_type": "markdown",
   "metadata": {},
   "source": [
    "___"
   ]
  },
  {
   "cell_type": "code",
   "execution_count": null,
   "metadata": {},
   "outputs": [],
   "source": [
    "def yelp_call_reviews(url_review, api_key):\n",
    "    response= requests.get(url_reviews, headers=headers)  \n",
    "    if response.status_code==200:\n",
    "        return response.json()\n",
    "    else: \n",
    "        return response.status_code\n"
   ]
  },
  {
   "cell_type": "code",
   "execution_count": null,
   "metadata": {},
   "outputs": [],
   "source": [
    "def yelp_reviews(url_params_reviews, api_key):\n",
    "    yelp_call_reviews(biz_ids_lst, api_key)\n",
    "    parse_reviews(reviews)\n",
    "    df_save_reviews('/Users/leratsayukova/Documents/Flatiron/Bikes_Repo/data/csv_reviews_pizza', parsed_reviews)\n",
    "    our_data= pd.read_csv('/Users/leratsayukova/Documents/Flatiron/Bikes_Repo/data/csv_reviews_pizza')\n",
    "    return our_data"
   ]
  },
  {
   "cell_type": "code",
   "execution_count": null,
   "metadata": {},
   "outputs": [],
   "source": [
    "def parse_reviews(bid, reviews):\n",
    "    parsed_reviews =[]\n",
    "    for review in reviews:\n",
    "        review_info= ( bid,\n",
    "                    review['id'],\n",
    "                    review['text'],\n",
    "                    review['rating'] \n",
    "                           )\n",
    "        parsed_reviews.append(review_info)\n",
    "        \n",
    "    return parsed_reviews\n"
   ]
  },
  {
   "cell_type": "code",
   "execution_count": null,
   "metadata": {},
   "outputs": [],
   "source": [
    "def df_save_reviews(csv_filepath, parsed_reviews):\n",
    "    \n",
    "    \n",
    "    pr_df= pd.DataFrame(parsed_reviews, columns= \n",
    "             ['business_id','id','text', 'rating'])\n",
    "    \n",
    "    pr_csv=pr_df.to_csv(path_or_buf=csv_filepath, mode=\"a\", header=False)\n",
    "   \n",
    "    return print(\"Results added!\")\n",
    "            "
   ]
  },
  {
   "cell_type": "code",
   "execution_count": null,
   "metadata": {},
   "outputs": [],
   "source": [
    "for bid in biz_ids_lst:\n",
    "# #     print(bid)\n",
    "    url_reviews='https://api.yelp.com/v3/businesses/' + bid + '/reviews'\n",
    "    url_data = yelp_call_reviews(url_reviews, api_key)\n",
    "    new_reviews = yelp_call_reviews(bid, api_key)\n",
    "    #after you get your results you can now use your function to parse those results\n",
    "    new_parsed_reviews = parse_reviews(bid, new_reviews['reviews'])\n",
    "     # use your function to insert your parsed results into the db\n",
    "    df_save_reviews('/Users/leratsayukova/Documents/Flatiron/Bikes_Repo/data/csv_reviews_pizza', new_parsed_reviews)\n",
    "   "
   ]
  },
  {
   "cell_type": "code",
   "execution_count": null,
   "metadata": {},
   "outputs": [],
   "source": [
    "Reviews_csv=pd.read_csv('/Users/leratsayukova/Documents/Flatiron/Bikes_Repo/data/csv_reviews_pizza', \n",
    "            names=['business_id','review_id', 'text', 'rating']).reset_index(drop=True)"
   ]
  },
  {
   "cell_type": "markdown",
   "metadata": {},
   "source": [
    "## Part 4 -  Using python and pandas, write code to answer the questions below. \n",
    "\n",
    "\n",
    "- Which are the 5 most reviewed businesses in your dataset?\n",
    "- What is the highest rating recieved in your data set and how many businesses have that rating?\n",
    "- What percentage of businesses have a rating greater than or  4.5?\n",
    "- What percentage of businesses have a rating less than 3?\n",
    "- What percentage of your businesseshave a price label of one dollar sign? Two dollar signs? Three dollar signs? No dollar signs?\n",
    "- Return the text of the reviews for the most reviewed business. \n",
    "- Find the highest rated business and return text of the most recent review. If multiple business have the same rating, select the business with the most reviews. \n",
    "- Find the lowest rated business and return text of the most recent review.  If multiple business have the same rating, select the business with the least reviews. \n"
   ]
  },
  {
   "cell_type": "code",
   "execution_count": null,
   "metadata": {
    "scrolled": false
   },
   "outputs": [],
   "source": [
    "# Bikes_csv"
   ]
  },
  {
   "cell_type": "code",
   "execution_count": null,
   "metadata": {
    "scrolled": true
   },
   "outputs": [],
   "source": [
    "# merges data csv and reviews csv on 'business_id' column\n",
    "merged_inner = pd.merge(left=Bikes_csv, right=Reviews_csv, left_on='business_id', right_on='business_id')\n"
   ]
  },
  {
   "cell_type": "code",
   "execution_count": null,
   "metadata": {},
   "outputs": [],
   "source": [
    "mi=merged_inner.copy()"
   ]
  },
  {
   "cell_type": "markdown",
   "metadata": {},
   "source": [
    "________________________"
   ]
  },
  {
   "cell_type": "markdown",
   "metadata": {},
   "source": [
    "## PANDAS QUESTIONS"
   ]
  },
  {
   "cell_type": "markdown",
   "metadata": {},
   "source": [
    "**What are the 5 most reviewed businesses"
   ]
  },
  {
   "cell_type": "code",
   "execution_count": null,
   "metadata": {},
   "outputs": [],
   "source": [
    "# Renamed Merged DataFrame to 'mi' and checking for dtypes of columns\n",
    "mi.dtypes\n",
    "# Converts all the appropriate columns in our dataFrame to numeric types\n",
    "# so that we can work with values\n",
    "mi[['biz_rating', 'biz_review_count', 'biz_zipcode', 'rating']]=mi[[\n",
    "    'biz_rating', 'biz_review_count', 'biz_zipcode', 'rating']].apply(pd.to_numeric)\n",
    "mi.dtypes"
   ]
  },
  {
   "cell_type": "code",
   "execution_count": null,
   "metadata": {},
   "outputs": [],
   "source": [
    "# Returns the 5 most reviewed restaurants and sets it equal to new variable\n",
    "fivemr= mi.nlargest(15,['biz_review_count'])\n",
    "fivemr.head(15)"
   ]
  },
  {
   "cell_type": "markdown",
   "metadata": {},
   "source": [
    "**5 Most Reviewed Businesses**\n"
   ]
  },
  {
   "cell_type": "code",
   "execution_count": null,
   "metadata": {
    "scrolled": true
   },
   "outputs": [],
   "source": [
    "# Returns unique names of 5 most reviewed restaurants\n",
    "fivemr_unique= fivemr['biz_name'].unique().tolist()\n",
    "print(\"The 5 most reviewed restauraunts are: \\n\")\n",
    "fivemr_unique"
   ]
  },
  {
   "cell_type": "markdown",
   "metadata": {},
   "source": [
    "______"
   ]
  },
  {
   "cell_type": "markdown",
   "metadata": {},
   "source": [
    "**What is the highest rating recieved in your data set and how many businesses have that rating?**\n"
   ]
  },
  {
   "cell_type": "code",
   "execution_count": null,
   "metadata": {
    "scrolled": true
   },
   "outputs": [],
   "source": [
    "# Singles out ratings column to see how many business have 5 stars\n",
    "# Same data, nicer look. \n",
    "pd.DataFrame(mi.loc[:,'biz_rating'].value_counts())"
   ]
  },
  {
   "cell_type": "markdown",
   "metadata": {},
   "source": [
    "___________"
   ]
  },
  {
   "cell_type": "markdown",
   "metadata": {},
   "source": [
    "**What percentage of businesses have a rating greater than or 4.5? \\\n",
    "What percentage of businesses have a rating less than 3?**"
   ]
  },
  {
   "cell_type": "code",
   "execution_count": null,
   "metadata": {
    "scrolled": true
   },
   "outputs": [],
   "source": [
    "ratings= mi['biz_rating'].value_counts(normalize=True)*100\n",
    "rating_prct= pd.DataFrame(ratings)\n",
    "rating_prct"
   ]
  },
  {
   "cell_type": "markdown",
   "metadata": {},
   "source": [
    "**18% = 4.5 stars or above** -approximately 18% of pizza shops have ratings with a 4.5 or above"
   ]
  },
  {
   "cell_type": "code",
   "execution_count": null,
   "metadata": {},
   "outputs": [],
   "source": [
    "len(biz_ids_lst)"
   ]
  },
  {
   "cell_type": "markdown",
   "metadata": {},
   "source": [
    "___________"
   ]
  },
  {
   "cell_type": "markdown",
   "metadata": {},
   "source": [
    "**Find the highest rated business and return text of the most recent review. \n",
    "If multiple business have the same rating, select the business with the most reviews"
   ]
  },
  {
   "cell_type": "markdown",
   "metadata": {},
   "source": [
    "**Highest Rated Business and Review**"
   ]
  },
  {
   "cell_type": "code",
   "execution_count": null,
   "metadata": {
    "scrolled": false
   },
   "outputs": [],
   "source": [
    "# mi.groupby(['biz_rating']).agg({'biz_review_count': max})\n",
    "rat_five= mi[mi['biz_rating']==5]\n",
    "rat_five_top=rat_five.nlargest(1,['biz_review_count'])\n",
    "rat_five_top"
   ]
  },
  {
   "cell_type": "code",
   "execution_count": null,
   "metadata": {
    "scrolled": false
   },
   "outputs": [],
   "source": [
    "rat_five_top.loc[:,'text']"
   ]
  },
  {
   "cell_type": "markdown",
   "metadata": {},
   "source": [
    "**Find the lowest rated business and return text of the most recent review.  If multiple business have the same rating, select the business with the least reviews. \n"
   ]
  },
  {
   "cell_type": "code",
   "execution_count": null,
   "metadata": {
    "scrolled": true
   },
   "outputs": [],
   "source": [
    "rat_five_2= mi[mi['biz_rating']==1]"
   ]
  },
  {
   "cell_type": "code",
   "execution_count": null,
   "metadata": {},
   "outputs": [],
   "source": [
    "rat_bot=rat_five_2.nsmallest(3,'biz_review_count')\n",
    "rat_bot"
   ]
  },
  {
   "cell_type": "markdown",
   "metadata": {},
   "source": [
    "**Lowest Rated Business and Review**"
   ]
  },
  {
   "cell_type": "code",
   "execution_count": null,
   "metadata": {},
   "outputs": [],
   "source": [
    "rbarray=rat_bot['biz_name'].values\n",
    "bottom3_lst= rbarray.tolist()\n",
    "bottom3_lst"
   ]
  },
  {
   "cell_type": "markdown",
   "metadata": {},
   "source": [
    "___________________"
   ]
  },
  {
   "cell_type": "markdown",
   "metadata": {},
   "source": [
    "## Visualizations"
   ]
  },
  {
   "cell_type": "markdown",
   "metadata": {},
   "source": [
    "## Step 5 -  Determine which neighborhoods need more pizza. \n",
    "\n",
    "Objective: Feed the people."
   ]
  },
  {
   "cell_type": "markdown",
   "metadata": {},
   "source": [
    "Finding the number of pizza parlors by zipcode"
   ]
  },
  {
   "cell_type": "code",
   "execution_count": null,
   "metadata": {
    "scrolled": true
   },
   "outputs": [],
   "source": [
    "# Get total number of zipcodes\n",
    "zip_lst=(mi['biz_zipcode'].unique()).tolist()\n",
    "len(zip_lst)\n",
    "# Convert zipcodes in our list to strings\n",
    "zip_lst_string=list(map(str, zip_lst))"
   ]
  },
  {
   "cell_type": "code",
   "execution_count": null,
   "metadata": {},
   "outputs": [],
   "source": [
    "searchfor = ['Domino', 'Cicis', 'Chuck', 'Papa', 'MOD', 'Caesars', 'California', 'Hut']\n",
    "no_chains= mi[~mi.biz_name.str.contains('|'.join(searchfor))]\n",
    "mi['biz_name'].describe()"
   ]
  },
  {
   "cell_type": "code",
   "execution_count": null,
   "metadata": {},
   "outputs": [],
   "source": [
    "no_chains['biz_name'].describe()"
   ]
  },
  {
   "cell_type": "code",
   "execution_count": null,
   "metadata": {},
   "outputs": [],
   "source": [
    "#TOTAL NUMBER OF NON-CHAIN RESTAURANTS PER ZIPCODE\n",
    "Without_Chains = no_chains['biz_zipcode'].value_counts()\n",
    "#TOTAL NUMBER OF RESTAURANTS PER ZIPCODE\n",
    "With_Chains = mi['biz_zipcode'].value_counts()\n",
    "#INSERTING BOTH OBJECTS INTO A NEW DATAFRAME\n",
    "df = pd.DataFrame({'Without Chains': Without_Chains,\n",
    "                   'With Chains': With_Chains})\n",
    "#PLOTTING THE DATAFRAME\n",
    "ax = df.plot.bar(figsize=(10,5))\n",
    "\n",
    "ax.set_title('Comparing Number of Non-Chain Restaurants Per Zip Code ')\n",
    "ax.set_xlabel('Zipcode')\n",
    "ax.set_ylabel('Number of Pizza Shops')\n",
    "plt.tight_layout()\n",
    "plt.savefig('Comp_Non_Pizza_Chains.png');"
   ]
  },
  {
   "cell_type": "code",
   "execution_count": null,
   "metadata": {
    "scrolled": true
   },
   "outputs": [],
   "source": [
    "# Sorts the number of pizzashops by zipcode and avgerage rating\n",
    "biz_zipcodes= pd.DataFrame(mi.groupby('biz_zipcode')['biz_rating'].mean())\n",
    "#Add New Column Equal to The Number Of Pizza Shops \n",
    "biz_zipcodes['#_pizzashops']= mi['biz_zipcode'].value_counts()\n",
    "biz_zipcodes.sort_values(by=['#_pizzashops'])"
   ]
  },
  {
   "cell_type": "code",
   "execution_count": null,
   "metadata": {},
   "outputs": [],
   "source": [
    "#Calling biz_zipcodes to check if cell above ran correctly\n",
    "biz_zipcodes"
   ]
  },
  {
   "cell_type": "code",
   "execution_count": null,
   "metadata": {},
   "outputs": [],
   "source": [
    "#Plotting Avg Biz Rating by Zip Code\n",
    "axes = biz_zipcodes['biz_rating'].plot.bar(rot=90, x='biz_rating')\n",
    "#Setting Chart Title\n",
    "axes.set_title('Average Pizza Shop Rating by Zipcode')\n",
    "#Setting X-axis label\n",
    "axes.set_xlabel('Zipcode')\n",
    "#Setting Y-axis label\n",
    "axes.set_ylabel('Avg. Rating')\n",
    "\n",
    "plt.tight_layout()\n",
    "plt.savefig('Avg_Rtng_by_Zip.png');"
   ]
  },
  {
   "cell_type": "markdown",
   "metadata": {},
   "source": [
    "## Conclusions"
   ]
  },
  {
   "cell_type": "markdown",
   "metadata": {},
   "source": [
    "- **The market for bike shops in Austin is already saturated.\n",
    "- **There are at least 5 nieighborhood markets which could benefit from a local pizza shop!\n",
    "- **Based on GeoData there is at least one zipcode in Austin that could net great potential profits!"
   ]
  }
 ],
 "metadata": {
  "kernelspec": {
   "display_name": "Python 3",
   "language": "python",
   "name": "python3"
  },
  "language_info": {
   "codemirror_mode": {
    "name": "ipython",
    "version": 3
   },
   "file_extension": ".py",
   "mimetype": "text/x-python",
   "name": "python",
   "nbconvert_exporter": "python",
   "pygments_lexer": "ipython3",
   "version": "3.8.5"
  },
  "toc": {
   "base_numbering": 1,
   "nav_menu": {},
   "number_sections": false,
   "sideBar": true,
   "skip_h1_title": false,
   "title_cell": "Table of Contents",
   "title_sidebar": "Contents",
   "toc_cell": false,
   "toc_position": {},
   "toc_section_display": true,
   "toc_window_display": false
  }
 },
 "nbformat": 4,
 "nbformat_minor": 2
}
