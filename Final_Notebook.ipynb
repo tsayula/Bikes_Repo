{
 "cells": [
  {
   "cell_type": "markdown",
   "metadata": {},
   "source": [
    "# Exploring The Pizza Shop Market in Austin, Texas\n"
   ]
  },
  {
   "cell_type": "markdown",
   "metadata": {},
   "source": [
    "This project aims to analyzes the local business needs of the great city of Austin, Texas, whos local slogan \"Keep Austin Weird\" was inspired by the cities small business alliance Austin Indepedent Business Alliance to promote small businesses!\n",
    "\n",
    "While Austin is a booming metropolis City, we aim to analyze whether a pizza shop or a bike shop would be more lucrative!\n",
    "Here you will find the analysis for Pizza Parlors!\n",
    "![Pizza vs. Bike Shops in Austin](https://upload.wikimedia.org/wikipedia/commons/a/a5/Austin_Evening.jpg)\n"
   ]
  },
  {
   "cell_type": "markdown",
   "metadata": {},
   "source": [
    "## Step 1 -  Data Acquisition"
   ]
  },
  {
   "cell_type": "code",
   "execution_count": 2,
   "metadata": {},
   "outputs": [],
   "source": [
    "import json\n",
    "import requests\n",
    "import sys\n",
    "import pandas as pd\n",
    "import csv\n",
    "import numpy as np\n",
    "import matplotlib.pyplot as plt\n",
    "%matplotlib inline"
   ]
  },
  {
   "cell_type": "code",
   "execution_count": 3,
   "metadata": {},
   "outputs": [],
   "source": [
    "url = 'https://api.yelp.com/v3/businesses/search'"
   ]
  },
  {
   "cell_type": "code",
   "execution_count": 4,
   "metadata": {},
   "outputs": [],
   "source": [
    "\n",
    "client_id='xE4kok90S-xFwr7MHBHfVA'\n",
    "\n",
    "api_key='h0lgHlxjtHAaKq3hStUCvENBTgnKrlKvNLW64QxKW1RJlplyYPaG8VKIaE9JcajqI0ME92y9BEOJ5h18J2SCw-YrwlZ1-aA_UYGR3fRcggWrbgu15nBdlfTuNLQyYHYx'"
   ]
  },
  {
   "cell_type": "code",
   "execution_count": 5,
   "metadata": {},
   "outputs": [],
   "source": [
    "headers = {'Authorization':'Bearer {}'.format(api_key),}"
   ]
  },
  {
   "cell_type": "code",
   "execution_count": 6,
   "metadata": {},
   "outputs": [],
   "source": [
    "term= 'restaurants'\n",
    "location='Austin'\n",
    "categories='pizza'"
   ]
  },
  {
   "cell_type": "code",
   "execution_count": 7,
   "metadata": {},
   "outputs": [],
   "source": [
    "url_params = {\n",
    "                \"term\": term.replace(' ', '+'),\n",
    "                \"location\": location.replace(' ', '+'),\n",
    "                \"categories\" : categories,\n",
    "                \"limit\": 50,\n",
    "    \n",
    "            }"
   ]
  },
  {
   "cell_type": "code",
   "execution_count": 8,
   "metadata": {},
   "outputs": [],
   "source": [
    "def yelp_call(url_params, api_key):\n",
    "    \n",
    "    response= requests.get(url, headers=headers, params=url_params)  \n",
    "    \n",
    "    if response.status_code==200:\n",
    "        return response.json()\n",
    "     \n",
    "    else: \n",
    "        return response.status_code\n",
    "    \n"
   ]
  },
  {
   "cell_type": "code",
   "execution_count": 9,
   "metadata": {},
   "outputs": [],
   "source": [
    "def parse_results(results):\n",
    "    parsed_results =[]\n",
    "    for biz in results:\n",
    "        if 'price' not in biz:\n",
    "            biz['price']= np.nan\n",
    "        biz_info= ( biz['id'],\n",
    "                   biz['name'],\n",
    "                   biz['rating'],\n",
    "                   biz['review_count'],\n",
    "                   biz['price'],\n",
    "                   )\n",
    "        parsed_results.append(biz_info)\n",
    "    \n",
    "    return parsed_results\n",
    "\n"
   ]
  },
  {
   "cell_type": "code",
   "execution_count": 10,
   "metadata": {},
   "outputs": [],
   "source": [
    "def df_save(csv_filepath, parsed_results):\n",
    "    \n",
    "    \n",
    "    pr_df= pd.DataFrame(parsed_results, columns= \n",
    "             ['business_id','biz_name', 'biz_rating', 'biz_review_count', 'biz_price'])\n",
    "    \n",
    "    pr_csv=pr_df.to_csv(path_or_buf=csv_filepath, mode=\"a\", header=False)\n",
    "   \n",
    "    return print(\"Results added!\")\n",
    "   "
   ]
  },
  {
   "cell_type": "code",
   "execution_count": 11,
   "metadata": {},
   "outputs": [
    {
     "name": "stdout",
     "output_type": "stream",
     "text": [
      "Results added!\n",
      "Results added!\n",
      "Results added!\n",
      "Results added!\n",
      "Results added!\n",
      "Results added!\n",
      "Results added!\n",
      "Results added!\n",
      "Results added!\n",
      "Results added!\n",
      "Results added!\n",
      "Results added!\n",
      "Results added!\n",
      "Results added!\n",
      "Results added!\n",
      "Results added!\n",
      "Results added!\n",
      "Results added!\n",
      "Results added!\n",
      "Results added!\n"
     ]
    }
   ],
   "source": [
    "# create a variable  to keep track of which result you are in. \n",
    "cur = 0\n",
    "\n",
    "#set up a while loop to go through and grab the result \n",
    "while cur < 1000:\n",
    "    #set the offset parameter to be where you currently are in the results \n",
    "    url_params['offset'] = cur\n",
    "    #make your API call with the new offset number\n",
    "    results =  yelp_call(url_params, api_key)\n",
    "    \n",
    "    #after you get your results you can now use your function to parse those results\n",
    "    new_parsed_results = parse_results(results['businesses'])\n",
    "    \n",
    "    # use your function to insert your parsed results into the db\n",
    "    df_save('/Users/leratsayukova/Documents/Flatiron/Bikes_Repo/data/csv_data_pizza', new_parsed_results)\n",
    "    \n",
    "    #increment the counter by 50 to move on to the next results\n",
    "    cur += 50"
   ]
  },
  {
   "cell_type": "code",
   "execution_count": 12,
   "metadata": {},
   "outputs": [],
   "source": [
    "pizza_data= pd.read_csv('/Users/leratsayukova/Documents/Flatiron/Bikes_Repo/data/csv_data_pizza', header=0, \n",
    "                       names=['business_id','biz_name', 'biz_rating', 'biz_review_count', 'biz_price']).reset_index(drop=True)"
   ]
  },
  {
   "cell_type": "code",
   "execution_count": 13,
   "metadata": {},
   "outputs": [
    {
     "data": {
      "text/html": [
       "<div>\n",
       "<style scoped>\n",
       "    .dataframe tbody tr th:only-of-type {\n",
       "        vertical-align: middle;\n",
       "    }\n",
       "\n",
       "    .dataframe tbody tr th {\n",
       "        vertical-align: top;\n",
       "    }\n",
       "\n",
       "    .dataframe thead th {\n",
       "        text-align: right;\n",
       "    }\n",
       "</style>\n",
       "<table border=\"1\" class=\"dataframe\">\n",
       "  <thead>\n",
       "    <tr style=\"text-align: right;\">\n",
       "      <th></th>\n",
       "      <th>business_id</th>\n",
       "      <th>biz_name</th>\n",
       "      <th>biz_rating</th>\n",
       "      <th>biz_review_count</th>\n",
       "      <th>biz_price</th>\n",
       "    </tr>\n",
       "  </thead>\n",
       "  <tbody>\n",
       "    <tr>\n",
       "      <th>0</th>\n",
       "      <td>8sEbM_ACHUbBsZ-TRZFXWA</td>\n",
       "      <td>Home Slice Pizza</td>\n",
       "      <td>4.5</td>\n",
       "      <td>450</td>\n",
       "      <td>$$</td>\n",
       "    </tr>\n",
       "    <tr>\n",
       "      <th>1</th>\n",
       "      <td>raXi6598v97VVJGxuet_ZQ</td>\n",
       "      <td>Cucina on 35th</td>\n",
       "      <td>4.0</td>\n",
       "      <td>217</td>\n",
       "      <td>$$</td>\n",
       "    </tr>\n",
       "    <tr>\n",
       "      <th>2</th>\n",
       "      <td>vo1MjyIvHbAJ93PasKHIRg</td>\n",
       "      <td>The Grove Wine Bar &amp; Kitchen</td>\n",
       "      <td>4.0</td>\n",
       "      <td>288</td>\n",
       "      <td>$$</td>\n",
       "    </tr>\n",
       "    <tr>\n",
       "      <th>3</th>\n",
       "      <td>lnxDPi7QcCqp733mTOJcZA</td>\n",
       "      <td>Bufalina Due</td>\n",
       "      <td>4.0</td>\n",
       "      <td>124</td>\n",
       "      <td>$$</td>\n",
       "    </tr>\n",
       "    <tr>\n",
       "      <th>4</th>\n",
       "      <td>ac1jxd_s57WrIv0NS_TmTA</td>\n",
       "      <td>Shortie’s Pizza &amp; Grinders</td>\n",
       "      <td>4.5</td>\n",
       "      <td>17</td>\n",
       "      <td>NaN</td>\n",
       "    </tr>\n",
       "    <tr>\n",
       "      <th>...</th>\n",
       "      <td>...</td>\n",
       "      <td>...</td>\n",
       "      <td>...</td>\n",
       "      <td>...</td>\n",
       "      <td>...</td>\n",
       "    </tr>\n",
       "    <tr>\n",
       "      <th>184</th>\n",
       "      <td>oSgSc5DkIbROamnRvdFQdA</td>\n",
       "      <td>Pizza Hut</td>\n",
       "      <td>1.5</td>\n",
       "      <td>63</td>\n",
       "      <td>$</td>\n",
       "    </tr>\n",
       "    <tr>\n",
       "      <th>185</th>\n",
       "      <td>DzoA4WmoAMKLo4rrxNfRVQ</td>\n",
       "      <td>Pizza Hut</td>\n",
       "      <td>1.5</td>\n",
       "      <td>34</td>\n",
       "      <td>$</td>\n",
       "    </tr>\n",
       "    <tr>\n",
       "      <th>186</th>\n",
       "      <td>OByeJPOz-WEENn1HuMVCtQ</td>\n",
       "      <td>Domino's Pizza</td>\n",
       "      <td>2.5</td>\n",
       "      <td>46</td>\n",
       "      <td>$</td>\n",
       "    </tr>\n",
       "    <tr>\n",
       "      <th>187</th>\n",
       "      <td>dXVHhocSRZpn9EWHFPHzfg</td>\n",
       "      <td>Little Caesars Pizza</td>\n",
       "      <td>1.0</td>\n",
       "      <td>4</td>\n",
       "      <td>$</td>\n",
       "    </tr>\n",
       "    <tr>\n",
       "      <th>188</th>\n",
       "      <td>CKfDAKaYis5EoAaKGUA8cw</td>\n",
       "      <td>Domino's Pizza</td>\n",
       "      <td>2.5</td>\n",
       "      <td>27</td>\n",
       "      <td>$</td>\n",
       "    </tr>\n",
       "  </tbody>\n",
       "</table>\n",
       "<p>189 rows × 5 columns</p>\n",
       "</div>"
      ],
      "text/plain": [
       "                business_id                      biz_name  biz_rating  \\\n",
       "0    8sEbM_ACHUbBsZ-TRZFXWA              Home Slice Pizza         4.5   \n",
       "1    raXi6598v97VVJGxuet_ZQ                Cucina on 35th         4.0   \n",
       "2    vo1MjyIvHbAJ93PasKHIRg  The Grove Wine Bar & Kitchen         4.0   \n",
       "3    lnxDPi7QcCqp733mTOJcZA                  Bufalina Due         4.0   \n",
       "4    ac1jxd_s57WrIv0NS_TmTA    Shortie’s Pizza & Grinders         4.5   \n",
       "..                      ...                           ...         ...   \n",
       "184  oSgSc5DkIbROamnRvdFQdA                     Pizza Hut         1.5   \n",
       "185  DzoA4WmoAMKLo4rrxNfRVQ                     Pizza Hut         1.5   \n",
       "186  OByeJPOz-WEENn1HuMVCtQ                Domino's Pizza         2.5   \n",
       "187  dXVHhocSRZpn9EWHFPHzfg          Little Caesars Pizza         1.0   \n",
       "188  CKfDAKaYis5EoAaKGUA8cw                Domino's Pizza         2.5   \n",
       "\n",
       "     biz_review_count biz_price  \n",
       "0                 450        $$  \n",
       "1                 217        $$  \n",
       "2                 288        $$  \n",
       "3                 124        $$  \n",
       "4                  17       NaN  \n",
       "..                ...       ...  \n",
       "184                63         $  \n",
       "185                34         $  \n",
       "186                46         $  \n",
       "187                 4         $  \n",
       "188                27         $  \n",
       "\n",
       "[189 rows x 5 columns]"
      ]
     },
     "execution_count": 13,
     "metadata": {},
     "output_type": "execute_result"
    }
   ],
   "source": [
    "pizza_index= pizza_data[pizza_data['business_id']== 'business_id'].index\n",
    "pizza_data.drop(pizza_index, inplace=True)\n",
    "Pizza_data = pizza_data\n",
    "Pizza_data"
   ]
  },
  {
   "cell_type": "code",
   "execution_count": 14,
   "metadata": {},
   "outputs": [],
   "source": [
    "pizza_biz_ids=Pizza_data.loc[:,'business_id'].to_list()\n",
    "pizza_biz_ids_lst=list(set(pizza_biz_ids))"
   ]
  },
  {
   "cell_type": "code",
   "execution_count": 15,
   "metadata": {},
   "outputs": [],
   "source": [
    "def yelp_call_reviews(url_review, api_key):\n",
    "    response= requests.get(url_reviews, headers=headers)  \n",
    "    if response.status_code==200:\n",
    "        return response.json()\n",
    "    else: \n",
    "        return response.status_code"
   ]
  },
  {
   "cell_type": "code",
   "execution_count": 16,
   "metadata": {},
   "outputs": [],
   "source": [
    "def parse_reviews(bid, reviews):\n",
    "    parsed_reviews =[]\n",
    "    for review in reviews:\n",
    "        review_info= ( bid,\n",
    "                    review['id'],\n",
    "                    review['text'],\n",
    "                    review['rating'] \n",
    "                           )\n",
    "        parsed_reviews.append(review_info)\n",
    "        \n",
    "    return parsed_reviews"
   ]
  },
  {
   "cell_type": "code",
   "execution_count": 17,
   "metadata": {},
   "outputs": [],
   "source": [
    "def df_save_reviews(csv_filepath, parsed_reviews):\n",
    "    \n",
    "    \n",
    "    pr_df= pd.DataFrame(parsed_reviews, columns= \n",
    "             ['business_id','id','text', 'rating'])\n",
    "    \n",
    "    pr_csv=pr_df.to_csv(path_or_buf=csv_filepath, mode=\"a\", header=False)\n",
    "   \n",
    "    return print(\"Results added!\")"
   ]
  },
  {
   "cell_type": "code",
   "execution_count": 18,
   "metadata": {},
   "outputs": [
    {
     "name": "stdout",
     "output_type": "stream",
     "text": [
      "Results added!\n",
      "Results added!\n",
      "Results added!\n",
      "Results added!\n",
      "Results added!\n",
      "Results added!\n",
      "Results added!\n",
      "Results added!\n",
      "Results added!\n",
      "Results added!\n",
      "Results added!\n",
      "Results added!\n",
      "Results added!\n",
      "Results added!\n",
      "Results added!\n",
      "Results added!\n",
      "Results added!\n",
      "Results added!\n",
      "Results added!\n",
      "Results added!\n",
      "Results added!\n",
      "Results added!\n",
      "Results added!\n",
      "Results added!\n",
      "Results added!\n",
      "Results added!\n",
      "Results added!\n",
      "Results added!\n",
      "Results added!\n",
      "Results added!\n",
      "Results added!\n",
      "Results added!\n",
      "Results added!\n",
      "Results added!\n",
      "Results added!\n",
      "Results added!\n",
      "Results added!\n",
      "Results added!\n",
      "Results added!\n",
      "Results added!\n",
      "Results added!\n",
      "Results added!\n",
      "Results added!\n",
      "Results added!\n",
      "Results added!\n",
      "Results added!\n",
      "Results added!\n",
      "Results added!\n",
      "Results added!\n",
      "Results added!\n",
      "Results added!\n",
      "Results added!\n",
      "Results added!\n",
      "Results added!\n",
      "Results added!\n",
      "Results added!\n",
      "Results added!\n",
      "Results added!\n",
      "Results added!\n",
      "Results added!\n",
      "Results added!\n",
      "Results added!\n",
      "Results added!\n",
      "Results added!\n",
      "Results added!\n",
      "Results added!\n",
      "Results added!\n",
      "Results added!\n",
      "Results added!\n",
      "Results added!\n",
      "Results added!\n",
      "Results added!\n",
      "Results added!\n",
      "Results added!\n",
      "Results added!\n",
      "Results added!\n",
      "Results added!\n",
      "Results added!\n",
      "Results added!\n",
      "Results added!\n",
      "Results added!\n",
      "Results added!\n",
      "Results added!\n",
      "Results added!\n",
      "Results added!\n",
      "Results added!\n",
      "Results added!\n",
      "Results added!\n",
      "Results added!\n",
      "Results added!\n",
      "Results added!\n",
      "Results added!\n",
      "Results added!\n",
      "Results added!\n",
      "Results added!\n",
      "Results added!\n",
      "Results added!\n",
      "Results added!\n",
      "Results added!\n",
      "Results added!\n",
      "Results added!\n",
      "Results added!\n",
      "Results added!\n",
      "Results added!\n",
      "Results added!\n",
      "Results added!\n",
      "Results added!\n",
      "Results added!\n",
      "Results added!\n",
      "Results added!\n",
      "Results added!\n",
      "Results added!\n",
      "Results added!\n",
      "Results added!\n",
      "Results added!\n",
      "Results added!\n",
      "Results added!\n",
      "Results added!\n",
      "Results added!\n",
      "Results added!\n",
      "Results added!\n",
      "Results added!\n",
      "Results added!\n",
      "Results added!\n",
      "Results added!\n",
      "Results added!\n",
      "Results added!\n",
      "Results added!\n",
      "Results added!\n",
      "Results added!\n",
      "Results added!\n",
      "Results added!\n",
      "Results added!\n",
      "Results added!\n",
      "Results added!\n",
      "Results added!\n",
      "Results added!\n",
      "Results added!\n",
      "Results added!\n",
      "Results added!\n",
      "Results added!\n",
      "Results added!\n",
      "Results added!\n",
      "Results added!\n",
      "Results added!\n",
      "Results added!\n",
      "Results added!\n",
      "Results added!\n",
      "Results added!\n",
      "Results added!\n",
      "Results added!\n",
      "Results added!\n",
      "Results added!\n",
      "Results added!\n",
      "Results added!\n",
      "Results added!\n",
      "Results added!\n",
      "Results added!\n",
      "Results added!\n",
      "Results added!\n",
      "Results added!\n",
      "Results added!\n",
      "Results added!\n",
      "Results added!\n",
      "Results added!\n",
      "Results added!\n",
      "Results added!\n",
      "Results added!\n",
      "Results added!\n",
      "Results added!\n",
      "Results added!\n",
      "Results added!\n",
      "Results added!\n",
      "Results added!\n",
      "Results added!\n",
      "Results added!\n",
      "Results added!\n",
      "Results added!\n",
      "Results added!\n",
      "Results added!\n",
      "Results added!\n",
      "Results added!\n",
      "Results added!\n",
      "Results added!\n",
      "Results added!\n",
      "Results added!\n",
      "Results added!\n",
      "Results added!\n",
      "Results added!\n"
     ]
    }
   ],
   "source": [
    "for bid in pizza_biz_ids_lst:\n",
    "# #     print(bid)\n",
    "    url_reviews='https://api.yelp.com/v3/businesses/' + bid + '/reviews'\n",
    "    url_data = yelp_call_reviews(url_reviews, api_key)\n",
    "    new_reviews = yelp_call_reviews(bid, api_key)\n",
    "    #after you get your results you can now use your function to parse those results\n",
    "    new_parsed_reviews = parse_reviews(bid, new_reviews['reviews'])\n",
    "     # use your function to insert your parsed results into the db\n",
    "    df_save_reviews('/Users/leratsayukova/Documents/Flatiron/Bikes_Repo/data/csv_reviews_pizza', new_parsed_reviews)"
   ]
  },
  {
   "cell_type": "code",
   "execution_count": 19,
   "metadata": {},
   "outputs": [],
   "source": [
    "Reviews_csv=pd.read_csv('/Users/leratsayukova/Documents/Flatiron/Bikes_Repo/data/csv_reviews_pizza', \n",
    "            names=['business_id','review_id', 'text', 'rating']).reset_index(drop=True)"
   ]
  },
  {
   "cell_type": "code",
   "execution_count": 20,
   "metadata": {},
   "outputs": [
    {
     "data": {
      "text/html": [
       "<div>\n",
       "<style scoped>\n",
       "    .dataframe tbody tr th:only-of-type {\n",
       "        vertical-align: middle;\n",
       "    }\n",
       "\n",
       "    .dataframe tbody tr th {\n",
       "        vertical-align: top;\n",
       "    }\n",
       "\n",
       "    .dataframe thead th {\n",
       "        text-align: right;\n",
       "    }\n",
       "</style>\n",
       "<table border=\"1\" class=\"dataframe\">\n",
       "  <thead>\n",
       "    <tr style=\"text-align: right;\">\n",
       "      <th></th>\n",
       "      <th>business_id</th>\n",
       "      <th>review_id</th>\n",
       "      <th>text</th>\n",
       "      <th>rating</th>\n",
       "    </tr>\n",
       "  </thead>\n",
       "  <tbody>\n",
       "    <tr>\n",
       "      <th>0</th>\n",
       "      <td>XSfZSHdhyCLgVbomTnmadw</td>\n",
       "      <td>tJb2xgA_ss_mUJEtxvLuKA</td>\n",
       "      <td>South Flo Pizza is located right inside the en...</td>\n",
       "      <td>5</td>\n",
       "    </tr>\n",
       "    <tr>\n",
       "      <th>1</th>\n",
       "      <td>XSfZSHdhyCLgVbomTnmadw</td>\n",
       "      <td>OVxw_cN1doE-hz1YXOvUcA</td>\n",
       "      <td>Have had this place bookmarked for a long time...</td>\n",
       "      <td>3</td>\n",
       "    </tr>\n",
       "    <tr>\n",
       "      <th>2</th>\n",
       "      <td>XSfZSHdhyCLgVbomTnmadw</td>\n",
       "      <td>NSiUwCK3NlusaVufMCQixg</td>\n",
       "      <td>I had the Spicy Hawaiian and liked it! They ba...</td>\n",
       "      <td>5</td>\n",
       "    </tr>\n",
       "    <tr>\n",
       "      <th>3</th>\n",
       "      <td>8sEbM_ACHUbBsZ-TRZFXWA</td>\n",
       "      <td>_HVlihnf-vABOOHcLUKy-g</td>\n",
       "      <td>A favorite, one of my go-to pizza places. I've...</td>\n",
       "      <td>5</td>\n",
       "    </tr>\n",
       "    <tr>\n",
       "      <th>4</th>\n",
       "      <td>8sEbM_ACHUbBsZ-TRZFXWA</td>\n",
       "      <td>Q4DZ0as-PLwyBlNpgIcN5A</td>\n",
       "      <td>I cannot believe I keep forgetting to review H...</td>\n",
       "      <td>5</td>\n",
       "    </tr>\n",
       "    <tr>\n",
       "      <th>...</th>\n",
       "      <td>...</td>\n",
       "      <td>...</td>\n",
       "      <td>...</td>\n",
       "      <td>...</td>\n",
       "    </tr>\n",
       "    <tr>\n",
       "      <th>544</th>\n",
       "      <td>1Eq16r_MSnvPsnIykBdy9w</td>\n",
       "      <td>NqNe89aIfQV8hFZEG8KlrA</td>\n",
       "      <td>[covid review]\\nExceptional service! I got a c...</td>\n",
       "      <td>5</td>\n",
       "    </tr>\n",
       "    <tr>\n",
       "      <th>545</th>\n",
       "      <td>1Eq16r_MSnvPsnIykBdy9w</td>\n",
       "      <td>lg-H_1OcASgtk2VXbH4XRw</td>\n",
       "      <td>My boyfriend is a true New Yorker. Since we ha...</td>\n",
       "      <td>5</td>\n",
       "    </tr>\n",
       "    <tr>\n",
       "      <th>546</th>\n",
       "      <td>gYIZEzeIgPNPNZsL9qbcvg</td>\n",
       "      <td>Y6GsFl1yTo8o4r3zGXPvqg</td>\n",
       "      <td>Very nice place to spend a few hours with the ...</td>\n",
       "      <td>4</td>\n",
       "    </tr>\n",
       "    <tr>\n",
       "      <th>547</th>\n",
       "      <td>gYIZEzeIgPNPNZsL9qbcvg</td>\n",
       "      <td>iXAPVo-egELQRPzWhp3f0g</td>\n",
       "      <td>They have made some improvements since the las...</td>\n",
       "      <td>4</td>\n",
       "    </tr>\n",
       "    <tr>\n",
       "      <th>548</th>\n",
       "      <td>gYIZEzeIgPNPNZsL9qbcvg</td>\n",
       "      <td>JQ7xzLwAgt8fw7RuEnKLQg</td>\n",
       "      <td>We absolutely love it here! It's cheap and fun...</td>\n",
       "      <td>5</td>\n",
       "    </tr>\n",
       "  </tbody>\n",
       "</table>\n",
       "<p>549 rows × 4 columns</p>\n",
       "</div>"
      ],
      "text/plain": [
       "                business_id               review_id  \\\n",
       "0    XSfZSHdhyCLgVbomTnmadw  tJb2xgA_ss_mUJEtxvLuKA   \n",
       "1    XSfZSHdhyCLgVbomTnmadw  OVxw_cN1doE-hz1YXOvUcA   \n",
       "2    XSfZSHdhyCLgVbomTnmadw  NSiUwCK3NlusaVufMCQixg   \n",
       "3    8sEbM_ACHUbBsZ-TRZFXWA  _HVlihnf-vABOOHcLUKy-g   \n",
       "4    8sEbM_ACHUbBsZ-TRZFXWA  Q4DZ0as-PLwyBlNpgIcN5A   \n",
       "..                      ...                     ...   \n",
       "544  1Eq16r_MSnvPsnIykBdy9w  NqNe89aIfQV8hFZEG8KlrA   \n",
       "545  1Eq16r_MSnvPsnIykBdy9w  lg-H_1OcASgtk2VXbH4XRw   \n",
       "546  gYIZEzeIgPNPNZsL9qbcvg  Y6GsFl1yTo8o4r3zGXPvqg   \n",
       "547  gYIZEzeIgPNPNZsL9qbcvg  iXAPVo-egELQRPzWhp3f0g   \n",
       "548  gYIZEzeIgPNPNZsL9qbcvg  JQ7xzLwAgt8fw7RuEnKLQg   \n",
       "\n",
       "                                                  text  rating  \n",
       "0    South Flo Pizza is located right inside the en...       5  \n",
       "1    Have had this place bookmarked for a long time...       3  \n",
       "2    I had the Spicy Hawaiian and liked it! They ba...       5  \n",
       "3    A favorite, one of my go-to pizza places. I've...       5  \n",
       "4    I cannot believe I keep forgetting to review H...       5  \n",
       "..                                                 ...     ...  \n",
       "544  [covid review]\\nExceptional service! I got a c...       5  \n",
       "545  My boyfriend is a true New Yorker. Since we ha...       5  \n",
       "546  Very nice place to spend a few hours with the ...       4  \n",
       "547  They have made some improvements since the las...       4  \n",
       "548  We absolutely love it here! It's cheap and fun...       5  \n",
       "\n",
       "[549 rows x 4 columns]"
      ]
     },
     "execution_count": 20,
     "metadata": {},
     "output_type": "execute_result"
    }
   ],
   "source": [
    "Reviews_csv"
   ]
  },
  {
   "cell_type": "code",
   "execution_count": 21,
   "metadata": {},
   "outputs": [],
   "source": [
    "term_two= 'restaurants'\n",
    "location_two='Austin'\n",
    "categories_two='tacos'"
   ]
  },
  {
   "cell_type": "code",
   "execution_count": 22,
   "metadata": {},
   "outputs": [],
   "source": [
    "url_params_two = {\n",
    "                \"term\": term_two.replace(' ', '+'),\n",
    "                \"location\": location_two.replace(' ', '+'),\n",
    "                \"categories\" : categories_two,\n",
    "                \"limit\": 50,\n",
    "                }"
   ]
  },
  {
   "cell_type": "code",
   "execution_count": 55,
   "metadata": {},
   "outputs": [
    {
     "name": "stdout",
     "output_type": "stream",
     "text": [
      "Results added!\n",
      "Results added!\n",
      "Results added!\n",
      "Results added!\n",
      "Results added!\n",
      "Results added!\n",
      "Results added!\n",
      "Results added!\n",
      "Results added!\n",
      "Results added!\n",
      "Results added!\n",
      "Results added!\n",
      "Results added!\n",
      "Results added!\n",
      "Results added!\n",
      "Results added!\n",
      "Results added!\n",
      "Results added!\n",
      "Results added!\n",
      "Results added!\n"
     ]
    }
   ],
   "source": [
    "# create a variable  to keep track of which result you are in. \n",
    "cur_two = 0\n",
    "\n",
    "#set up a while loop to go through and grab the result \n",
    "while cur_two < 1000:\n",
    "    #set the offset parameter to be where you currently are in the results \n",
    "    url_params_two['offset'] = cur_two\n",
    "    #make your API call with the new offset number\n",
    "    results_two =  yelp_call(url_params_two, api_key)\n",
    "    \n",
    "    #after you get your results you can now use your function to parse those results\n",
    "    new_parsed_results_two = parse_results(results_two['businesses'])\n",
    "    \n",
    "    # use your function to insert your parsed results into the db\n",
    "    df_save('/Users/leratsayukova/Documents/Flatiron/Bikes_Repo/data/csv_data_taco', new_parsed_results_two)\n",
    "    \n",
    "    #increment the counter by 50 to move on to the next results\n",
    "    cur_two += 50"
   ]
  },
  {
   "cell_type": "code",
   "execution_count": 56,
   "metadata": {
    "scrolled": true
   },
   "outputs": [
    {
     "data": {
      "text/html": [
       "<div>\n",
       "<style scoped>\n",
       "    .dataframe tbody tr th:only-of-type {\n",
       "        vertical-align: middle;\n",
       "    }\n",
       "\n",
       "    .dataframe tbody tr th {\n",
       "        vertical-align: top;\n",
       "    }\n",
       "\n",
       "    .dataframe thead th {\n",
       "        text-align: right;\n",
       "    }\n",
       "</style>\n",
       "<table border=\"1\" class=\"dataframe\">\n",
       "  <thead>\n",
       "    <tr style=\"text-align: right;\">\n",
       "      <th></th>\n",
       "      <th>business_id</th>\n",
       "      <th>biz_name</th>\n",
       "      <th>biz_rating</th>\n",
       "      <th>biz_review_count</th>\n",
       "      <th>biz_price</th>\n",
       "    </tr>\n",
       "  </thead>\n",
       "  <tbody>\n",
       "    <tr>\n",
       "      <th>0</th>\n",
       "      <td>ec6X_eh2wyzFLqHbApAsuw</td>\n",
       "      <td>Pepe’s Tacos</td>\n",
       "      <td>4.5</td>\n",
       "      <td>60</td>\n",
       "      <td>NaN</td>\n",
       "    </tr>\n",
       "    <tr>\n",
       "      <th>1</th>\n",
       "      <td>gXlrgQkkdCc9iESuRlN_Uw</td>\n",
       "      <td>La Tunita 512</td>\n",
       "      <td>5.0</td>\n",
       "      <td>82</td>\n",
       "      <td>$</td>\n",
       "    </tr>\n",
       "    <tr>\n",
       "      <th>2</th>\n",
       "      <td>eUD2rCO5pfus19UN34Cgzw</td>\n",
       "      <td>FoodHeads</td>\n",
       "      <td>4.5</td>\n",
       "      <td>543</td>\n",
       "      <td>$$</td>\n",
       "    </tr>\n",
       "    <tr>\n",
       "      <th>3</th>\n",
       "      <td>_1lwieLPTdvfbEStNTnzDg</td>\n",
       "      <td>Taco Flats</td>\n",
       "      <td>4.0</td>\n",
       "      <td>45</td>\n",
       "      <td>NaN</td>\n",
       "    </tr>\n",
       "    <tr>\n",
       "      <th>4</th>\n",
       "      <td>496M41oU_3EehWQZMTkCgw</td>\n",
       "      <td>Lady Elaine</td>\n",
       "      <td>5.0</td>\n",
       "      <td>2</td>\n",
       "      <td>NaN</td>\n",
       "    </tr>\n",
       "    <tr>\n",
       "      <th>...</th>\n",
       "      <td>...</td>\n",
       "      <td>...</td>\n",
       "      <td>...</td>\n",
       "      <td>...</td>\n",
       "      <td>...</td>\n",
       "    </tr>\n",
       "    <tr>\n",
       "      <th>136</th>\n",
       "      <td>5N4bHv9sTm1JsDqhDWz-tA</td>\n",
       "      <td>Jack in the Box</td>\n",
       "      <td>2.5</td>\n",
       "      <td>18</td>\n",
       "      <td>$</td>\n",
       "    </tr>\n",
       "    <tr>\n",
       "      <th>137</th>\n",
       "      <td>NGYrEfaPyLhRvQvooa1cuQ</td>\n",
       "      <td>IBM Cafeteria</td>\n",
       "      <td>2.0</td>\n",
       "      <td>1</td>\n",
       "      <td>NaN</td>\n",
       "    </tr>\n",
       "    <tr>\n",
       "      <th>138</th>\n",
       "      <td>ehSTouF01blyKxwIxZQKjw</td>\n",
       "      <td>Jack in the Box</td>\n",
       "      <td>1.5</td>\n",
       "      <td>22</td>\n",
       "      <td>$</td>\n",
       "    </tr>\n",
       "    <tr>\n",
       "      <th>139</th>\n",
       "      <td>e8iaAO6ukGxUxhbzHS2LQg</td>\n",
       "      <td>Jack in the Box</td>\n",
       "      <td>2.0</td>\n",
       "      <td>47</td>\n",
       "      <td>$</td>\n",
       "    </tr>\n",
       "    <tr>\n",
       "      <th>140</th>\n",
       "      <td>FwWVAykgrFME1jKs2ZmG_Q</td>\n",
       "      <td>Jack in the Box</td>\n",
       "      <td>2.0</td>\n",
       "      <td>23</td>\n",
       "      <td>$</td>\n",
       "    </tr>\n",
       "  </tbody>\n",
       "</table>\n",
       "<p>141 rows × 5 columns</p>\n",
       "</div>"
      ],
      "text/plain": [
       "                business_id         biz_name  biz_rating  biz_review_count  \\\n",
       "0    ec6X_eh2wyzFLqHbApAsuw     Pepe’s Tacos         4.5                60   \n",
       "1    gXlrgQkkdCc9iESuRlN_Uw    La Tunita 512         5.0                82   \n",
       "2    eUD2rCO5pfus19UN34Cgzw        FoodHeads         4.5               543   \n",
       "3    _1lwieLPTdvfbEStNTnzDg       Taco Flats         4.0                45   \n",
       "4    496M41oU_3EehWQZMTkCgw      Lady Elaine         5.0                 2   \n",
       "..                      ...              ...         ...               ...   \n",
       "136  5N4bHv9sTm1JsDqhDWz-tA  Jack in the Box         2.5                18   \n",
       "137  NGYrEfaPyLhRvQvooa1cuQ    IBM Cafeteria         2.0                 1   \n",
       "138  ehSTouF01blyKxwIxZQKjw  Jack in the Box         1.5                22   \n",
       "139  e8iaAO6ukGxUxhbzHS2LQg  Jack in the Box         2.0                47   \n",
       "140  FwWVAykgrFME1jKs2ZmG_Q  Jack in the Box         2.0                23   \n",
       "\n",
       "    biz_price  \n",
       "0         NaN  \n",
       "1           $  \n",
       "2          $$  \n",
       "3         NaN  \n",
       "4         NaN  \n",
       "..        ...  \n",
       "136         $  \n",
       "137       NaN  \n",
       "138         $  \n",
       "139         $  \n",
       "140         $  \n",
       "\n",
       "[141 rows x 5 columns]"
      ]
     },
     "execution_count": 56,
     "metadata": {},
     "output_type": "execute_result"
    }
   ],
   "source": [
    "taco_data= pd.read_csv('/Users/leratsayukova/Documents/Flatiron/Bikes_Repo/data/csv_data_taco',\n",
    "                       names=['business_id','biz_name', 'biz_rating', 'biz_review_count', 'biz_price']).reset_index(drop=True)\n",
    "taco_index= taco_data[taco_data['business_id']== 'business_id'].index\n",
    "taco_data.drop(taco_index, inplace=True)\n",
    "Taco_data = taco_data\n",
    "taco_biz_ids= Taco_data.loc[:,'business_id'].to_list()\n",
    "taco_biz_ids_lst= list(set(taco_biz_ids))\n",
    "Taco_data"
   ]
  },
  {
   "cell_type": "code",
   "execution_count": 57,
   "metadata": {},
   "outputs": [
    {
     "data": {
      "text/plain": [
       "business_id         FwWVAykgrFME1jKs2ZmG_Q\n",
       "biz_name                   Jack in the Box\n",
       "biz_rating                               2\n",
       "biz_review_count                        23\n",
       "biz_price                                $\n",
       "Name: 140, dtype: object"
      ]
     },
     "execution_count": 57,
     "metadata": {},
     "output_type": "execute_result"
    }
   ],
   "source": [
    "Taco_data.iloc[140,:]"
   ]
  },
  {
   "cell_type": "code",
   "execution_count": 25,
   "metadata": {},
   "outputs": [
    {
     "name": "stdout",
     "output_type": "stream",
     "text": [
      "Results added!\n",
      "Results added!\n",
      "Results added!\n",
      "Results added!\n",
      "Results added!\n",
      "Results added!\n",
      "Results added!\n",
      "Results added!\n",
      "Results added!\n",
      "Results added!\n",
      "Results added!\n",
      "Results added!\n",
      "Results added!\n",
      "Results added!\n",
      "Results added!\n",
      "Results added!\n",
      "Results added!\n",
      "Results added!\n",
      "Results added!\n",
      "Results added!\n",
      "Results added!\n",
      "Results added!\n",
      "Results added!\n",
      "Results added!\n",
      "Results added!\n",
      "Results added!\n",
      "Results added!\n",
      "Results added!\n",
      "Results added!\n",
      "Results added!\n",
      "Results added!\n",
      "Results added!\n",
      "Results added!\n",
      "Results added!\n",
      "Results added!\n",
      "Results added!\n",
      "Results added!\n",
      "Results added!\n",
      "Results added!\n",
      "Results added!\n",
      "Results added!\n",
      "Results added!\n",
      "Results added!\n",
      "Results added!\n",
      "Results added!\n",
      "Results added!\n",
      "Results added!\n",
      "Results added!\n",
      "Results added!\n",
      "Results added!\n",
      "Results added!\n",
      "Results added!\n",
      "Results added!\n",
      "Results added!\n",
      "Results added!\n",
      "Results added!\n",
      "Results added!\n",
      "Results added!\n",
      "Results added!\n",
      "Results added!\n",
      "Results added!\n",
      "Results added!\n",
      "Results added!\n",
      "Results added!\n",
      "Results added!\n",
      "Results added!\n",
      "Results added!\n",
      "Results added!\n",
      "Results added!\n",
      "Results added!\n",
      "Results added!\n",
      "Results added!\n",
      "Results added!\n",
      "Results added!\n",
      "Results added!\n",
      "Results added!\n",
      "Results added!\n",
      "Results added!\n",
      "Results added!\n",
      "Results added!\n",
      "Results added!\n",
      "Results added!\n",
      "Results added!\n",
      "Results added!\n",
      "Results added!\n",
      "Results added!\n",
      "Results added!\n",
      "Results added!\n",
      "Results added!\n",
      "Results added!\n",
      "Results added!\n",
      "Results added!\n",
      "Results added!\n",
      "Results added!\n",
      "Results added!\n",
      "Results added!\n",
      "Results added!\n",
      "Results added!\n",
      "Results added!\n",
      "Results added!\n",
      "Results added!\n",
      "Results added!\n",
      "Results added!\n",
      "Results added!\n",
      "Results added!\n",
      "Results added!\n",
      "Results added!\n",
      "Results added!\n",
      "Results added!\n",
      "Results added!\n",
      "Results added!\n",
      "Results added!\n",
      "Results added!\n",
      "Results added!\n",
      "Results added!\n",
      "Results added!\n",
      "Results added!\n",
      "Results added!\n",
      "Results added!\n",
      "Results added!\n",
      "Results added!\n",
      "Results added!\n",
      "Results added!\n",
      "Results added!\n",
      "Results added!\n",
      "Results added!\n",
      "Results added!\n",
      "Results added!\n",
      "Results added!\n",
      "Results added!\n",
      "Results added!\n",
      "Results added!\n",
      "Results added!\n",
      "Results added!\n",
      "Results added!\n",
      "Results added!\n",
      "Results added!\n",
      "Results added!\n",
      "Results added!\n",
      "Results added!\n",
      "Results added!\n"
     ]
    }
   ],
   "source": [
    "for bid in taco_biz_ids_lst:\n",
    "# #     print(bid)\n",
    "    url_reviews='https://api.yelp.com/v3/businesses/' + bid + '/reviews'\n",
    "    url_data = yelp_call_reviews(url_reviews, api_key)\n",
    "    new_reviews = yelp_call_reviews(bid, api_key)\n",
    "    #after you get your results you can now use your function to parse those results\n",
    "    new_parsed_reviews = parse_reviews(bid, new_reviews['reviews'])\n",
    "     # use your function to insert your parsed results into the db\n",
    "    df_save_reviews('/Users/leratsayukova/Documents/Flatiron/Bikes_Repo/data/csv_reviews_taco', new_parsed_reviews)"
   ]
  },
  {
   "cell_type": "code",
   "execution_count": 58,
   "metadata": {},
   "outputs": [
    {
     "data": {
      "text/html": [
       "<div>\n",
       "<style scoped>\n",
       "    .dataframe tbody tr th:only-of-type {\n",
       "        vertical-align: middle;\n",
       "    }\n",
       "\n",
       "    .dataframe tbody tr th {\n",
       "        vertical-align: top;\n",
       "    }\n",
       "\n",
       "    .dataframe thead th {\n",
       "        text-align: right;\n",
       "    }\n",
       "</style>\n",
       "<table border=\"1\" class=\"dataframe\">\n",
       "  <thead>\n",
       "    <tr style=\"text-align: right;\">\n",
       "      <th></th>\n",
       "      <th>business_id</th>\n",
       "      <th>review_id</th>\n",
       "      <th>text</th>\n",
       "      <th>rating</th>\n",
       "    </tr>\n",
       "  </thead>\n",
       "  <tbody>\n",
       "    <tr>\n",
       "      <th>0</th>\n",
       "      <td>e8iaAO6ukGxUxhbzHS2LQg</td>\n",
       "      <td>v4lai9Uec0nDLcFcfE1xaw</td>\n",
       "      <td>First time visit (drive-thru) and staff was fr...</td>\n",
       "      <td>3</td>\n",
       "    </tr>\n",
       "    <tr>\n",
       "      <th>1</th>\n",
       "      <td>e8iaAO6ukGxUxhbzHS2LQg</td>\n",
       "      <td>BstPEkCPGJLchD3tZ89G0g</td>\n",
       "      <td>I have come to this location a couple times in...</td>\n",
       "      <td>1</td>\n",
       "    </tr>\n",
       "    <tr>\n",
       "      <th>2</th>\n",
       "      <td>e8iaAO6ukGxUxhbzHS2LQg</td>\n",
       "      <td>XbMHg2yhbqkjmCzwIRv_Fw</td>\n",
       "      <td>Sign says the drive thru is open 24 hrs but at...</td>\n",
       "      <td>1</td>\n",
       "    </tr>\n",
       "    <tr>\n",
       "      <th>3</th>\n",
       "      <td>00K-UTXqg9iDoMXB3QXh0A</td>\n",
       "      <td>BZfZfjZC5qiSxo7f__luXw</td>\n",
       "      <td>Admittedly I came here on New Years Eve for so...</td>\n",
       "      <td>4</td>\n",
       "    </tr>\n",
       "    <tr>\n",
       "      <th>4</th>\n",
       "      <td>00K-UTXqg9iDoMXB3QXh0A</td>\n",
       "      <td>7pPj2CsC2FTxsMOQP-NCtA</td>\n",
       "      <td>Really enjoyed the food and drinks here on my ...</td>\n",
       "      <td>4</td>\n",
       "    </tr>\n",
       "    <tr>\n",
       "      <th>...</th>\n",
       "      <td>...</td>\n",
       "      <td>...</td>\n",
       "      <td>...</td>\n",
       "      <td>...</td>\n",
       "    </tr>\n",
       "    <tr>\n",
       "      <th>383</th>\n",
       "      <td>ec6X_eh2wyzFLqHbApAsuw</td>\n",
       "      <td>gFRWl4w9l0xyJFv1kAyxMg</td>\n",
       "      <td>No frills, very oily, TASTY tacos! Get the thr...</td>\n",
       "      <td>5</td>\n",
       "    </tr>\n",
       "    <tr>\n",
       "      <th>384</th>\n",
       "      <td>ec6X_eh2wyzFLqHbApAsuw</td>\n",
       "      <td>C5AH1T54rqp8kzVW02LW4Q</td>\n",
       "      <td>The food was great! I got the taco combo with ...</td>\n",
       "      <td>5</td>\n",
       "    </tr>\n",
       "    <tr>\n",
       "      <th>385</th>\n",
       "      <td>X4FReQm8nmc3sON2aRoY1A</td>\n",
       "      <td>RPqjWASA0WIXFOrzB9YS0w</td>\n",
       "      <td>Late night tacos in my neighborhood and they d...</td>\n",
       "      <td>4</td>\n",
       "    </tr>\n",
       "    <tr>\n",
       "      <th>386</th>\n",
       "      <td>X4FReQm8nmc3sON2aRoY1A</td>\n",
       "      <td>rRHbhwsCTgxq8Dm0nFf9GA</td>\n",
       "      <td>Rachel is the best! Took great care of me and ...</td>\n",
       "      <td>5</td>\n",
       "    </tr>\n",
       "    <tr>\n",
       "      <th>387</th>\n",
       "      <td>X4FReQm8nmc3sON2aRoY1A</td>\n",
       "      <td>LkT8iAQDCZNLOl9_Z_H6fA</td>\n",
       "      <td>This place was well worth the walk! Our barten...</td>\n",
       "      <td>5</td>\n",
       "    </tr>\n",
       "  </tbody>\n",
       "</table>\n",
       "<p>388 rows × 4 columns</p>\n",
       "</div>"
      ],
      "text/plain": [
       "                business_id               review_id  \\\n",
       "0    e8iaAO6ukGxUxhbzHS2LQg  v4lai9Uec0nDLcFcfE1xaw   \n",
       "1    e8iaAO6ukGxUxhbzHS2LQg  BstPEkCPGJLchD3tZ89G0g   \n",
       "2    e8iaAO6ukGxUxhbzHS2LQg  XbMHg2yhbqkjmCzwIRv_Fw   \n",
       "3    00K-UTXqg9iDoMXB3QXh0A  BZfZfjZC5qiSxo7f__luXw   \n",
       "4    00K-UTXqg9iDoMXB3QXh0A  7pPj2CsC2FTxsMOQP-NCtA   \n",
       "..                      ...                     ...   \n",
       "383  ec6X_eh2wyzFLqHbApAsuw  gFRWl4w9l0xyJFv1kAyxMg   \n",
       "384  ec6X_eh2wyzFLqHbApAsuw  C5AH1T54rqp8kzVW02LW4Q   \n",
       "385  X4FReQm8nmc3sON2aRoY1A  RPqjWASA0WIXFOrzB9YS0w   \n",
       "386  X4FReQm8nmc3sON2aRoY1A  rRHbhwsCTgxq8Dm0nFf9GA   \n",
       "387  X4FReQm8nmc3sON2aRoY1A  LkT8iAQDCZNLOl9_Z_H6fA   \n",
       "\n",
       "                                                  text  rating  \n",
       "0    First time visit (drive-thru) and staff was fr...       3  \n",
       "1    I have come to this location a couple times in...       1  \n",
       "2    Sign says the drive thru is open 24 hrs but at...       1  \n",
       "3    Admittedly I came here on New Years Eve for so...       4  \n",
       "4    Really enjoyed the food and drinks here on my ...       4  \n",
       "..                                                 ...     ...  \n",
       "383  No frills, very oily, TASTY tacos! Get the thr...       5  \n",
       "384  The food was great! I got the taco combo with ...       5  \n",
       "385  Late night tacos in my neighborhood and they d...       4  \n",
       "386  Rachel is the best! Took great care of me and ...       5  \n",
       "387  This place was well worth the walk! Our barten...       5  \n",
       "\n",
       "[388 rows x 4 columns]"
      ]
     },
     "execution_count": 58,
     "metadata": {},
     "output_type": "execute_result"
    }
   ],
   "source": [
    "Taco_reviews=pd.read_csv('/Users/leratsayukova/Documents/Flatiron/Bikes_Repo/data/csv_reviews_taco', \n",
    "            names=['business_id','review_id', 'text', 'rating']).reset_index(drop=True)\n",
    "Taco_reviews"
   ]
  },
  {
   "cell_type": "markdown",
   "metadata": {},
   "source": [
    "## Part 4 -  Using python and pandas, write code to answer the questions below. \n",
    "\n",
    "\n",
    "- Which are the 5 most reviewed businesses in your dataset?\n",
    "- What is the highest rating recieved in your data set and how many businesses have that rating?\n",
    "- What percentage of businesses have a rating greater than or  4.5?\n",
    "- What percentage of businesses have a rating less than 3?\n",
    "- What percentage of your businesseshave a price label of one dollar sign? Two dollar signs? Three dollar signs? No dollar signs?\n",
    "- Return the text of the reviews for the most reviewed business. \n",
    "- Find the highest rated business and return text of the most recent review. If multiple business have the same rating, select the business with the most reviews. \n",
    "- Find the lowest rated business and return text of the most recent review.  If multiple business have the same rating, select the business with the least reviews. \n"
   ]
  },
  {
   "cell_type": "markdown",
   "metadata": {},
   "source": [
    "**Merged Business Data for Pizza with the Reviews Data**"
   ]
  },
  {
   "cell_type": "code",
   "execution_count": 59,
   "metadata": {},
   "outputs": [],
   "source": [
    "merged_pizza = pd.merge(left=Pizza_data, right=Reviews_csv, left_on='business_id', right_on='business_id')\n",
    "merged_pizza['category']= 'Pizza'\n"
   ]
  },
  {
   "cell_type": "code",
   "execution_count": 60,
   "metadata": {},
   "outputs": [
    {
     "data": {
      "text/html": [
       "<div>\n",
       "<style scoped>\n",
       "    .dataframe tbody tr th:only-of-type {\n",
       "        vertical-align: middle;\n",
       "    }\n",
       "\n",
       "    .dataframe tbody tr th {\n",
       "        vertical-align: top;\n",
       "    }\n",
       "\n",
       "    .dataframe thead th {\n",
       "        text-align: right;\n",
       "    }\n",
       "</style>\n",
       "<table border=\"1\" class=\"dataframe\">\n",
       "  <thead>\n",
       "    <tr style=\"text-align: right;\">\n",
       "      <th></th>\n",
       "      <th>business_id</th>\n",
       "      <th>biz_name</th>\n",
       "      <th>biz_rating</th>\n",
       "      <th>biz_review_count</th>\n",
       "      <th>biz_price</th>\n",
       "      <th>review_id</th>\n",
       "      <th>text</th>\n",
       "      <th>rating</th>\n",
       "      <th>category</th>\n",
       "    </tr>\n",
       "  </thead>\n",
       "  <tbody>\n",
       "    <tr>\n",
       "      <th>0</th>\n",
       "      <td>8sEbM_ACHUbBsZ-TRZFXWA</td>\n",
       "      <td>Home Slice Pizza</td>\n",
       "      <td>4.5</td>\n",
       "      <td>450</td>\n",
       "      <td>$$</td>\n",
       "      <td>_HVlihnf-vABOOHcLUKy-g</td>\n",
       "      <td>A favorite, one of my go-to pizza places. I've...</td>\n",
       "      <td>5</td>\n",
       "      <td>Pizza</td>\n",
       "    </tr>\n",
       "    <tr>\n",
       "      <th>1</th>\n",
       "      <td>8sEbM_ACHUbBsZ-TRZFXWA</td>\n",
       "      <td>Home Slice Pizza</td>\n",
       "      <td>4.5</td>\n",
       "      <td>450</td>\n",
       "      <td>$$</td>\n",
       "      <td>Q4DZ0as-PLwyBlNpgIcN5A</td>\n",
       "      <td>I cannot believe I keep forgetting to review H...</td>\n",
       "      <td>5</td>\n",
       "      <td>Pizza</td>\n",
       "    </tr>\n",
       "    <tr>\n",
       "      <th>2</th>\n",
       "      <td>8sEbM_ACHUbBsZ-TRZFXWA</td>\n",
       "      <td>Home Slice Pizza</td>\n",
       "      <td>4.5</td>\n",
       "      <td>450</td>\n",
       "      <td>$$</td>\n",
       "      <td>p-vbcqfmUu1zjk8NG6H5jw</td>\n",
       "      <td>The best NY style pizza in town. Pricy but gre...</td>\n",
       "      <td>5</td>\n",
       "      <td>Pizza</td>\n",
       "    </tr>\n",
       "    <tr>\n",
       "      <th>3</th>\n",
       "      <td>raXi6598v97VVJGxuet_ZQ</td>\n",
       "      <td>Cucina on 35th</td>\n",
       "      <td>4.0</td>\n",
       "      <td>217</td>\n",
       "      <td>$$</td>\n",
       "      <td>k5vYssr0YvG3Y9yA2KHEKQ</td>\n",
       "      <td>Italian for people who don't eat red meat! \\/\\...</td>\n",
       "      <td>4</td>\n",
       "      <td>Pizza</td>\n",
       "    </tr>\n",
       "    <tr>\n",
       "      <th>4</th>\n",
       "      <td>raXi6598v97VVJGxuet_ZQ</td>\n",
       "      <td>Cucina on 35th</td>\n",
       "      <td>4.0</td>\n",
       "      <td>217</td>\n",
       "      <td>$$</td>\n",
       "      <td>PHSF3eAh520CAWmBUICB2Q</td>\n",
       "      <td>Wow this place amazes me every time. I don't g...</td>\n",
       "      <td>5</td>\n",
       "      <td>Pizza</td>\n",
       "    </tr>\n",
       "    <tr>\n",
       "      <th>...</th>\n",
       "      <td>...</td>\n",
       "      <td>...</td>\n",
       "      <td>...</td>\n",
       "      <td>...</td>\n",
       "      <td>...</td>\n",
       "      <td>...</td>\n",
       "      <td>...</td>\n",
       "      <td>...</td>\n",
       "      <td>...</td>\n",
       "    </tr>\n",
       "    <tr>\n",
       "      <th>544</th>\n",
       "      <td>dXVHhocSRZpn9EWHFPHzfg</td>\n",
       "      <td>Little Caesars Pizza</td>\n",
       "      <td>1.0</td>\n",
       "      <td>4</td>\n",
       "      <td>$</td>\n",
       "      <td>A0mswzDLO8B2ruFjJR7dVQ</td>\n",
       "      <td>Put in a online order yesterday. Ordered one e...</td>\n",
       "      <td>1</td>\n",
       "      <td>Pizza</td>\n",
       "    </tr>\n",
       "    <tr>\n",
       "      <th>545</th>\n",
       "      <td>dXVHhocSRZpn9EWHFPHzfg</td>\n",
       "      <td>Little Caesars Pizza</td>\n",
       "      <td>1.0</td>\n",
       "      <td>4</td>\n",
       "      <td>$</td>\n",
       "      <td>5B_ByozIPvFdqvZvXd5P7g</td>\n",
       "      <td>I just went and ordered the 3 meat and buffalo...</td>\n",
       "      <td>1</td>\n",
       "      <td>Pizza</td>\n",
       "    </tr>\n",
       "    <tr>\n",
       "      <th>546</th>\n",
       "      <td>CKfDAKaYis5EoAaKGUA8cw</td>\n",
       "      <td>Domino's Pizza</td>\n",
       "      <td>2.5</td>\n",
       "      <td>27</td>\n",
       "      <td>$</td>\n",
       "      <td>ER2DHqsMAfT1ztSf8U2L0Q</td>\n",
       "      <td>I posted this on google and their website beca...</td>\n",
       "      <td>4</td>\n",
       "      <td>Pizza</td>\n",
       "    </tr>\n",
       "    <tr>\n",
       "      <th>547</th>\n",
       "      <td>CKfDAKaYis5EoAaKGUA8cw</td>\n",
       "      <td>Domino's Pizza</td>\n",
       "      <td>2.5</td>\n",
       "      <td>27</td>\n",
       "      <td>$</td>\n",
       "      <td>luJDmnWd_kXee4Fj5ZS2UQ</td>\n",
       "      <td>This spot is horrible do not purchase from the...</td>\n",
       "      <td>1</td>\n",
       "      <td>Pizza</td>\n",
       "    </tr>\n",
       "    <tr>\n",
       "      <th>548</th>\n",
       "      <td>CKfDAKaYis5EoAaKGUA8cw</td>\n",
       "      <td>Domino's Pizza</td>\n",
       "      <td>2.5</td>\n",
       "      <td>27</td>\n",
       "      <td>$</td>\n",
       "      <td>2BnA40r99wNA4MtJDaeLIQ</td>\n",
       "      <td>I really love domino's. They are the best. I a...</td>\n",
       "      <td>1</td>\n",
       "      <td>Pizza</td>\n",
       "    </tr>\n",
       "  </tbody>\n",
       "</table>\n",
       "<p>549 rows × 9 columns</p>\n",
       "</div>"
      ],
      "text/plain": [
       "                business_id              biz_name  biz_rating  \\\n",
       "0    8sEbM_ACHUbBsZ-TRZFXWA      Home Slice Pizza         4.5   \n",
       "1    8sEbM_ACHUbBsZ-TRZFXWA      Home Slice Pizza         4.5   \n",
       "2    8sEbM_ACHUbBsZ-TRZFXWA      Home Slice Pizza         4.5   \n",
       "3    raXi6598v97VVJGxuet_ZQ        Cucina on 35th         4.0   \n",
       "4    raXi6598v97VVJGxuet_ZQ        Cucina on 35th         4.0   \n",
       "..                      ...                   ...         ...   \n",
       "544  dXVHhocSRZpn9EWHFPHzfg  Little Caesars Pizza         1.0   \n",
       "545  dXVHhocSRZpn9EWHFPHzfg  Little Caesars Pizza         1.0   \n",
       "546  CKfDAKaYis5EoAaKGUA8cw        Domino's Pizza         2.5   \n",
       "547  CKfDAKaYis5EoAaKGUA8cw        Domino's Pizza         2.5   \n",
       "548  CKfDAKaYis5EoAaKGUA8cw        Domino's Pizza         2.5   \n",
       "\n",
       "     biz_review_count biz_price               review_id  \\\n",
       "0                 450        $$  _HVlihnf-vABOOHcLUKy-g   \n",
       "1                 450        $$  Q4DZ0as-PLwyBlNpgIcN5A   \n",
       "2                 450        $$  p-vbcqfmUu1zjk8NG6H5jw   \n",
       "3                 217        $$  k5vYssr0YvG3Y9yA2KHEKQ   \n",
       "4                 217        $$  PHSF3eAh520CAWmBUICB2Q   \n",
       "..                ...       ...                     ...   \n",
       "544                 4         $  A0mswzDLO8B2ruFjJR7dVQ   \n",
       "545                 4         $  5B_ByozIPvFdqvZvXd5P7g   \n",
       "546                27         $  ER2DHqsMAfT1ztSf8U2L0Q   \n",
       "547                27         $  luJDmnWd_kXee4Fj5ZS2UQ   \n",
       "548                27         $  2BnA40r99wNA4MtJDaeLIQ   \n",
       "\n",
       "                                                  text  rating category  \n",
       "0    A favorite, one of my go-to pizza places. I've...       5    Pizza  \n",
       "1    I cannot believe I keep forgetting to review H...       5    Pizza  \n",
       "2    The best NY style pizza in town. Pricy but gre...       5    Pizza  \n",
       "3    Italian for people who don't eat red meat! \\/\\...       4    Pizza  \n",
       "4    Wow this place amazes me every time. I don't g...       5    Pizza  \n",
       "..                                                 ...     ...      ...  \n",
       "544  Put in a online order yesterday. Ordered one e...       1    Pizza  \n",
       "545  I just went and ordered the 3 meat and buffalo...       1    Pizza  \n",
       "546  I posted this on google and their website beca...       4    Pizza  \n",
       "547  This spot is horrible do not purchase from the...       1    Pizza  \n",
       "548  I really love domino's. They are the best. I a...       1    Pizza  \n",
       "\n",
       "[549 rows x 9 columns]"
      ]
     },
     "execution_count": 60,
     "metadata": {},
     "output_type": "execute_result"
    }
   ],
   "source": [
    "merged_pizza"
   ]
  },
  {
   "cell_type": "code",
   "execution_count": 75,
   "metadata": {},
   "outputs": [],
   "source": [
    "mp=merged_pizza.copy()"
   ]
  },
  {
   "cell_type": "markdown",
   "metadata": {},
   "source": [
    "**Merge Business Data for Tacos with Reviews Data**"
   ]
  },
  {
   "cell_type": "code",
   "execution_count": 61,
   "metadata": {
    "scrolled": false
   },
   "outputs": [],
   "source": [
    "merged_tacos=pd.merge(left= Taco_data, right= Taco_reviews, left_on= 'business_id', right_on= 'business_id')\n",
    "merged_tacos['category']= 'Tacos'"
   ]
  },
  {
   "cell_type": "code",
   "execution_count": 62,
   "metadata": {
    "collapsed": true
   },
   "outputs": [
    {
     "data": {
      "text/html": [
       "<div>\n",
       "<style scoped>\n",
       "    .dataframe tbody tr th:only-of-type {\n",
       "        vertical-align: middle;\n",
       "    }\n",
       "\n",
       "    .dataframe tbody tr th {\n",
       "        vertical-align: top;\n",
       "    }\n",
       "\n",
       "    .dataframe thead th {\n",
       "        text-align: right;\n",
       "    }\n",
       "</style>\n",
       "<table border=\"1\" class=\"dataframe\">\n",
       "  <thead>\n",
       "    <tr style=\"text-align: right;\">\n",
       "      <th></th>\n",
       "      <th>business_id</th>\n",
       "      <th>biz_name</th>\n",
       "      <th>biz_rating</th>\n",
       "      <th>biz_review_count</th>\n",
       "      <th>biz_price</th>\n",
       "      <th>review_id</th>\n",
       "      <th>text</th>\n",
       "      <th>rating</th>\n",
       "      <th>category</th>\n",
       "    </tr>\n",
       "  </thead>\n",
       "  <tbody>\n",
       "    <tr>\n",
       "      <th>0</th>\n",
       "      <td>ec6X_eh2wyzFLqHbApAsuw</td>\n",
       "      <td>Pepe’s Tacos</td>\n",
       "      <td>4.5</td>\n",
       "      <td>60</td>\n",
       "      <td>NaN</td>\n",
       "      <td>yT1mCqofWVTZvzVKS_q3ag</td>\n",
       "      <td>This taco truck exceeded all the expectations ...</td>\n",
       "      <td>5</td>\n",
       "      <td>Tacos</td>\n",
       "    </tr>\n",
       "    <tr>\n",
       "      <th>1</th>\n",
       "      <td>ec6X_eh2wyzFLqHbApAsuw</td>\n",
       "      <td>Pepe’s Tacos</td>\n",
       "      <td>4.5</td>\n",
       "      <td>60</td>\n",
       "      <td>NaN</td>\n",
       "      <td>gFRWl4w9l0xyJFv1kAyxMg</td>\n",
       "      <td>No frills, very oily, TASTY tacos! Get the thr...</td>\n",
       "      <td>5</td>\n",
       "      <td>Tacos</td>\n",
       "    </tr>\n",
       "    <tr>\n",
       "      <th>2</th>\n",
       "      <td>ec6X_eh2wyzFLqHbApAsuw</td>\n",
       "      <td>Pepe’s Tacos</td>\n",
       "      <td>4.5</td>\n",
       "      <td>60</td>\n",
       "      <td>NaN</td>\n",
       "      <td>C5AH1T54rqp8kzVW02LW4Q</td>\n",
       "      <td>The food was great! I got the taco combo with ...</td>\n",
       "      <td>5</td>\n",
       "      <td>Tacos</td>\n",
       "    </tr>\n",
       "    <tr>\n",
       "      <th>3</th>\n",
       "      <td>gXlrgQkkdCc9iESuRlN_Uw</td>\n",
       "      <td>La Tunita 512</td>\n",
       "      <td>5.0</td>\n",
       "      <td>82</td>\n",
       "      <td>$</td>\n",
       "      <td>B0UA6SiCN77q1fffpLyDag</td>\n",
       "      <td>Delicioso! You are missing out if you haven't ...</td>\n",
       "      <td>5</td>\n",
       "      <td>Tacos</td>\n",
       "    </tr>\n",
       "    <tr>\n",
       "      <th>4</th>\n",
       "      <td>gXlrgQkkdCc9iESuRlN_Uw</td>\n",
       "      <td>La Tunita 512</td>\n",
       "      <td>5.0</td>\n",
       "      <td>82</td>\n",
       "      <td>$</td>\n",
       "      <td>Knv1PKXcq4LVPJcZZswIdg</td>\n",
       "      <td>Omg. La Tunita 512 is the best thing that happ...</td>\n",
       "      <td>5</td>\n",
       "      <td>Tacos</td>\n",
       "    </tr>\n",
       "    <tr>\n",
       "      <th>...</th>\n",
       "      <td>...</td>\n",
       "      <td>...</td>\n",
       "      <td>...</td>\n",
       "      <td>...</td>\n",
       "      <td>...</td>\n",
       "      <td>...</td>\n",
       "      <td>...</td>\n",
       "      <td>...</td>\n",
       "      <td>...</td>\n",
       "    </tr>\n",
       "    <tr>\n",
       "      <th>383</th>\n",
       "      <td>e8iaAO6ukGxUxhbzHS2LQg</td>\n",
       "      <td>Jack in the Box</td>\n",
       "      <td>2.0</td>\n",
       "      <td>47</td>\n",
       "      <td>$</td>\n",
       "      <td>BstPEkCPGJLchD3tZ89G0g</td>\n",
       "      <td>I have come to this location a couple times in...</td>\n",
       "      <td>1</td>\n",
       "      <td>Tacos</td>\n",
       "    </tr>\n",
       "    <tr>\n",
       "      <th>384</th>\n",
       "      <td>e8iaAO6ukGxUxhbzHS2LQg</td>\n",
       "      <td>Jack in the Box</td>\n",
       "      <td>2.0</td>\n",
       "      <td>47</td>\n",
       "      <td>$</td>\n",
       "      <td>XbMHg2yhbqkjmCzwIRv_Fw</td>\n",
       "      <td>Sign says the drive thru is open 24 hrs but at...</td>\n",
       "      <td>1</td>\n",
       "      <td>Tacos</td>\n",
       "    </tr>\n",
       "    <tr>\n",
       "      <th>385</th>\n",
       "      <td>FwWVAykgrFME1jKs2ZmG_Q</td>\n",
       "      <td>Jack in the Box</td>\n",
       "      <td>2.0</td>\n",
       "      <td>23</td>\n",
       "      <td>$</td>\n",
       "      <td>bLzs8EYiIvcLWtR6BplyPQ</td>\n",
       "      <td>There chicken nuggets are always crispy and my...</td>\n",
       "      <td>5</td>\n",
       "      <td>Tacos</td>\n",
       "    </tr>\n",
       "    <tr>\n",
       "      <th>386</th>\n",
       "      <td>FwWVAykgrFME1jKs2ZmG_Q</td>\n",
       "      <td>Jack in the Box</td>\n",
       "      <td>2.0</td>\n",
       "      <td>23</td>\n",
       "      <td>$</td>\n",
       "      <td>V15083BnlZpMFM5T4tR6eQ</td>\n",
       "      <td>Went at 10PM &amp; they said they were closed? I'm...</td>\n",
       "      <td>2</td>\n",
       "      <td>Tacos</td>\n",
       "    </tr>\n",
       "    <tr>\n",
       "      <th>387</th>\n",
       "      <td>FwWVAykgrFME1jKs2ZmG_Q</td>\n",
       "      <td>Jack in the Box</td>\n",
       "      <td>2.0</td>\n",
       "      <td>23</td>\n",
       "      <td>$</td>\n",
       "      <td>oSu2TvXquwFeQa_tuTHACQ</td>\n",
       "      <td>Went at 5PM. Waited at the speaker for someone...</td>\n",
       "      <td>1</td>\n",
       "      <td>Tacos</td>\n",
       "    </tr>\n",
       "  </tbody>\n",
       "</table>\n",
       "<p>388 rows × 9 columns</p>\n",
       "</div>"
      ],
      "text/plain": [
       "                business_id         biz_name  biz_rating  biz_review_count  \\\n",
       "0    ec6X_eh2wyzFLqHbApAsuw     Pepe’s Tacos         4.5                60   \n",
       "1    ec6X_eh2wyzFLqHbApAsuw     Pepe’s Tacos         4.5                60   \n",
       "2    ec6X_eh2wyzFLqHbApAsuw     Pepe’s Tacos         4.5                60   \n",
       "3    gXlrgQkkdCc9iESuRlN_Uw    La Tunita 512         5.0                82   \n",
       "4    gXlrgQkkdCc9iESuRlN_Uw    La Tunita 512         5.0                82   \n",
       "..                      ...              ...         ...               ...   \n",
       "383  e8iaAO6ukGxUxhbzHS2LQg  Jack in the Box         2.0                47   \n",
       "384  e8iaAO6ukGxUxhbzHS2LQg  Jack in the Box         2.0                47   \n",
       "385  FwWVAykgrFME1jKs2ZmG_Q  Jack in the Box         2.0                23   \n",
       "386  FwWVAykgrFME1jKs2ZmG_Q  Jack in the Box         2.0                23   \n",
       "387  FwWVAykgrFME1jKs2ZmG_Q  Jack in the Box         2.0                23   \n",
       "\n",
       "    biz_price               review_id  \\\n",
       "0         NaN  yT1mCqofWVTZvzVKS_q3ag   \n",
       "1         NaN  gFRWl4w9l0xyJFv1kAyxMg   \n",
       "2         NaN  C5AH1T54rqp8kzVW02LW4Q   \n",
       "3           $  B0UA6SiCN77q1fffpLyDag   \n",
       "4           $  Knv1PKXcq4LVPJcZZswIdg   \n",
       "..        ...                     ...   \n",
       "383         $  BstPEkCPGJLchD3tZ89G0g   \n",
       "384         $  XbMHg2yhbqkjmCzwIRv_Fw   \n",
       "385         $  bLzs8EYiIvcLWtR6BplyPQ   \n",
       "386         $  V15083BnlZpMFM5T4tR6eQ   \n",
       "387         $  oSu2TvXquwFeQa_tuTHACQ   \n",
       "\n",
       "                                                  text  rating category  \n",
       "0    This taco truck exceeded all the expectations ...       5    Tacos  \n",
       "1    No frills, very oily, TASTY tacos! Get the thr...       5    Tacos  \n",
       "2    The food was great! I got the taco combo with ...       5    Tacos  \n",
       "3    Delicioso! You are missing out if you haven't ...       5    Tacos  \n",
       "4    Omg. La Tunita 512 is the best thing that happ...       5    Tacos  \n",
       "..                                                 ...     ...      ...  \n",
       "383  I have come to this location a couple times in...       1    Tacos  \n",
       "384  Sign says the drive thru is open 24 hrs but at...       1    Tacos  \n",
       "385  There chicken nuggets are always crispy and my...       5    Tacos  \n",
       "386  Went at 10PM & they said they were closed? I'm...       2    Tacos  \n",
       "387  Went at 5PM. Waited at the speaker for someone...       1    Tacos  \n",
       "\n",
       "[388 rows x 9 columns]"
      ]
     },
     "execution_count": 62,
     "metadata": {},
     "output_type": "execute_result"
    }
   ],
   "source": [
    "merged_tacos"
   ]
  },
  {
   "cell_type": "code",
   "execution_count": 76,
   "metadata": {},
   "outputs": [],
   "source": [
    "mt=merged_tacos.copy()"
   ]
  },
  {
   "cell_type": "code",
   "execution_count": 63,
   "metadata": {
    "collapsed": true
   },
   "outputs": [
    {
     "data": {
      "text/html": [
       "<div>\n",
       "<style scoped>\n",
       "    .dataframe tbody tr th:only-of-type {\n",
       "        vertical-align: middle;\n",
       "    }\n",
       "\n",
       "    .dataframe tbody tr th {\n",
       "        vertical-align: top;\n",
       "    }\n",
       "\n",
       "    .dataframe thead th {\n",
       "        text-align: right;\n",
       "    }\n",
       "</style>\n",
       "<table border=\"1\" class=\"dataframe\">\n",
       "  <thead>\n",
       "    <tr style=\"text-align: right;\">\n",
       "      <th></th>\n",
       "      <th>business_id</th>\n",
       "      <th>biz_name</th>\n",
       "      <th>biz_rating</th>\n",
       "      <th>biz_review_count</th>\n",
       "      <th>biz_price</th>\n",
       "      <th>review_id</th>\n",
       "      <th>text</th>\n",
       "      <th>rating</th>\n",
       "      <th>category</th>\n",
       "    </tr>\n",
       "  </thead>\n",
       "  <tbody>\n",
       "    <tr>\n",
       "      <th>0</th>\n",
       "      <td>8sEbM_ACHUbBsZ-TRZFXWA</td>\n",
       "      <td>Home Slice Pizza</td>\n",
       "      <td>4.5</td>\n",
       "      <td>450</td>\n",
       "      <td>$$</td>\n",
       "      <td>_HVlihnf-vABOOHcLUKy-g</td>\n",
       "      <td>A favorite, one of my go-to pizza places. I've...</td>\n",
       "      <td>5</td>\n",
       "      <td>Pizza</td>\n",
       "    </tr>\n",
       "    <tr>\n",
       "      <th>1</th>\n",
       "      <td>8sEbM_ACHUbBsZ-TRZFXWA</td>\n",
       "      <td>Home Slice Pizza</td>\n",
       "      <td>4.5</td>\n",
       "      <td>450</td>\n",
       "      <td>$$</td>\n",
       "      <td>Q4DZ0as-PLwyBlNpgIcN5A</td>\n",
       "      <td>I cannot believe I keep forgetting to review H...</td>\n",
       "      <td>5</td>\n",
       "      <td>Pizza</td>\n",
       "    </tr>\n",
       "    <tr>\n",
       "      <th>2</th>\n",
       "      <td>8sEbM_ACHUbBsZ-TRZFXWA</td>\n",
       "      <td>Home Slice Pizza</td>\n",
       "      <td>4.5</td>\n",
       "      <td>450</td>\n",
       "      <td>$$</td>\n",
       "      <td>p-vbcqfmUu1zjk8NG6H5jw</td>\n",
       "      <td>The best NY style pizza in town. Pricy but gre...</td>\n",
       "      <td>5</td>\n",
       "      <td>Pizza</td>\n",
       "    </tr>\n",
       "    <tr>\n",
       "      <th>3</th>\n",
       "      <td>raXi6598v97VVJGxuet_ZQ</td>\n",
       "      <td>Cucina on 35th</td>\n",
       "      <td>4.0</td>\n",
       "      <td>217</td>\n",
       "      <td>$$</td>\n",
       "      <td>k5vYssr0YvG3Y9yA2KHEKQ</td>\n",
       "      <td>Italian for people who don't eat red meat! \\/\\...</td>\n",
       "      <td>4</td>\n",
       "      <td>Pizza</td>\n",
       "    </tr>\n",
       "    <tr>\n",
       "      <th>4</th>\n",
       "      <td>raXi6598v97VVJGxuet_ZQ</td>\n",
       "      <td>Cucina on 35th</td>\n",
       "      <td>4.0</td>\n",
       "      <td>217</td>\n",
       "      <td>$$</td>\n",
       "      <td>PHSF3eAh520CAWmBUICB2Q</td>\n",
       "      <td>Wow this place amazes me every time. I don't g...</td>\n",
       "      <td>5</td>\n",
       "      <td>Pizza</td>\n",
       "    </tr>\n",
       "    <tr>\n",
       "      <th>...</th>\n",
       "      <td>...</td>\n",
       "      <td>...</td>\n",
       "      <td>...</td>\n",
       "      <td>...</td>\n",
       "      <td>...</td>\n",
       "      <td>...</td>\n",
       "      <td>...</td>\n",
       "      <td>...</td>\n",
       "      <td>...</td>\n",
       "    </tr>\n",
       "    <tr>\n",
       "      <th>383</th>\n",
       "      <td>e8iaAO6ukGxUxhbzHS2LQg</td>\n",
       "      <td>Jack in the Box</td>\n",
       "      <td>2.0</td>\n",
       "      <td>47</td>\n",
       "      <td>$</td>\n",
       "      <td>BstPEkCPGJLchD3tZ89G0g</td>\n",
       "      <td>I have come to this location a couple times in...</td>\n",
       "      <td>1</td>\n",
       "      <td>Tacos</td>\n",
       "    </tr>\n",
       "    <tr>\n",
       "      <th>384</th>\n",
       "      <td>e8iaAO6ukGxUxhbzHS2LQg</td>\n",
       "      <td>Jack in the Box</td>\n",
       "      <td>2.0</td>\n",
       "      <td>47</td>\n",
       "      <td>$</td>\n",
       "      <td>XbMHg2yhbqkjmCzwIRv_Fw</td>\n",
       "      <td>Sign says the drive thru is open 24 hrs but at...</td>\n",
       "      <td>1</td>\n",
       "      <td>Tacos</td>\n",
       "    </tr>\n",
       "    <tr>\n",
       "      <th>385</th>\n",
       "      <td>FwWVAykgrFME1jKs2ZmG_Q</td>\n",
       "      <td>Jack in the Box</td>\n",
       "      <td>2.0</td>\n",
       "      <td>23</td>\n",
       "      <td>$</td>\n",
       "      <td>bLzs8EYiIvcLWtR6BplyPQ</td>\n",
       "      <td>There chicken nuggets are always crispy and my...</td>\n",
       "      <td>5</td>\n",
       "      <td>Tacos</td>\n",
       "    </tr>\n",
       "    <tr>\n",
       "      <th>386</th>\n",
       "      <td>FwWVAykgrFME1jKs2ZmG_Q</td>\n",
       "      <td>Jack in the Box</td>\n",
       "      <td>2.0</td>\n",
       "      <td>23</td>\n",
       "      <td>$</td>\n",
       "      <td>V15083BnlZpMFM5T4tR6eQ</td>\n",
       "      <td>Went at 10PM &amp; they said they were closed? I'm...</td>\n",
       "      <td>2</td>\n",
       "      <td>Tacos</td>\n",
       "    </tr>\n",
       "    <tr>\n",
       "      <th>387</th>\n",
       "      <td>FwWVAykgrFME1jKs2ZmG_Q</td>\n",
       "      <td>Jack in the Box</td>\n",
       "      <td>2.0</td>\n",
       "      <td>23</td>\n",
       "      <td>$</td>\n",
       "      <td>oSu2TvXquwFeQa_tuTHACQ</td>\n",
       "      <td>Went at 5PM. Waited at the speaker for someone...</td>\n",
       "      <td>1</td>\n",
       "      <td>Tacos</td>\n",
       "    </tr>\n",
       "  </tbody>\n",
       "</table>\n",
       "<p>937 rows × 9 columns</p>\n",
       "</div>"
      ],
      "text/plain": [
       "                business_id          biz_name  biz_rating  biz_review_count  \\\n",
       "0    8sEbM_ACHUbBsZ-TRZFXWA  Home Slice Pizza         4.5               450   \n",
       "1    8sEbM_ACHUbBsZ-TRZFXWA  Home Slice Pizza         4.5               450   \n",
       "2    8sEbM_ACHUbBsZ-TRZFXWA  Home Slice Pizza         4.5               450   \n",
       "3    raXi6598v97VVJGxuet_ZQ    Cucina on 35th         4.0               217   \n",
       "4    raXi6598v97VVJGxuet_ZQ    Cucina on 35th         4.0               217   \n",
       "..                      ...               ...         ...               ...   \n",
       "383  e8iaAO6ukGxUxhbzHS2LQg   Jack in the Box         2.0                47   \n",
       "384  e8iaAO6ukGxUxhbzHS2LQg   Jack in the Box         2.0                47   \n",
       "385  FwWVAykgrFME1jKs2ZmG_Q   Jack in the Box         2.0                23   \n",
       "386  FwWVAykgrFME1jKs2ZmG_Q   Jack in the Box         2.0                23   \n",
       "387  FwWVAykgrFME1jKs2ZmG_Q   Jack in the Box         2.0                23   \n",
       "\n",
       "    biz_price               review_id  \\\n",
       "0          $$  _HVlihnf-vABOOHcLUKy-g   \n",
       "1          $$  Q4DZ0as-PLwyBlNpgIcN5A   \n",
       "2          $$  p-vbcqfmUu1zjk8NG6H5jw   \n",
       "3          $$  k5vYssr0YvG3Y9yA2KHEKQ   \n",
       "4          $$  PHSF3eAh520CAWmBUICB2Q   \n",
       "..        ...                     ...   \n",
       "383         $  BstPEkCPGJLchD3tZ89G0g   \n",
       "384         $  XbMHg2yhbqkjmCzwIRv_Fw   \n",
       "385         $  bLzs8EYiIvcLWtR6BplyPQ   \n",
       "386         $  V15083BnlZpMFM5T4tR6eQ   \n",
       "387         $  oSu2TvXquwFeQa_tuTHACQ   \n",
       "\n",
       "                                                  text  rating category  \n",
       "0    A favorite, one of my go-to pizza places. I've...       5    Pizza  \n",
       "1    I cannot believe I keep forgetting to review H...       5    Pizza  \n",
       "2    The best NY style pizza in town. Pricy but gre...       5    Pizza  \n",
       "3    Italian for people who don't eat red meat! \\/\\...       4    Pizza  \n",
       "4    Wow this place amazes me every time. I don't g...       5    Pizza  \n",
       "..                                                 ...     ...      ...  \n",
       "383  I have come to this location a couple times in...       1    Tacos  \n",
       "384  Sign says the drive thru is open 24 hrs but at...       1    Tacos  \n",
       "385  There chicken nuggets are always crispy and my...       5    Tacos  \n",
       "386  Went at 10PM & they said they were closed? I'm...       2    Tacos  \n",
       "387  Went at 5PM. Waited at the speaker for someone...       1    Tacos  \n",
       "\n",
       "[937 rows x 9 columns]"
      ]
     },
     "execution_count": 63,
     "metadata": {},
     "output_type": "execute_result"
    }
   ],
   "source": [
    "pizza_tacos= pd.concat([merged_pizza, merged_tacos])\n",
    "pizza_tacos"
   ]
  },
  {
   "cell_type": "code",
   "execution_count": 86,
   "metadata": {},
   "outputs": [
    {
     "data": {
      "text/plain": [
       "business_id          0\n",
       "biz_name             0\n",
       "biz_rating           0\n",
       "biz_review_count     0\n",
       "biz_price           57\n",
       "dtype: int64"
      ]
     },
     "execution_count": 86,
     "metadata": {},
     "output_type": "execute_result"
    }
   ],
   "source": [
    "pizza_data.isna().sum()\n",
    "Taco_data.isna().sum()"
   ]
  },
  {
   "cell_type": "code",
   "execution_count": 240,
   "metadata": {
    "scrolled": false
   },
   "outputs": [],
   "source": [
    "taco_noprice=Taco_data['biz_price'].isna().sum()"
   ]
  },
  {
   "cell_type": "code",
   "execution_count": 84,
   "metadata": {},
   "outputs": [],
   "source": [
    "pizza_noprice= pizza_data['biz_price'].isna().sum()"
   ]
  },
  {
   "cell_type": "code",
   "execution_count": 85,
   "metadata": {},
   "outputs": [
    {
     "name": "stdout",
     "output_type": "stream",
     "text": [
      "There are 57 Taco shops with a null value for price.\n",
      "There are 39 Pizza shops with a null value for price.\n"
     ]
    }
   ],
   "source": [
    "print(f'There are {taco_noprice} Taco shops with a null value for price.')\n",
    "print(f'There are {pizza_noprice} Pizza shops with a null value for price.')"
   ]
  },
  {
   "cell_type": "code",
   "execution_count": 73,
   "metadata": {
    "scrolled": true
   },
   "outputs": [
    {
     "name": "stdout",
     "output_type": "stream",
     "text": [
      "There are 141 Taco spots.\n"
     ]
    }
   ],
   "source": [
    "No_taco_spots= len(Taco_data['business_id'])\n",
    "print(f'There are {No_taco_spots} Taco spots.')"
   ]
  },
  {
   "cell_type": "code",
   "execution_count": 74,
   "metadata": {},
   "outputs": [
    {
     "name": "stdout",
     "output_type": "stream",
     "text": [
      "There are 189 Pizza shops.\n"
     ]
    }
   ],
   "source": [
    "No_pizza_spots= len(pizza_data['business_id'])\n",
    "print(f'There are {No_pizza_spots} Pizza shops.')"
   ]
  },
  {
   "cell_type": "markdown",
   "metadata": {},
   "source": [
    "## Step 2: Data Analysis "
   ]
  },
  {
   "cell_type": "markdown",
   "metadata": {},
   "source": [
    "**5 Most Reviewed Businesses**"
   ]
  },
  {
   "cell_type": "code",
   "execution_count": 90,
   "metadata": {},
   "outputs": [
    {
     "data": {
      "text/plain": [
       "business_id          object\n",
       "biz_name             object\n",
       "biz_rating          float64\n",
       "biz_review_count      int64\n",
       "biz_price            object\n",
       "review_id            object\n",
       "text                 object\n",
       "rating                int64\n",
       "category             object\n",
       "dtype: object"
      ]
     },
     "execution_count": 90,
     "metadata": {},
     "output_type": "execute_result"
    }
   ],
   "source": [
    "# Renamed Merged DataFrame to 'mt' and 'mp' respectively and checking for dtypes of columns\n",
    "mp.dtypes"
   ]
  },
  {
   "cell_type": "code",
   "execution_count": 89,
   "metadata": {},
   "outputs": [],
   "source": [
    "# Converts all the appropriate columns in our dataFrame to numeric types\n",
    "# so that we can work with values\n",
    "mt[['biz_rating', 'biz_review_count', 'rating']]=mt[[\n",
    "    'biz_rating', 'biz_review_count', 'rating']].apply(pd.to_numeric)\n",
    "mp[['biz_rating', 'biz_review_count', 'rating']]=mp[[\n",
    "    'biz_rating', 'biz_review_count', 'rating']].apply(pd.to_numeric)"
   ]
  },
  {
   "cell_type": "code",
   "execution_count": null,
   "metadata": {},
   "outputs": [],
   "source": []
  },
  {
   "cell_type": "code",
   "execution_count": 100,
   "metadata": {
    "scrolled": true
   },
   "outputs": [
    {
     "data": {
      "text/html": [
       "<div>\n",
       "<style scoped>\n",
       "    .dataframe tbody tr th:only-of-type {\n",
       "        vertical-align: middle;\n",
       "    }\n",
       "\n",
       "    .dataframe tbody tr th {\n",
       "        vertical-align: top;\n",
       "    }\n",
       "\n",
       "    .dataframe thead th {\n",
       "        text-align: right;\n",
       "    }\n",
       "</style>\n",
       "<table border=\"1\" class=\"dataframe\">\n",
       "  <thead>\n",
       "    <tr style=\"text-align: right;\">\n",
       "      <th></th>\n",
       "      <th>business_id</th>\n",
       "      <th>biz_name</th>\n",
       "      <th>biz_rating</th>\n",
       "      <th>biz_review_count</th>\n",
       "      <th>biz_price</th>\n",
       "      <th>review_id</th>\n",
       "      <th>text</th>\n",
       "      <th>rating</th>\n",
       "      <th>category</th>\n",
       "    </tr>\n",
       "  </thead>\n",
       "  <tbody>\n",
       "    <tr>\n",
       "      <th>48</th>\n",
       "      <td>1Eq16r_MSnvPsnIykBdy9w</td>\n",
       "      <td>Home Slice Pizza</td>\n",
       "      <td>4.5</td>\n",
       "      <td>3783</td>\n",
       "      <td>$$</td>\n",
       "      <td>-LgPipxE9fccekAAdbG2rg</td>\n",
       "      <td>Ok so I lived in NYC for years pre-pandemic, a...</td>\n",
       "      <td>5</td>\n",
       "      <td>Pizza</td>\n",
       "    </tr>\n",
       "    <tr>\n",
       "      <th>49</th>\n",
       "      <td>1Eq16r_MSnvPsnIykBdy9w</td>\n",
       "      <td>Home Slice Pizza</td>\n",
       "      <td>4.5</td>\n",
       "      <td>3783</td>\n",
       "      <td>$$</td>\n",
       "      <td>NqNe89aIfQV8hFZEG8KlrA</td>\n",
       "      <td>[covid review]\\nExceptional service! I got a c...</td>\n",
       "      <td>5</td>\n",
       "      <td>Pizza</td>\n",
       "    </tr>\n",
       "    <tr>\n",
       "      <th>50</th>\n",
       "      <td>1Eq16r_MSnvPsnIykBdy9w</td>\n",
       "      <td>Home Slice Pizza</td>\n",
       "      <td>4.5</td>\n",
       "      <td>3783</td>\n",
       "      <td>$$</td>\n",
       "      <td>lg-H_1OcASgtk2VXbH4XRw</td>\n",
       "      <td>My boyfriend is a true New Yorker. Since we ha...</td>\n",
       "      <td>5</td>\n",
       "      <td>Pizza</td>\n",
       "    </tr>\n",
       "    <tr>\n",
       "      <th>117</th>\n",
       "      <td>VJDXjHHahRU3P_Ultl7-Yw</td>\n",
       "      <td>North Italia</td>\n",
       "      <td>4.0</td>\n",
       "      <td>1293</td>\n",
       "      <td>$$</td>\n",
       "      <td>CAzcxEffGRQQmUvsuM9yZQ</td>\n",
       "      <td>Dear World,\\n\\nI just left this restaurant aft...</td>\n",
       "      <td>5</td>\n",
       "      <td>Pizza</td>\n",
       "    </tr>\n",
       "    <tr>\n",
       "      <th>118</th>\n",
       "      <td>VJDXjHHahRU3P_Ultl7-Yw</td>\n",
       "      <td>North Italia</td>\n",
       "      <td>4.0</td>\n",
       "      <td>1293</td>\n",
       "      <td>$$</td>\n",
       "      <td>aDzO2EmaBrdnaXHGBuALeg</td>\n",
       "      <td>This is one of my favorite Italian restaurants...</td>\n",
       "      <td>5</td>\n",
       "      <td>Pizza</td>\n",
       "    </tr>\n",
       "    <tr>\n",
       "      <th>119</th>\n",
       "      <td>VJDXjHHahRU3P_Ultl7-Yw</td>\n",
       "      <td>North Italia</td>\n",
       "      <td>4.0</td>\n",
       "      <td>1293</td>\n",
       "      <td>$$</td>\n",
       "      <td>opvIgYtHtQ6FS4s0LRD-rg</td>\n",
       "      <td>The only sad thing about this review is that i...</td>\n",
       "      <td>5</td>\n",
       "      <td>Pizza</td>\n",
       "    </tr>\n",
       "    <tr>\n",
       "      <th>69</th>\n",
       "      <td>U9p0G4OOUWP425Ww8FHaGQ</td>\n",
       "      <td>Little Deli &amp; Pizzeria</td>\n",
       "      <td>4.5</td>\n",
       "      <td>1206</td>\n",
       "      <td>$</td>\n",
       "      <td>PRrf7SVRz8XfeqXm064jHQ</td>\n",
       "      <td>Finally, a deli that serves up an (almost) Bos...</td>\n",
       "      <td>5</td>\n",
       "      <td>Pizza</td>\n",
       "    </tr>\n",
       "    <tr>\n",
       "      <th>70</th>\n",
       "      <td>U9p0G4OOUWP425Ww8FHaGQ</td>\n",
       "      <td>Little Deli &amp; Pizzeria</td>\n",
       "      <td>4.5</td>\n",
       "      <td>1206</td>\n",
       "      <td>$</td>\n",
       "      <td>JZ1o9l4rT0rbcf48dDXWSw</td>\n",
       "      <td>Update from Dec 2020\\nLittle deli continues to...</td>\n",
       "      <td>5</td>\n",
       "      <td>Pizza</td>\n",
       "    </tr>\n",
       "    <tr>\n",
       "      <th>71</th>\n",
       "      <td>U9p0G4OOUWP425Ww8FHaGQ</td>\n",
       "      <td>Little Deli &amp; Pizzeria</td>\n",
       "      <td>4.5</td>\n",
       "      <td>1206</td>\n",
       "      <td>$</td>\n",
       "      <td>RtSXiIPLJd65sWlPXaoyAQ</td>\n",
       "      <td>I'd heard of Little Deli and always wanted to ...</td>\n",
       "      <td>5</td>\n",
       "      <td>Pizza</td>\n",
       "    </tr>\n",
       "    <tr>\n",
       "      <th>45</th>\n",
       "      <td>j3CWjH0XtesbbDZFVq3c7Q</td>\n",
       "      <td>Pinthouse Pizza</td>\n",
       "      <td>4.0</td>\n",
       "      <td>1038</td>\n",
       "      <td>$$</td>\n",
       "      <td>oc6QEC-fKVe_pfDhRMVCNA</td>\n",
       "      <td>Good pizza. Good beer. Great atmosphere. \\n\\nT...</td>\n",
       "      <td>5</td>\n",
       "      <td>Pizza</td>\n",
       "    </tr>\n",
       "    <tr>\n",
       "      <th>46</th>\n",
       "      <td>j3CWjH0XtesbbDZFVq3c7Q</td>\n",
       "      <td>Pinthouse Pizza</td>\n",
       "      <td>4.0</td>\n",
       "      <td>1038</td>\n",
       "      <td>$$</td>\n",
       "      <td>B4FzMLD16_NOsMTgMdINCA</td>\n",
       "      <td>The pizza here was amazing!! We got the meat l...</td>\n",
       "      <td>5</td>\n",
       "      <td>Pizza</td>\n",
       "    </tr>\n",
       "    <tr>\n",
       "      <th>47</th>\n",
       "      <td>j3CWjH0XtesbbDZFVq3c7Q</td>\n",
       "      <td>Pinthouse Pizza</td>\n",
       "      <td>4.0</td>\n",
       "      <td>1038</td>\n",
       "      <td>$$</td>\n",
       "      <td>egBhjZdsRnRwlf3qFTzQXw</td>\n",
       "      <td>5-stars for COVID pre-cautions and great pizza...</td>\n",
       "      <td>5</td>\n",
       "      <td>Pizza</td>\n",
       "    </tr>\n",
       "    <tr>\n",
       "      <th>27</th>\n",
       "      <td>LXQiHzcMUxm4hp36v_Ah_w</td>\n",
       "      <td>The Jackalope</td>\n",
       "      <td>3.5</td>\n",
       "      <td>967</td>\n",
       "      <td>$</td>\n",
       "      <td>TuQEla8EEZDF5ZbIBPkM4g</td>\n",
       "      <td>All I can say is don't judge a a book by its c...</td>\n",
       "      <td>4</td>\n",
       "      <td>Pizza</td>\n",
       "    </tr>\n",
       "    <tr>\n",
       "      <th>28</th>\n",
       "      <td>LXQiHzcMUxm4hp36v_Ah_w</td>\n",
       "      <td>The Jackalope</td>\n",
       "      <td>3.5</td>\n",
       "      <td>967</td>\n",
       "      <td>$</td>\n",
       "      <td>pyh7z5jzKnG2_k77zNL1IQ</td>\n",
       "      <td>As far as dives go this is one of my favorites...</td>\n",
       "      <td>5</td>\n",
       "      <td>Pizza</td>\n",
       "    </tr>\n",
       "    <tr>\n",
       "      <th>29</th>\n",
       "      <td>LXQiHzcMUxm4hp36v_Ah_w</td>\n",
       "      <td>The Jackalope</td>\n",
       "      <td>3.5</td>\n",
       "      <td>967</td>\n",
       "      <td>$</td>\n",
       "      <td>C4ZW8kRFSw79M8NV3u9MBQ</td>\n",
       "      <td>This bar is located on 6th street and is a sol...</td>\n",
       "      <td>4</td>\n",
       "      <td>Pizza</td>\n",
       "    </tr>\n",
       "  </tbody>\n",
       "</table>\n",
       "</div>"
      ],
      "text/plain": [
       "                business_id                biz_name  biz_rating  \\\n",
       "48   1Eq16r_MSnvPsnIykBdy9w        Home Slice Pizza         4.5   \n",
       "49   1Eq16r_MSnvPsnIykBdy9w        Home Slice Pizza         4.5   \n",
       "50   1Eq16r_MSnvPsnIykBdy9w        Home Slice Pizza         4.5   \n",
       "117  VJDXjHHahRU3P_Ultl7-Yw            North Italia         4.0   \n",
       "118  VJDXjHHahRU3P_Ultl7-Yw            North Italia         4.0   \n",
       "119  VJDXjHHahRU3P_Ultl7-Yw            North Italia         4.0   \n",
       "69   U9p0G4OOUWP425Ww8FHaGQ  Little Deli & Pizzeria         4.5   \n",
       "70   U9p0G4OOUWP425Ww8FHaGQ  Little Deli & Pizzeria         4.5   \n",
       "71   U9p0G4OOUWP425Ww8FHaGQ  Little Deli & Pizzeria         4.5   \n",
       "45   j3CWjH0XtesbbDZFVq3c7Q         Pinthouse Pizza         4.0   \n",
       "46   j3CWjH0XtesbbDZFVq3c7Q         Pinthouse Pizza         4.0   \n",
       "47   j3CWjH0XtesbbDZFVq3c7Q         Pinthouse Pizza         4.0   \n",
       "27   LXQiHzcMUxm4hp36v_Ah_w           The Jackalope         3.5   \n",
       "28   LXQiHzcMUxm4hp36v_Ah_w           The Jackalope         3.5   \n",
       "29   LXQiHzcMUxm4hp36v_Ah_w           The Jackalope         3.5   \n",
       "\n",
       "     biz_review_count biz_price               review_id  \\\n",
       "48               3783        $$  -LgPipxE9fccekAAdbG2rg   \n",
       "49               3783        $$  NqNe89aIfQV8hFZEG8KlrA   \n",
       "50               3783        $$  lg-H_1OcASgtk2VXbH4XRw   \n",
       "117              1293        $$  CAzcxEffGRQQmUvsuM9yZQ   \n",
       "118              1293        $$  aDzO2EmaBrdnaXHGBuALeg   \n",
       "119              1293        $$  opvIgYtHtQ6FS4s0LRD-rg   \n",
       "69               1206         $  PRrf7SVRz8XfeqXm064jHQ   \n",
       "70               1206         $  JZ1o9l4rT0rbcf48dDXWSw   \n",
       "71               1206         $  RtSXiIPLJd65sWlPXaoyAQ   \n",
       "45               1038        $$  oc6QEC-fKVe_pfDhRMVCNA   \n",
       "46               1038        $$  B4FzMLD16_NOsMTgMdINCA   \n",
       "47               1038        $$  egBhjZdsRnRwlf3qFTzQXw   \n",
       "27                967         $  TuQEla8EEZDF5ZbIBPkM4g   \n",
       "28                967         $  pyh7z5jzKnG2_k77zNL1IQ   \n",
       "29                967         $  C4ZW8kRFSw79M8NV3u9MBQ   \n",
       "\n",
       "                                                  text  rating category  \n",
       "48   Ok so I lived in NYC for years pre-pandemic, a...       5    Pizza  \n",
       "49   [covid review]\\nExceptional service! I got a c...       5    Pizza  \n",
       "50   My boyfriend is a true New Yorker. Since we ha...       5    Pizza  \n",
       "117  Dear World,\\n\\nI just left this restaurant aft...       5    Pizza  \n",
       "118  This is one of my favorite Italian restaurants...       5    Pizza  \n",
       "119  The only sad thing about this review is that i...       5    Pizza  \n",
       "69   Finally, a deli that serves up an (almost) Bos...       5    Pizza  \n",
       "70   Update from Dec 2020\\nLittle deli continues to...       5    Pizza  \n",
       "71   I'd heard of Little Deli and always wanted to ...       5    Pizza  \n",
       "45   Good pizza. Good beer. Great atmosphere. \\n\\nT...       5    Pizza  \n",
       "46   The pizza here was amazing!! We got the meat l...       5    Pizza  \n",
       "47   5-stars for COVID pre-cautions and great pizza...       5    Pizza  \n",
       "27   All I can say is don't judge a a book by its c...       4    Pizza  \n",
       "28   As far as dives go this is one of my favorites...       5    Pizza  \n",
       "29   This bar is located on 6th street and is a sol...       4    Pizza  "
      ]
     },
     "execution_count": 100,
     "metadata": {},
     "output_type": "execute_result"
    }
   ],
   "source": [
    "# Returns the 5 most reviewed pizza shops and sets it equal to new variable\n",
    "five_mr= mp.nlargest(15,['biz_review_count'])\n",
    "five_mr"
   ]
  },
  {
   "cell_type": "code",
   "execution_count": 101,
   "metadata": {
    "scrolled": true
   },
   "outputs": [
    {
     "name": "stdout",
     "output_type": "stream",
     "text": [
      "The 5 most reviewed restauraunts are: \n",
      "\n",
      "['Home Slice Pizza' 'North Italia' 'Little Deli & Pizzeria'\n",
      " 'Pinthouse Pizza' 'The Jackalope']\n"
     ]
    }
   ],
   "source": [
    "# Returns unique names of 5 most reviewed pizza spots\n",
    "fivemr_unique= five_mr['biz_name'].unique()\n",
    "print(\"The 5 most reviewed restauraunts are: \\n\")\n",
    "print(fivemr_unique)"
   ]
  },
  {
   "cell_type": "code",
   "execution_count": 102,
   "metadata": {
    "scrolled": true
   },
   "outputs": [
    {
     "data": {
      "text/plain": [
       "['Home Slice Pizza',\n",
       " 'North Italia',\n",
       " 'Little Deli & Pizzeria',\n",
       " 'Pinthouse Pizza',\n",
       " 'The Jackalope']"
      ]
     },
     "execution_count": 102,
     "metadata": {},
     "output_type": "execute_result"
    }
   ],
   "source": [
    "# Returns unique names xof 5 most reviewed restaurants\n",
    "(fivemr['biz_name'].unique()).tolist()"
   ]
  },
  {
   "cell_type": "code",
   "execution_count": 107,
   "metadata": {},
   "outputs": [
    {
     "data": {
      "text/html": [
       "<div>\n",
       "<style scoped>\n",
       "    .dataframe tbody tr th:only-of-type {\n",
       "        vertical-align: middle;\n",
       "    }\n",
       "\n",
       "    .dataframe tbody tr th {\n",
       "        vertical-align: top;\n",
       "    }\n",
       "\n",
       "    .dataframe thead th {\n",
       "        text-align: right;\n",
       "    }\n",
       "</style>\n",
       "<table border=\"1\" class=\"dataframe\">\n",
       "  <thead>\n",
       "    <tr style=\"text-align: right;\">\n",
       "      <th></th>\n",
       "      <th>business_id</th>\n",
       "      <th>biz_name</th>\n",
       "      <th>biz_rating</th>\n",
       "      <th>biz_review_count</th>\n",
       "      <th>biz_price</th>\n",
       "      <th>review_id</th>\n",
       "      <th>text</th>\n",
       "      <th>rating</th>\n",
       "      <th>category</th>\n",
       "    </tr>\n",
       "  </thead>\n",
       "  <tbody>\n",
       "    <tr>\n",
       "      <th>71</th>\n",
       "      <td>-qjkQHH-5O8BAztc6udOuw</td>\n",
       "      <td>Tacodeli</td>\n",
       "      <td>4.5</td>\n",
       "      <td>1032</td>\n",
       "      <td>$</td>\n",
       "      <td>ZEB_X3AN_1XQG6u-VM6iZg</td>\n",
       "      <td>This is my favorite Tacodeli location to date....</td>\n",
       "      <td>5</td>\n",
       "      <td>Tacos</td>\n",
       "    </tr>\n",
       "    <tr>\n",
       "      <th>72</th>\n",
       "      <td>-qjkQHH-5O8BAztc6udOuw</td>\n",
       "      <td>Tacodeli</td>\n",
       "      <td>4.5</td>\n",
       "      <td>1032</td>\n",
       "      <td>$</td>\n",
       "      <td>4xKEJgGkwtv0d3tgisdqMg</td>\n",
       "      <td>This place is amazing and I so appreciate thei...</td>\n",
       "      <td>5</td>\n",
       "      <td>Tacos</td>\n",
       "    </tr>\n",
       "    <tr>\n",
       "      <th>73</th>\n",
       "      <td>-qjkQHH-5O8BAztc6udOuw</td>\n",
       "      <td>Tacodeli</td>\n",
       "      <td>4.5</td>\n",
       "      <td>1032</td>\n",
       "      <td>$</td>\n",
       "      <td>qtrPrIeIrJHl-buqg5i0oA</td>\n",
       "      <td>mmmmmmmmmmmm.  The Frontera Fundido is my favo...</td>\n",
       "      <td>5</td>\n",
       "      <td>Tacos</td>\n",
       "    </tr>\n",
       "    <tr>\n",
       "      <th>225</th>\n",
       "      <td>H1yyjI2UiWD78WKKYwdiSw</td>\n",
       "      <td>Tacodeli</td>\n",
       "      <td>4.0</td>\n",
       "      <td>979</td>\n",
       "      <td>$</td>\n",
       "      <td>bcxl2fIUKXad-Kua3_5yDA</td>\n",
       "      <td>I love this location! We go here at least once...</td>\n",
       "      <td>5</td>\n",
       "      <td>Tacos</td>\n",
       "    </tr>\n",
       "    <tr>\n",
       "      <th>226</th>\n",
       "      <td>H1yyjI2UiWD78WKKYwdiSw</td>\n",
       "      <td>Tacodeli</td>\n",
       "      <td>4.0</td>\n",
       "      <td>979</td>\n",
       "      <td>$</td>\n",
       "      <td>534ppN76v8ZubZv4eDTD4g</td>\n",
       "      <td>So my original review stands.  Just some COVID...</td>\n",
       "      <td>5</td>\n",
       "      <td>Tacos</td>\n",
       "    </tr>\n",
       "    <tr>\n",
       "      <th>227</th>\n",
       "      <td>H1yyjI2UiWD78WKKYwdiSw</td>\n",
       "      <td>Tacodeli</td>\n",
       "      <td>4.0</td>\n",
       "      <td>979</td>\n",
       "      <td>$</td>\n",
       "      <td>sOfixNA2as561tJiOZ3f7Q</td>\n",
       "      <td>Taco Deli during the COVID quarantine has been...</td>\n",
       "      <td>5</td>\n",
       "      <td>Tacos</td>\n",
       "    </tr>\n",
       "    <tr>\n",
       "      <th>32</th>\n",
       "      <td>XjC5H-uKRrsctioXxuCMQQ</td>\n",
       "      <td>Torchys Tacos</td>\n",
       "      <td>4.0</td>\n",
       "      <td>881</td>\n",
       "      <td>$</td>\n",
       "      <td>2y4Ba55Toeum0VaSG_WroQ</td>\n",
       "      <td>Torchy's is an Austin classic because of their...</td>\n",
       "      <td>4</td>\n",
       "      <td>Tacos</td>\n",
       "    </tr>\n",
       "    <tr>\n",
       "      <th>33</th>\n",
       "      <td>XjC5H-uKRrsctioXxuCMQQ</td>\n",
       "      <td>Torchys Tacos</td>\n",
       "      <td>4.0</td>\n",
       "      <td>881</td>\n",
       "      <td>$</td>\n",
       "      <td>S01KbPQb8K7cK-c_c7Cs8w</td>\n",
       "      <td>I love tacos everywhere\\nI love tacos in my ne...</td>\n",
       "      <td>5</td>\n",
       "      <td>Tacos</td>\n",
       "    </tr>\n",
       "    <tr>\n",
       "      <th>34</th>\n",
       "      <td>XjC5H-uKRrsctioXxuCMQQ</td>\n",
       "      <td>Torchys Tacos</td>\n",
       "      <td>4.0</td>\n",
       "      <td>881</td>\n",
       "      <td>$</td>\n",
       "      <td>_zFYDa3j9ci6zpCiVc75KQ</td>\n",
       "      <td>Today is Feb 13, 2021. As Edwin and Joy pointe...</td>\n",
       "      <td>1</td>\n",
       "      <td>Tacos</td>\n",
       "    </tr>\n",
       "    <tr>\n",
       "      <th>207</th>\n",
       "      <td>bwuSbB0PyXHDHHj6PA_QiQ</td>\n",
       "      <td>Torchys Tacos</td>\n",
       "      <td>4.0</td>\n",
       "      <td>862</td>\n",
       "      <td>$</td>\n",
       "      <td>mrLdgobo880bM3e0QvYB-w</td>\n",
       "      <td>I just flew in from San Diego, checked in to m...</td>\n",
       "      <td>4</td>\n",
       "      <td>Tacos</td>\n",
       "    </tr>\n",
       "    <tr>\n",
       "      <th>208</th>\n",
       "      <td>bwuSbB0PyXHDHHj6PA_QiQ</td>\n",
       "      <td>Torchys Tacos</td>\n",
       "      <td>4.0</td>\n",
       "      <td>862</td>\n",
       "      <td>$</td>\n",
       "      <td>a4QiMFtKJUSaew_og-pmUw</td>\n",
       "      <td>As I'm writing this, I'm with my family sittin...</td>\n",
       "      <td>5</td>\n",
       "      <td>Tacos</td>\n",
       "    </tr>\n",
       "    <tr>\n",
       "      <th>209</th>\n",
       "      <td>bwuSbB0PyXHDHHj6PA_QiQ</td>\n",
       "      <td>Torchys Tacos</td>\n",
       "      <td>4.0</td>\n",
       "      <td>862</td>\n",
       "      <td>$</td>\n",
       "      <td>ZjGnOH2D_TGGmchXeCYwcw</td>\n",
       "      <td>First off...I love Torchy's and their food. Th...</td>\n",
       "      <td>2</td>\n",
       "      <td>Tacos</td>\n",
       "    </tr>\n",
       "    <tr>\n",
       "      <th>123</th>\n",
       "      <td>10dR2YozAl0Tiwt0FnBMng</td>\n",
       "      <td>Torchys Tacos</td>\n",
       "      <td>4.0</td>\n",
       "      <td>848</td>\n",
       "      <td>$</td>\n",
       "      <td>ByVgaGofgg3lp0blsWapIg</td>\n",
       "      <td>Torchy's Tacos is a must try if you enjoy a de...</td>\n",
       "      <td>5</td>\n",
       "      <td>Tacos</td>\n",
       "    </tr>\n",
       "    <tr>\n",
       "      <th>124</th>\n",
       "      <td>10dR2YozAl0Tiwt0FnBMng</td>\n",
       "      <td>Torchys Tacos</td>\n",
       "      <td>4.0</td>\n",
       "      <td>848</td>\n",
       "      <td>$</td>\n",
       "      <td>1detvQmiGJrdxy096UKVug</td>\n",
       "      <td>Another delish Torchy's location!! This time f...</td>\n",
       "      <td>5</td>\n",
       "      <td>Tacos</td>\n",
       "    </tr>\n",
       "    <tr>\n",
       "      <th>125</th>\n",
       "      <td>10dR2YozAl0Tiwt0FnBMng</td>\n",
       "      <td>Torchys Tacos</td>\n",
       "      <td>4.0</td>\n",
       "      <td>848</td>\n",
       "      <td>$</td>\n",
       "      <td>E2jB6Map7-SbvANQTY-RVg</td>\n",
       "      <td>I've had Torchy's multiple times and their tac...</td>\n",
       "      <td>5</td>\n",
       "      <td>Tacos</td>\n",
       "    </tr>\n",
       "  </tbody>\n",
       "</table>\n",
       "</div>"
      ],
      "text/plain": [
       "                business_id       biz_name  biz_rating  biz_review_count  \\\n",
       "71   -qjkQHH-5O8BAztc6udOuw       Tacodeli         4.5              1032   \n",
       "72   -qjkQHH-5O8BAztc6udOuw       Tacodeli         4.5              1032   \n",
       "73   -qjkQHH-5O8BAztc6udOuw       Tacodeli         4.5              1032   \n",
       "225  H1yyjI2UiWD78WKKYwdiSw       Tacodeli         4.0               979   \n",
       "226  H1yyjI2UiWD78WKKYwdiSw       Tacodeli         4.0               979   \n",
       "227  H1yyjI2UiWD78WKKYwdiSw       Tacodeli         4.0               979   \n",
       "32   XjC5H-uKRrsctioXxuCMQQ  Torchys Tacos         4.0               881   \n",
       "33   XjC5H-uKRrsctioXxuCMQQ  Torchys Tacos         4.0               881   \n",
       "34   XjC5H-uKRrsctioXxuCMQQ  Torchys Tacos         4.0               881   \n",
       "207  bwuSbB0PyXHDHHj6PA_QiQ  Torchys Tacos         4.0               862   \n",
       "208  bwuSbB0PyXHDHHj6PA_QiQ  Torchys Tacos         4.0               862   \n",
       "209  bwuSbB0PyXHDHHj6PA_QiQ  Torchys Tacos         4.0               862   \n",
       "123  10dR2YozAl0Tiwt0FnBMng  Torchys Tacos         4.0               848   \n",
       "124  10dR2YozAl0Tiwt0FnBMng  Torchys Tacos         4.0               848   \n",
       "125  10dR2YozAl0Tiwt0FnBMng  Torchys Tacos         4.0               848   \n",
       "\n",
       "    biz_price               review_id  \\\n",
       "71          $  ZEB_X3AN_1XQG6u-VM6iZg   \n",
       "72          $  4xKEJgGkwtv0d3tgisdqMg   \n",
       "73          $  qtrPrIeIrJHl-buqg5i0oA   \n",
       "225         $  bcxl2fIUKXad-Kua3_5yDA   \n",
       "226         $  534ppN76v8ZubZv4eDTD4g   \n",
       "227         $  sOfixNA2as561tJiOZ3f7Q   \n",
       "32          $  2y4Ba55Toeum0VaSG_WroQ   \n",
       "33          $  S01KbPQb8K7cK-c_c7Cs8w   \n",
       "34          $  _zFYDa3j9ci6zpCiVc75KQ   \n",
       "207         $  mrLdgobo880bM3e0QvYB-w   \n",
       "208         $  a4QiMFtKJUSaew_og-pmUw   \n",
       "209         $  ZjGnOH2D_TGGmchXeCYwcw   \n",
       "123         $  ByVgaGofgg3lp0blsWapIg   \n",
       "124         $  1detvQmiGJrdxy096UKVug   \n",
       "125         $  E2jB6Map7-SbvANQTY-RVg   \n",
       "\n",
       "                                                  text  rating category  \n",
       "71   This is my favorite Tacodeli location to date....       5    Tacos  \n",
       "72   This place is amazing and I so appreciate thei...       5    Tacos  \n",
       "73   mmmmmmmmmmmm.  The Frontera Fundido is my favo...       5    Tacos  \n",
       "225  I love this location! We go here at least once...       5    Tacos  \n",
       "226  So my original review stands.  Just some COVID...       5    Tacos  \n",
       "227  Taco Deli during the COVID quarantine has been...       5    Tacos  \n",
       "32   Torchy's is an Austin classic because of their...       4    Tacos  \n",
       "33   I love tacos everywhere\\nI love tacos in my ne...       5    Tacos  \n",
       "34   Today is Feb 13, 2021. As Edwin and Joy pointe...       1    Tacos  \n",
       "207  I just flew in from San Diego, checked in to m...       4    Tacos  \n",
       "208  As I'm writing this, I'm with my family sittin...       5    Tacos  \n",
       "209  First off...I love Torchy's and their food. Th...       2    Tacos  \n",
       "123  Torchy's Tacos is a must try if you enjoy a de...       5    Tacos  \n",
       "124  Another delish Torchy's location!! This time f...       5    Tacos  \n",
       "125  I've had Torchy's multiple times and their tac...       5    Tacos  "
      ]
     },
     "execution_count": 107,
     "metadata": {},
     "output_type": "execute_result"
    }
   ],
   "source": [
    "# Returns the 5 most reviewed taco spots and sets it equal to new variable\n",
    "five_mr2= mt.nlargest(15,['biz_review_count'])\n",
    "five_mr2"
   ]
  },
  {
   "cell_type": "code",
   "execution_count": 108,
   "metadata": {
    "scrolled": true
   },
   "outputs": [
    {
     "data": {
      "text/plain": [
       "['Tacodeli', 'Torchys Tacos']"
      ]
     },
     "execution_count": 108,
     "metadata": {},
     "output_type": "execute_result"
    }
   ],
   "source": [
    "# Returns unique names of 5 most reviewed taco spots\n",
    "(five_mr2['biz_name'].unique()).tolist()"
   ]
  },
  {
   "cell_type": "markdown",
   "metadata": {},
   "source": [
    "**^^Note that there are 2 Tacodelis and 3 Torchy Tacos**"
   ]
  },
  {
   "cell_type": "markdown",
   "metadata": {},
   "source": [
    "**Highest Received Rating in our Dataset**"
   ]
  },
  {
   "cell_type": "code",
   "execution_count": 111,
   "metadata": {
    "scrolled": true
   },
   "outputs": [
    {
     "data": {
      "text/plain": [
       "4.0    107\n",
       "4.5    105\n",
       "5.0     75\n",
       "3.5     45\n",
       "2.0     25\n",
       "1.5     15\n",
       "2.5     12\n",
       "3.0      4\n",
       "Name: biz_rating, dtype: int64"
      ]
     },
     "execution_count": 111,
     "metadata": {},
     "output_type": "execute_result"
    }
   ],
   "source": [
    "# Singles out ratings column to see how many taco businesses have 5 stars\n",
    "mt['biz_rating'].value_counts()"
   ]
  },
  {
   "cell_type": "code",
   "execution_count": 114,
   "metadata": {},
   "outputs": [
    {
     "data": {
      "text/plain": [
       "4.0    125\n",
       "4.5    101\n",
       "3.5     99\n",
       "3.0     77\n",
       "2.0     55\n",
       "2.5     42\n",
       "1.5     24\n",
       "5.0     20\n",
       "1.0      6\n",
       "Name: biz_rating, dtype: int64"
      ]
     },
     "execution_count": 114,
     "metadata": {},
     "output_type": "execute_result"
    }
   ],
   "source": [
    "# Singles out ratings column to see how many pizza businesses have 5 stars\n",
    "mp['biz_rating'].value_counts()"
   ]
  },
  {
   "cell_type": "code",
   "execution_count": 115,
   "metadata": {},
   "outputs": [
    {
     "data": {
      "text/html": [
       "<div>\n",
       "<style scoped>\n",
       "    .dataframe tbody tr th:only-of-type {\n",
       "        vertical-align: middle;\n",
       "    }\n",
       "\n",
       "    .dataframe tbody tr th {\n",
       "        vertical-align: top;\n",
       "    }\n",
       "\n",
       "    .dataframe thead th {\n",
       "        text-align: right;\n",
       "    }\n",
       "</style>\n",
       "<table border=\"1\" class=\"dataframe\">\n",
       "  <thead>\n",
       "    <tr style=\"text-align: right;\">\n",
       "      <th></th>\n",
       "      <th>biz_rating</th>\n",
       "    </tr>\n",
       "  </thead>\n",
       "  <tbody>\n",
       "    <tr>\n",
       "      <th>4.0</th>\n",
       "      <td>232</td>\n",
       "    </tr>\n",
       "    <tr>\n",
       "      <th>4.5</th>\n",
       "      <td>206</td>\n",
       "    </tr>\n",
       "    <tr>\n",
       "      <th>3.5</th>\n",
       "      <td>144</td>\n",
       "    </tr>\n",
       "    <tr>\n",
       "      <th>5.0</th>\n",
       "      <td>95</td>\n",
       "    </tr>\n",
       "    <tr>\n",
       "      <th>3.0</th>\n",
       "      <td>81</td>\n",
       "    </tr>\n",
       "    <tr>\n",
       "      <th>2.0</th>\n",
       "      <td>80</td>\n",
       "    </tr>\n",
       "    <tr>\n",
       "      <th>2.5</th>\n",
       "      <td>54</td>\n",
       "    </tr>\n",
       "    <tr>\n",
       "      <th>1.5</th>\n",
       "      <td>39</td>\n",
       "    </tr>\n",
       "    <tr>\n",
       "      <th>1.0</th>\n",
       "      <td>6</td>\n",
       "    </tr>\n",
       "  </tbody>\n",
       "</table>\n",
       "</div>"
      ],
      "text/plain": [
       "     biz_rating\n",
       "4.0         232\n",
       "4.5         206\n",
       "3.5         144\n",
       "5.0          95\n",
       "3.0          81\n",
       "2.0          80\n",
       "2.5          54\n",
       "1.5          39\n",
       "1.0           6"
      ]
     },
     "execution_count": 115,
     "metadata": {},
     "output_type": "execute_result"
    }
   ],
   "source": [
    "#Combines both data frames to see the total restaurants ratings between pizza and taco shops.\n",
    "pd.DataFrame(pizza_tacos.loc[:,'biz_rating'].value_counts())"
   ]
  },
  {
   "cell_type": "markdown",
   "metadata": {},
   "source": [
    "**What percentage of pizza businesses have a rating greater than or 4.5? \\\n",
    "What percentage of pizza businesses have a rating less than 3?**"
   ]
  },
  {
   "cell_type": "code",
   "execution_count": 117,
   "metadata": {
    "scrolled": true
   },
   "outputs": [
    {
     "data": {
      "text/plain": [
       "4.0    22.768670\n",
       "4.5    18.397086\n",
       "3.5    18.032787\n",
       "3.0    14.025501\n",
       "2.0    10.018215\n",
       "2.5     7.650273\n",
       "1.5     4.371585\n",
       "5.0     3.642987\n",
       "1.0     1.092896\n",
       "Name: biz_rating, dtype: float64"
      ]
     },
     "execution_count": 117,
     "metadata": {},
     "output_type": "execute_result"
    }
   ],
   "source": [
    "ratings= mp['biz_rating'].value_counts(normalize=True)*100\n",
    "rating_prct= pd.DataFrame(ratings)\n",
    "rating_prct.loc[:,'biz_rating']"
   ]
  },
  {
   "cell_type": "markdown",
   "metadata": {},
   "source": [
    "**What percentage of taco businesses have a rating greater than or 4.5? \\\n",
    "What percentage of taco businesses have a rating less than 3?**"
   ]
  },
  {
   "cell_type": "code",
   "execution_count": 118,
   "metadata": {},
   "outputs": [
    {
     "data": {
      "text/plain": [
       "4.0    27.577320\n",
       "4.5    27.061856\n",
       "5.0    19.329897\n",
       "3.5    11.597938\n",
       "2.0     6.443299\n",
       "1.5     3.865979\n",
       "2.5     3.092784\n",
       "3.0     1.030928\n",
       "Name: biz_rating, dtype: float64"
      ]
     },
     "execution_count": 118,
     "metadata": {},
     "output_type": "execute_result"
    }
   ],
   "source": [
    "ratings= mt['biz_rating'].value_counts(normalize=True)*100\n",
    "rating_prct= pd.DataFrame(ratings)\n",
    "rating_prct.loc[:,'biz_rating']"
   ]
  },
  {
   "cell_type": "markdown",
   "metadata": {},
   "source": [
    "**Most Reviewed Pizza Business and Review**"
   ]
  },
  {
   "cell_type": "code",
   "execution_count": 119,
   "metadata": {},
   "outputs": [
    {
     "data": {
      "text/html": [
       "<div>\n",
       "<style scoped>\n",
       "    .dataframe tbody tr th:only-of-type {\n",
       "        vertical-align: middle;\n",
       "    }\n",
       "\n",
       "    .dataframe tbody tr th {\n",
       "        vertical-align: top;\n",
       "    }\n",
       "\n",
       "    .dataframe thead th {\n",
       "        text-align: right;\n",
       "    }\n",
       "</style>\n",
       "<table border=\"1\" class=\"dataframe\">\n",
       "  <thead>\n",
       "    <tr style=\"text-align: right;\">\n",
       "      <th></th>\n",
       "      <th>business_id</th>\n",
       "      <th>biz_name</th>\n",
       "      <th>biz_rating</th>\n",
       "      <th>biz_review_count</th>\n",
       "      <th>biz_price</th>\n",
       "      <th>review_id</th>\n",
       "      <th>text</th>\n",
       "      <th>rating</th>\n",
       "      <th>category</th>\n",
       "    </tr>\n",
       "  </thead>\n",
       "  <tbody>\n",
       "    <tr>\n",
       "      <th>66</th>\n",
       "      <td>VobyVz_hbGNapYUfNDGyHw</td>\n",
       "      <td>Little Deli &amp; Pizzeria</td>\n",
       "      <td>5.0</td>\n",
       "      <td>45</td>\n",
       "      <td>$</td>\n",
       "      <td>CoWHfkBgVZJsdo33AKYC8g</td>\n",
       "      <td>This is a review of pickup service from the Br...</td>\n",
       "      <td>5</td>\n",
       "      <td>Pizza</td>\n",
       "    </tr>\n",
       "  </tbody>\n",
       "</table>\n",
       "</div>"
      ],
      "text/plain": [
       "               business_id                biz_name  biz_rating  \\\n",
       "66  VobyVz_hbGNapYUfNDGyHw  Little Deli & Pizzeria         5.0   \n",
       "\n",
       "    biz_review_count biz_price               review_id  \\\n",
       "66                45         $  CoWHfkBgVZJsdo33AKYC8g   \n",
       "\n",
       "                                                 text  rating category  \n",
       "66  This is a review of pickup service from the Br...       5    Pizza  "
      ]
     },
     "execution_count": 119,
     "metadata": {},
     "output_type": "execute_result"
    }
   ],
   "source": [
    "# mi.groupby(['biz_rating']).agg({'biz_review_count': max})\n",
    "top_pizza5= mp[mp['biz_rating']==5]\n",
    "top_pizza=top_pizza5.nlargest(1,['biz_review_count'])\n",
    "top_pizza"
   ]
  },
  {
   "cell_type": "code",
   "execution_count": 120,
   "metadata": {
    "scrolled": false
   },
   "outputs": [
    {
     "data": {
      "text/plain": [
       "66    This is a review of pickup service from the Br...\n",
       "Name: text, dtype: object"
      ]
     },
     "execution_count": 120,
     "metadata": {},
     "output_type": "execute_result"
    }
   ],
   "source": [
    "top_pizza.loc[:,'text']"
   ]
  },
  {
   "cell_type": "markdown",
   "metadata": {},
   "source": [
    "**Most Reviewed Taco Business and Review**"
   ]
  },
  {
   "cell_type": "code",
   "execution_count": 121,
   "metadata": {},
   "outputs": [
    {
     "data": {
      "text/html": [
       "<div>\n",
       "<style scoped>\n",
       "    .dataframe tbody tr th:only-of-type {\n",
       "        vertical-align: middle;\n",
       "    }\n",
       "\n",
       "    .dataframe tbody tr th {\n",
       "        vertical-align: top;\n",
       "    }\n",
       "\n",
       "    .dataframe thead th {\n",
       "        text-align: right;\n",
       "    }\n",
       "</style>\n",
       "<table border=\"1\" class=\"dataframe\">\n",
       "  <thead>\n",
       "    <tr style=\"text-align: right;\">\n",
       "      <th></th>\n",
       "      <th>business_id</th>\n",
       "      <th>biz_name</th>\n",
       "      <th>biz_rating</th>\n",
       "      <th>biz_review_count</th>\n",
       "      <th>biz_price</th>\n",
       "      <th>review_id</th>\n",
       "      <th>text</th>\n",
       "      <th>rating</th>\n",
       "      <th>category</th>\n",
       "    </tr>\n",
       "  </thead>\n",
       "  <tbody>\n",
       "    <tr>\n",
       "      <th>58</th>\n",
       "      <td>puse310xumoKI0WMHNXnRA</td>\n",
       "      <td>T-Loc's Sonora Hot Dogs</td>\n",
       "      <td>5.0</td>\n",
       "      <td>414</td>\n",
       "      <td>$</td>\n",
       "      <td>GJFT7tlmqBenVKWN7h7qzA</td>\n",
       "      <td>This is my buddy's favorite place to eat in Au...</td>\n",
       "      <td>5</td>\n",
       "      <td>Tacos</td>\n",
       "    </tr>\n",
       "  </tbody>\n",
       "</table>\n",
       "</div>"
      ],
      "text/plain": [
       "               business_id                 biz_name  biz_rating  \\\n",
       "58  puse310xumoKI0WMHNXnRA  T-Loc's Sonora Hot Dogs         5.0   \n",
       "\n",
       "    biz_review_count biz_price               review_id  \\\n",
       "58               414         $  GJFT7tlmqBenVKWN7h7qzA   \n",
       "\n",
       "                                                 text  rating category  \n",
       "58  This is my buddy's favorite place to eat in Au...       5    Tacos  "
      ]
     },
     "execution_count": 121,
     "metadata": {},
     "output_type": "execute_result"
    }
   ],
   "source": [
    "# mi.groupby(['biz_rating']).agg({'biz_review_count': max})\n",
    "top_taco5= mt[mt['biz_rating']==5]\n",
    "top_taco=top_taco5.nlargest(1,['biz_review_count'])\n",
    "top_taco"
   ]
  },
  {
   "cell_type": "markdown",
   "metadata": {},
   "source": [
    "**Lowest Rated Business and Review**"
   ]
  },
  {
   "cell_type": "code",
   "execution_count": 388,
   "metadata": {
    "scrolled": true
   },
   "outputs": [
    {
     "data": {
      "text/html": [
       "<div>\n",
       "<style scoped>\n",
       "    .dataframe tbody tr th:only-of-type {\n",
       "        vertical-align: middle;\n",
       "    }\n",
       "\n",
       "    .dataframe tbody tr th {\n",
       "        vertical-align: top;\n",
       "    }\n",
       "\n",
       "    .dataframe thead th {\n",
       "        text-align: right;\n",
       "    }\n",
       "</style>\n",
       "<table border=\"1\" class=\"dataframe\">\n",
       "  <thead>\n",
       "    <tr style=\"text-align: right;\">\n",
       "      <th></th>\n",
       "      <th>business_id</th>\n",
       "      <th>biz_name</th>\n",
       "      <th>biz_rating</th>\n",
       "      <th>biz_review_count</th>\n",
       "      <th>biz_price</th>\n",
       "      <th>review_id</th>\n",
       "      <th>text</th>\n",
       "      <th>rating</th>\n",
       "      <th>category</th>\n",
       "    </tr>\n",
       "  </thead>\n",
       "  <tbody>\n",
       "    <tr>\n",
       "      <th>264</th>\n",
       "      <td>_blL4jU1424l1xTXBDqCSw</td>\n",
       "      <td>Southside Flying Pizza</td>\n",
       "      <td>1.0</td>\n",
       "      <td>1</td>\n",
       "      <td>NaN</td>\n",
       "      <td>TASuG9PdYZB-B-3xKGGpjA</td>\n",
       "      <td>Management issues. My carryout order was suppo...</td>\n",
       "      <td>1</td>\n",
       "      <td>Pizza</td>\n",
       "    </tr>\n",
       "    <tr>\n",
       "      <th>412</th>\n",
       "      <td>K9DIohDFYPWgZqvugFfpbg</td>\n",
       "      <td>Austin's Pizza - Greystone</td>\n",
       "      <td>1.0</td>\n",
       "      <td>1</td>\n",
       "      <td>NaN</td>\n",
       "      <td>YlYgkxCpJu3em_XOgJxAkA</td>\n",
       "      <td>The Greek salad was great but,  the pizza show...</td>\n",
       "      <td>1</td>\n",
       "      <td>Pizza</td>\n",
       "    </tr>\n",
       "    <tr>\n",
       "      <th>488</th>\n",
       "      <td>PfBK5SuGJ2STvTPIeDVXrQ</td>\n",
       "      <td>Taverna</td>\n",
       "      <td>1.0</td>\n",
       "      <td>1</td>\n",
       "      <td>NaN</td>\n",
       "      <td>3vglpITyYCAmZh_SjHasuw</td>\n",
       "      <td>Service was AWFUL! Sat at the bar for 30 minut...</td>\n",
       "      <td>1</td>\n",
       "      <td>Pizza</td>\n",
       "    </tr>\n",
       "    <tr>\n",
       "      <th>543</th>\n",
       "      <td>dXVHhocSRZpn9EWHFPHzfg</td>\n",
       "      <td>Little Caesars Pizza</td>\n",
       "      <td>1.0</td>\n",
       "      <td>4</td>\n",
       "      <td>$</td>\n",
       "      <td>XmxO9XpJMsTbI8whvIyk7g</td>\n",
       "      <td>Trying to get food here was easily one of the ...</td>\n",
       "      <td>1</td>\n",
       "      <td>Pizza</td>\n",
       "    </tr>\n",
       "    <tr>\n",
       "      <th>544</th>\n",
       "      <td>dXVHhocSRZpn9EWHFPHzfg</td>\n",
       "      <td>Little Caesars Pizza</td>\n",
       "      <td>1.0</td>\n",
       "      <td>4</td>\n",
       "      <td>$</td>\n",
       "      <td>A0mswzDLO8B2ruFjJR7dVQ</td>\n",
       "      <td>Put in a online order yesterday. Ordered one e...</td>\n",
       "      <td>1</td>\n",
       "      <td>Pizza</td>\n",
       "    </tr>\n",
       "    <tr>\n",
       "      <th>545</th>\n",
       "      <td>dXVHhocSRZpn9EWHFPHzfg</td>\n",
       "      <td>Little Caesars Pizza</td>\n",
       "      <td>1.0</td>\n",
       "      <td>4</td>\n",
       "      <td>$</td>\n",
       "      <td>5B_ByozIPvFdqvZvXd5P7g</td>\n",
       "      <td>I just went and ordered the 3 meat and buffalo...</td>\n",
       "      <td>1</td>\n",
       "      <td>Pizza</td>\n",
       "    </tr>\n",
       "  </tbody>\n",
       "</table>\n",
       "</div>"
      ],
      "text/plain": [
       "                business_id                    biz_name  biz_rating  \\\n",
       "264  _blL4jU1424l1xTXBDqCSw      Southside Flying Pizza         1.0   \n",
       "412  K9DIohDFYPWgZqvugFfpbg  Austin's Pizza - Greystone         1.0   \n",
       "488  PfBK5SuGJ2STvTPIeDVXrQ                     Taverna         1.0   \n",
       "543  dXVHhocSRZpn9EWHFPHzfg        Little Caesars Pizza         1.0   \n",
       "544  dXVHhocSRZpn9EWHFPHzfg        Little Caesars Pizza         1.0   \n",
       "545  dXVHhocSRZpn9EWHFPHzfg        Little Caesars Pizza         1.0   \n",
       "\n",
       "     biz_review_count biz_price               review_id  \\\n",
       "264                 1       NaN  TASuG9PdYZB-B-3xKGGpjA   \n",
       "412                 1       NaN  YlYgkxCpJu3em_XOgJxAkA   \n",
       "488                 1       NaN  3vglpITyYCAmZh_SjHasuw   \n",
       "543                 4         $  XmxO9XpJMsTbI8whvIyk7g   \n",
       "544                 4         $  A0mswzDLO8B2ruFjJR7dVQ   \n",
       "545                 4         $  5B_ByozIPvFdqvZvXd5P7g   \n",
       "\n",
       "                                                  text  rating category  \n",
       "264  Management issues. My carryout order was suppo...       1    Pizza  \n",
       "412  The Greek salad was great but,  the pizza show...       1    Pizza  \n",
       "488  Service was AWFUL! Sat at the bar for 30 minut...       1    Pizza  \n",
       "543  Trying to get food here was easily one of the ...       1    Pizza  \n",
       "544  Put in a online order yesterday. Ordered one e...       1    Pizza  \n",
       "545  I just went and ordered the 3 meat and buffalo...       1    Pizza  "
      ]
     },
     "execution_count": 388,
     "metadata": {},
     "output_type": "execute_result"
    }
   ],
   "source": [
    "bot_pizza3= mp[mp['biz_rating']==1]\n",
    "bot_pizza3"
   ]
  },
  {
   "cell_type": "code",
   "execution_count": 389,
   "metadata": {},
   "outputs": [
    {
     "data": {
      "text/html": [
       "<div>\n",
       "<style scoped>\n",
       "    .dataframe tbody tr th:only-of-type {\n",
       "        vertical-align: middle;\n",
       "    }\n",
       "\n",
       "    .dataframe tbody tr th {\n",
       "        vertical-align: top;\n",
       "    }\n",
       "\n",
       "    .dataframe thead th {\n",
       "        text-align: right;\n",
       "    }\n",
       "</style>\n",
       "<table border=\"1\" class=\"dataframe\">\n",
       "  <thead>\n",
       "    <tr style=\"text-align: right;\">\n",
       "      <th></th>\n",
       "      <th>business_id</th>\n",
       "      <th>biz_name</th>\n",
       "      <th>biz_rating</th>\n",
       "      <th>biz_review_count</th>\n",
       "      <th>biz_price</th>\n",
       "      <th>review_id</th>\n",
       "      <th>text</th>\n",
       "      <th>rating</th>\n",
       "      <th>category</th>\n",
       "    </tr>\n",
       "  </thead>\n",
       "  <tbody>\n",
       "    <tr>\n",
       "      <th>264</th>\n",
       "      <td>_blL4jU1424l1xTXBDqCSw</td>\n",
       "      <td>Southside Flying Pizza</td>\n",
       "      <td>1.0</td>\n",
       "      <td>1</td>\n",
       "      <td>NaN</td>\n",
       "      <td>TASuG9PdYZB-B-3xKGGpjA</td>\n",
       "      <td>Management issues. My carryout order was suppo...</td>\n",
       "      <td>1</td>\n",
       "      <td>Pizza</td>\n",
       "    </tr>\n",
       "    <tr>\n",
       "      <th>412</th>\n",
       "      <td>K9DIohDFYPWgZqvugFfpbg</td>\n",
       "      <td>Austin's Pizza - Greystone</td>\n",
       "      <td>1.0</td>\n",
       "      <td>1</td>\n",
       "      <td>NaN</td>\n",
       "      <td>YlYgkxCpJu3em_XOgJxAkA</td>\n",
       "      <td>The Greek salad was great but,  the pizza show...</td>\n",
       "      <td>1</td>\n",
       "      <td>Pizza</td>\n",
       "    </tr>\n",
       "    <tr>\n",
       "      <th>488</th>\n",
       "      <td>PfBK5SuGJ2STvTPIeDVXrQ</td>\n",
       "      <td>Taverna</td>\n",
       "      <td>1.0</td>\n",
       "      <td>1</td>\n",
       "      <td>NaN</td>\n",
       "      <td>3vglpITyYCAmZh_SjHasuw</td>\n",
       "      <td>Service was AWFUL! Sat at the bar for 30 minut...</td>\n",
       "      <td>1</td>\n",
       "      <td>Pizza</td>\n",
       "    </tr>\n",
       "  </tbody>\n",
       "</table>\n",
       "</div>"
      ],
      "text/plain": [
       "                business_id                    biz_name  biz_rating  \\\n",
       "264  _blL4jU1424l1xTXBDqCSw      Southside Flying Pizza         1.0   \n",
       "412  K9DIohDFYPWgZqvugFfpbg  Austin's Pizza - Greystone         1.0   \n",
       "488  PfBK5SuGJ2STvTPIeDVXrQ                     Taverna         1.0   \n",
       "\n",
       "     biz_review_count biz_price               review_id  \\\n",
       "264                 1       NaN  TASuG9PdYZB-B-3xKGGpjA   \n",
       "412                 1       NaN  YlYgkxCpJu3em_XOgJxAkA   \n",
       "488                 1       NaN  3vglpITyYCAmZh_SjHasuw   \n",
       "\n",
       "                                                  text  rating category  \n",
       "264  Management issues. My carryout order was suppo...       1    Pizza  \n",
       "412  The Greek salad was great but,  the pizza show...       1    Pizza  \n",
       "488  Service was AWFUL! Sat at the bar for 30 minut...       1    Pizza  "
      ]
     },
     "execution_count": 389,
     "metadata": {},
     "output_type": "execute_result"
    }
   ],
   "source": [
    "bot_pizza=bot_pizza3.nsmallest(3,'biz_review_count')\n",
    "bot_pizza"
   ]
  },
  {
   "cell_type": "code",
   "execution_count": null,
   "metadata": {
    "collapsed": true
   },
   "outputs": [],
   "source": []
  },
  {
   "cell_type": "code",
   "execution_count": 390,
   "metadata": {},
   "outputs": [
    {
     "data": {
      "text/plain": [
       "['Southside Flying Pizza', \"Austin's Pizza - Greystone\", 'Taverna']"
      ]
     },
     "execution_count": 390,
     "metadata": {},
     "output_type": "execute_result"
    }
   ],
   "source": [
    "rbarray=bot_pizza['biz_name'].values\n",
    "bottom3_lst= rbarray.tolist()\n",
    "bottom3_lst"
   ]
  },
  {
   "cell_type": "markdown",
   "metadata": {},
   "source": [
    "**All three businesses worst rated business all have the same number of total review (1).**"
   ]
  },
  {
   "cell_type": "markdown",
   "metadata": {},
   "source": [
    "________________"
   ]
  },
  {
   "cell_type": "markdown",
   "metadata": {},
   "source": [
    "**What percentage of your businesseshave a price label of one dollar sign?** \\\n",
    "-Two dollar signs?\\\n",
    "-Three dollar signs?\\\n",
    "-No dollar signs?\n",
    "\n"
   ]
  },
  {
   "cell_type": "code",
   "execution_count": 142,
   "metadata": {},
   "outputs": [
    {
     "name": "stdout",
     "output_type": "stream",
     "text": [
      "There are 77($), 72($$), 1($$$) pizza shops. There are 39 pizza stores with no dollar sign.\n"
     ]
    }
   ],
   "source": [
    "pprice_1=pizza_data[pizza_data['biz_price']=='$'].value_counts().sum()\n",
    "pprice_2=pizza_data[pizza_data['biz_price']=='$$'].value_counts().sum()\n",
    "pprice_3=pizza_data[pizza_data['biz_price']=='$$$'].value_counts().sum()\n",
    "pizza_noprice=pizza_data['biz_price'].isna().sum()\n",
    "print(f'There are {pprice_1}($), {pprice_2}($$), {pprice_3}($$$) pizza shops. There are {pizza_noprice} pizza stores with no dollar sign.')"
   ]
  },
  {
   "cell_type": "code",
   "execution_count": 157,
   "metadata": {},
   "outputs": [
    {
     "name": "stdout",
     "output_type": "stream",
     "text": [
      "There are 62($), 22($$), 0($$$) taco shops. There are 57 taco stores with no dollar sign.\n"
     ]
    },
    {
     "name": "stderr",
     "output_type": "stream",
     "text": [
      "<ipython-input-157-c3f5600b8f1e>:3: UserWarning: Boolean Series key will be reindexed to match DataFrame index.\n",
      "  tprice_3=taco_data[pizza_data['biz_price']=='$$$'].value_counts().sum()\n"
     ]
    }
   ],
   "source": [
    "tprice_1=taco_data[taco_data['biz_price']=='$'].value_counts().sum()\n",
    "tprice_2=taco_data[taco_data['biz_price']=='$$'].value_counts().sum()\n",
    "tprice_3=taco_data[pizza_data['biz_price']=='$$$'].value_counts().sum()\n",
    "taco_noprice=taco_data['biz_price'].isna().sum()\n",
    "print(f'There are {tprice_1}($), {tprice_2}($$), 0($$$) taco shops. There are {taco_noprice} taco stores with no dollar sign.')"
   ]
  },
  {
   "cell_type": "code",
   "execution_count": 156,
   "metadata": {},
   "outputs": [
    {
     "data": {
      "text/plain": [
       "141"
      ]
     },
     "execution_count": 156,
     "metadata": {},
     "output_type": "execute_result"
    }
   ],
   "source": [
    "len(taco_data)"
   ]
  },
  {
   "cell_type": "code",
   "execution_count": 269,
   "metadata": {},
   "outputs": [
    {
     "data": {
      "text/plain": [
       "189"
      ]
     },
     "execution_count": 269,
     "metadata": {},
     "output_type": "execute_result"
    }
   ],
   "source": [
    "len(pizza_data)"
   ]
  },
  {
   "cell_type": "code",
   "execution_count": null,
   "metadata": {},
   "outputs": [],
   "source": [
    "taco_noprice=Taco_data['biz_price'].isna().sum()"
   ]
  },
  {
   "cell_type": "markdown",
   "metadata": {},
   "source": [
    "**Pizza shops average rating grouped by price category**"
   ]
  },
  {
   "cell_type": "code",
   "execution_count": 161,
   "metadata": {
    "scrolled": true
   },
   "outputs": [
    {
     "data": {
      "text/plain": [
       "biz_price\n",
       "$      2.967532\n",
       "$$     3.770833\n",
       "$$$    4.000000\n",
       "Name: biz_rating, dtype: float64"
      ]
     },
     "execution_count": 161,
     "metadata": {},
     "output_type": "execute_result"
    }
   ],
   "source": [
    "mp.groupby('biz_price')['biz_rating'].mean()"
   ]
  },
  {
   "cell_type": "markdown",
   "metadata": {},
   "source": [
    "**Pizza shops average rating grouped by price category**"
   ]
  },
  {
   "cell_type": "code",
   "execution_count": 265,
   "metadata": {},
   "outputs": [
    {
     "data": {
      "text/plain": [
       "biz_price\n",
       "$     3.644022\n",
       "$$    4.000000\n",
       "Name: biz_rating, dtype: float64"
      ]
     },
     "execution_count": 265,
     "metadata": {},
     "output_type": "execute_result"
    }
   ],
   "source": [
    "mt.groupby('biz_price')['biz_rating'].mean()"
   ]
  },
  {
   "cell_type": "code",
   "execution_count": 250,
   "metadata": {
    "scrolled": true
   },
   "outputs": [],
   "source": [
    "p_price_gone= pizza_data.dropna()\n",
    "t_price_gone= taco_data.dropna()"
   ]
  },
  {
   "cell_type": "code",
   "execution_count": 185,
   "metadata": {
    "collapsed": true
   },
   "outputs": [
    {
     "data": {
      "text/html": [
       "<div>\n",
       "<style scoped>\n",
       "    .dataframe tbody tr th:only-of-type {\n",
       "        vertical-align: middle;\n",
       "    }\n",
       "\n",
       "    .dataframe tbody tr th {\n",
       "        vertical-align: top;\n",
       "    }\n",
       "\n",
       "    .dataframe thead th {\n",
       "        text-align: right;\n",
       "    }\n",
       "</style>\n",
       "<table border=\"1\" class=\"dataframe\">\n",
       "  <thead>\n",
       "    <tr style=\"text-align: right;\">\n",
       "      <th></th>\n",
       "      <th>rating</th>\n",
       "    </tr>\n",
       "    <tr>\n",
       "      <th>biz_rating</th>\n",
       "      <th></th>\n",
       "    </tr>\n",
       "  </thead>\n",
       "  <tbody>\n",
       "    <tr>\n",
       "      <th>1.0</th>\n",
       "      <td>6</td>\n",
       "    </tr>\n",
       "    <tr>\n",
       "      <th>1.5</th>\n",
       "      <td>40</td>\n",
       "    </tr>\n",
       "    <tr>\n",
       "      <th>2.0</th>\n",
       "      <td>129</td>\n",
       "    </tr>\n",
       "    <tr>\n",
       "      <th>2.5</th>\n",
       "      <td>122</td>\n",
       "    </tr>\n",
       "    <tr>\n",
       "      <th>3.0</th>\n",
       "      <td>273</td>\n",
       "    </tr>\n",
       "    <tr>\n",
       "      <th>3.5</th>\n",
       "      <td>424</td>\n",
       "    </tr>\n",
       "    <tr>\n",
       "      <th>4.0</th>\n",
       "      <td>576</td>\n",
       "    </tr>\n",
       "    <tr>\n",
       "      <th>4.5</th>\n",
       "      <td>491</td>\n",
       "    </tr>\n",
       "    <tr>\n",
       "      <th>5.0</th>\n",
       "      <td>100</td>\n",
       "    </tr>\n",
       "  </tbody>\n",
       "</table>\n",
       "</div>"
      ],
      "text/plain": [
       "            rating\n",
       "biz_rating        \n",
       "1.0              6\n",
       "1.5             40\n",
       "2.0            129\n",
       "2.5            122\n",
       "3.0            273\n",
       "3.5            424\n",
       "4.0            576\n",
       "4.5            491\n",
       "5.0            100"
      ]
     },
     "execution_count": 185,
     "metadata": {},
     "output_type": "execute_result"
    }
   ],
   "source": [
    "# This dataframe looks at the number of reviews written for each star.\n",
    "\n",
    "pr= mp.groupby('biz_rating').agg({'rating': 'sum'})\n",
    "pr"
   ]
  },
  {
   "cell_type": "code",
   "execution_count": 205,
   "metadata": {
    "scrolled": true
   },
   "outputs": [
    {
     "data": {
      "text/plain": [
       "category  biz_rating\n",
       "Pizza     4.0           125\n",
       "          4.5           101\n",
       "          3.5            99\n",
       "          3.0            77\n",
       "          2.0            55\n",
       "          2.5            42\n",
       "          1.5            24\n",
       "          5.0            20\n",
       "          1.0             6\n",
       "Tacos     4.0           107\n",
       "          4.5           105\n",
       "          5.0            75\n",
       "          3.5            45\n",
       "          2.0            25\n",
       "          1.5            15\n",
       "          2.5            12\n",
       "          3.0             4\n",
       "Name: biz_rating, dtype: int64"
      ]
     },
     "execution_count": 205,
     "metadata": {},
     "output_type": "execute_result"
    }
   ],
   "source": [
    "pizza_tacos.groupby('category')['biz_rating'].value_counts()"
   ]
  },
  {
   "cell_type": "code",
   "execution_count": 270,
   "metadata": {},
   "outputs": [
    {
     "data": {
      "text/html": [
       "<div>\n",
       "<style scoped>\n",
       "    .dataframe tbody tr th:only-of-type {\n",
       "        vertical-align: middle;\n",
       "    }\n",
       "\n",
       "    .dataframe tbody tr th {\n",
       "        vertical-align: top;\n",
       "    }\n",
       "\n",
       "    .dataframe thead th {\n",
       "        text-align: right;\n",
       "    }\n",
       "</style>\n",
       "<table border=\"1\" class=\"dataframe\">\n",
       "  <thead>\n",
       "    <tr style=\"text-align: right;\">\n",
       "      <th></th>\n",
       "      <th>rating</th>\n",
       "    </tr>\n",
       "    <tr>\n",
       "      <th>biz_rating</th>\n",
       "      <th></th>\n",
       "    </tr>\n",
       "  </thead>\n",
       "  <tbody>\n",
       "    <tr>\n",
       "      <th>1.0</th>\n",
       "      <td>6</td>\n",
       "    </tr>\n",
       "    <tr>\n",
       "      <th>1.5</th>\n",
       "      <td>62</td>\n",
       "    </tr>\n",
       "    <tr>\n",
       "      <th>2.0</th>\n",
       "      <td>184</td>\n",
       "    </tr>\n",
       "    <tr>\n",
       "      <th>2.5</th>\n",
       "      <td>153</td>\n",
       "    </tr>\n",
       "    <tr>\n",
       "      <th>3.0</th>\n",
       "      <td>289</td>\n",
       "    </tr>\n",
       "    <tr>\n",
       "      <th>3.5</th>\n",
       "      <td>596</td>\n",
       "    </tr>\n",
       "    <tr>\n",
       "      <th>4.0</th>\n",
       "      <td>1036</td>\n",
       "    </tr>\n",
       "    <tr>\n",
       "      <th>4.5</th>\n",
       "      <td>968</td>\n",
       "    </tr>\n",
       "    <tr>\n",
       "      <th>5.0</th>\n",
       "      <td>470</td>\n",
       "    </tr>\n",
       "  </tbody>\n",
       "</table>\n",
       "</div>"
      ],
      "text/plain": [
       "            rating\n",
       "biz_rating        \n",
       "1.0              6\n",
       "1.5             62\n",
       "2.0            184\n",
       "2.5            153\n",
       "3.0            289\n",
       "3.5            596\n",
       "4.0           1036\n",
       "4.5            968\n",
       "5.0            470"
      ]
     },
     "execution_count": 270,
     "metadata": {},
     "output_type": "execute_result"
    }
   ],
   "source": [
    "pizza_tacos.groupby('biz_rating').agg({'rating': 'sum'})"
   ]
  },
  {
   "cell_type": "markdown",
   "metadata": {},
   "source": [
    "## Step 3: Visualizations"
   ]
  },
  {
   "cell_type": "markdown",
   "metadata": {},
   "source": [
    "### A. Plotting the average business rating by category. "
   ]
  },
  {
   "cell_type": "code",
   "execution_count": 376,
   "metadata": {},
   "outputs": [
    {
     "data": {
      "text/html": [
       "<div>\n",
       "<style scoped>\n",
       "    .dataframe tbody tr th:only-of-type {\n",
       "        vertical-align: middle;\n",
       "    }\n",
       "\n",
       "    .dataframe tbody tr th {\n",
       "        vertical-align: top;\n",
       "    }\n",
       "\n",
       "    .dataframe thead th {\n",
       "        text-align: right;\n",
       "    }\n",
       "</style>\n",
       "<table border=\"1\" class=\"dataframe\">\n",
       "  <thead>\n",
       "    <tr style=\"text-align: right;\">\n",
       "      <th></th>\n",
       "      <th>biz_rating</th>\n",
       "      <th>#_shops</th>\n",
       "    </tr>\n",
       "    <tr>\n",
       "      <th>category</th>\n",
       "      <th></th>\n",
       "      <th></th>\n",
       "    </tr>\n",
       "  </thead>\n",
       "  <tbody>\n",
       "    <tr>\n",
       "      <th>Tacos</th>\n",
       "      <td>3.988402</td>\n",
       "      <td>388</td>\n",
       "    </tr>\n",
       "    <tr>\n",
       "      <th>Pizza</th>\n",
       "      <td>3.440801</td>\n",
       "      <td>549</td>\n",
       "    </tr>\n",
       "  </tbody>\n",
       "</table>\n",
       "</div>"
      ],
      "text/plain": [
       "          biz_rating  #_shops\n",
       "category                     \n",
       "Tacos       3.988402      388\n",
       "Pizza       3.440801      549"
      ]
     },
     "execution_count": 376,
     "metadata": {},
     "output_type": "execute_result"
    }
   ],
   "source": [
    "# Sorts the number of pizzashops by zipcode and avgerage rating\n",
    "biz_ratings= pd.DataFrame(pizza_tacos.groupby('category')['biz_rating'].mean())\n",
    "\n",
    "\n",
    "#Add New Column Equal to The Number Of Pizza Shops \n",
    "biz_ratings['#_shops']= pizza_tacos['category'].value_counts()\n",
    "biz_ratings.sort_values(by=['#_shops'])"
   ]
  },
  {
   "cell_type": "code",
   "execution_count": 378,
   "metadata": {
    "scrolled": false
   },
   "outputs": [
    {
     "data": {
      "image/png": "[encoded data removed]",
      "text/plain": [
       "<Figure size 432x288 with 1 Axes>"
      ]
     },
     "metadata": {
      "needs_background": "light"
     },
     "output_type": "display_data"
    }
   ],
   "source": [
    "\n",
    "#Plotting Avg Biz Rating by Category\n",
    "axes = biz_ratings['biz_rating'].plot.bar(rot=90, x='biz_rating')\n",
    "#Setting Chart Title\n",
    "axes.set_title('Average Rating by Shop Category')\n",
    "#Setting X-axis label\n",
    "axes.set_xlabel('Shop Category')\n",
    "#Setting Y-axis label\n",
    "axes.set_ylabel('Avg. Rating')\n",
    "plt.tight_layout()\n",
    "plt.savefig('data/Avg_Rtng_by_Category.png');"
   ]
  },
  {
   "cell_type": "markdown",
   "metadata": {},
   "source": [
    "### This graph shows us that tacos have a higher average rating as a whole than pizza ratings.\n"
   ]
  },
  {
   "cell_type": "markdown",
   "metadata": {},
   "source": [
    "________________"
   ]
  },
  {
   "cell_type": "markdown",
   "metadata": {},
   "source": [
    "### B . Analyzing the total number of review counts left by their rating."
   ]
  },
  {
   "cell_type": "code",
   "execution_count": 385,
   "metadata": {},
   "outputs": [
    {
     "data": {
      "image/png": "[encoded data removed]",
      "text/plain": [
       "<Figure size 720x720 with 1 Axes>"
      ]
     },
     "metadata": {
      "needs_background": "light"
     },
     "output_type": "display_data"
    }
   ],
   "source": [
    "biz_review_counts = pd.DataFrame(pizza_tacos.groupby(['biz_rating','category'])['biz_review_count'].mean())\n",
    "biz_review_counts\n",
    "brc = biz_review_counts.unstack().plot.barh(figsize=(10,10))\n",
    "brc.set_title('Business Review Counts by Rating')\n",
    "brc.set_xlabel('Number of Reviews')\n",
    "brc.set_ylabel('Business Rating')\n",
    "plt.tight_layout()\n",
    "plt.savefig('data/Biz_Rev_Counts_By_Rating.png')"
   ]
  },
  {
   "cell_type": "markdown",
   "metadata": {},
   "source": [
    "### The graph here indicated that the total number of reviews left for taco shops are mostly 3 star reviews.        While the majority of reviews left for pizza establistments tend to be skewed towards higher review ratings (4 stars and above)."
   ]
  },
  {
   "cell_type": "markdown",
   "metadata": {},
   "source": [
    "______________"
   ]
  },
  {
   "cell_type": "markdown",
   "metadata": {},
   "source": [
    "### C . Analyzing the total number of businesses with a 1-5 star rating. \n",
    "#### Bar Graph \n"
   ]
  },
  {
   "cell_type": "code",
   "execution_count": 382,
   "metadata": {
    "scrolled": false
   },
   "outputs": [
    {
     "data": {
      "image/png": "[encoded data removed]",
      "text/plain": [
       "<Figure size 432x288 with 1 Axes>"
      ]
     },
     "metadata": {
      "needs_background": "light"
     },
     "output_type": "display_data"
    }
   ],
   "source": [
    "biz_rating_counts = pd.DataFrame(pizza_tacos.groupby('biz_rating')['category'].value_counts())\n",
    "axers= biz_rating_counts.unstack().plot.bar(rot=90)\n",
    "axers.set_title('Number of Businesses by Rating')\n",
    "axers.set_xlabel('Business Rating')\n",
    "axers.set_ylabel('Number of Businesses')\n",
    "plt.tight_layout()\n",
    "plt.savefig('data/Num_Of_Biz_By_Rating.png')"
   ]
  },
  {
   "cell_type": "markdown",
   "metadata": {},
   "source": [
    "#### Histogram"
   ]
  },
  {
   "cell_type": "code",
   "execution_count": 268,
   "metadata": {
    "scrolled": false
   },
   "outputs": [
    {
     "data": {
      "image/png": "[encoded data removed]",
      "text/plain": [
       "<Figure size 432x288 with 1 Axes>"
      ]
     },
     "metadata": {
      "needs_background": "light"
     },
     "output_type": "display_data"
    }
   ],
   "source": [
    "fig, ax = plt.subplots()\n",
    "\n",
    "ax.hist(mp['biz_rating'], label=\"Pizza Shop Ratings\", bins=9, histtype='step')\n",
    "ax.hist(mt['biz_rating'], label= \"Taco Shop Ratings\", bins=8, histtype='step')\n",
    "\n",
    "# Set the x-axis label to \"Rating\")\"\n",
    "ax.set_xlabel('Rating (1-5)')\n",
    "\n",
    "# Set the y-axis label to \"# of observations\"\n",
    "ax.set_ylabel('# of observations (businesses) ')\n",
    "\n",
    "ax.set_title('Histogram of Business Ratings by Frequency')\n",
    "\n",
    "ax.legend(loc=2)\n",
    "plt.savefig('histogram_ratings.png');"
   ]
  },
  {
   "cell_type": "markdown",
   "metadata": {},
   "source": [
    "### The above graph indicates a sizeable gap between 2.5 and 4 stars when comparing pizza and taco shops. Essentially, for reviewed Taco shops in Austin they are either rated highly (4.0 and above) or hardly rated at all.\n"
   ]
  },
  {
   "cell_type": "code",
   "execution_count": 275,
   "metadata": {
    "scrolled": true
   },
   "outputs": [
    {
     "data": {
      "text/html": [
       "<div>\n",
       "<style scoped>\n",
       "    .dataframe tbody tr th:only-of-type {\n",
       "        vertical-align: middle;\n",
       "    }\n",
       "\n",
       "    .dataframe tbody tr th {\n",
       "        vertical-align: top;\n",
       "    }\n",
       "\n",
       "    .dataframe thead th {\n",
       "        text-align: right;\n",
       "    }\n",
       "</style>\n",
       "<table border=\"1\" class=\"dataframe\">\n",
       "  <thead>\n",
       "    <tr style=\"text-align: right;\">\n",
       "      <th></th>\n",
       "      <th>business_id</th>\n",
       "      <th>biz_name</th>\n",
       "      <th>biz_rating</th>\n",
       "      <th>biz_review_count</th>\n",
       "      <th>biz_price</th>\n",
       "    </tr>\n",
       "  </thead>\n",
       "  <tbody>\n",
       "    <tr>\n",
       "      <th>1</th>\n",
       "      <td>gXlrgQkkdCc9iESuRlN_Uw</td>\n",
       "      <td>La Tunita 512</td>\n",
       "      <td>5.0</td>\n",
       "      <td>82</td>\n",
       "      <td>$</td>\n",
       "    </tr>\n",
       "    <tr>\n",
       "      <th>2</th>\n",
       "      <td>eUD2rCO5pfus19UN34Cgzw</td>\n",
       "      <td>FoodHeads</td>\n",
       "      <td>4.5</td>\n",
       "      <td>543</td>\n",
       "      <td>$$</td>\n",
       "    </tr>\n",
       "    <tr>\n",
       "      <th>5</th>\n",
       "      <td>5fI9ZzqzRLnMNYoTMjUGGQ</td>\n",
       "      <td>Granny's Tacos</td>\n",
       "      <td>5.0</td>\n",
       "      <td>310</td>\n",
       "      <td>$</td>\n",
       "    </tr>\n",
       "    <tr>\n",
       "      <th>6</th>\n",
       "      <td>CgZfMVFv0ilEDZbH06apyA</td>\n",
       "      <td>Tacodeli</td>\n",
       "      <td>4.5</td>\n",
       "      <td>682</td>\n",
       "      <td>$</td>\n",
       "    </tr>\n",
       "    <tr>\n",
       "      <th>8</th>\n",
       "      <td>FWppPI6i6GJ1EXtT7U3G4Q</td>\n",
       "      <td>Vaquero Taquero</td>\n",
       "      <td>4.5</td>\n",
       "      <td>161</td>\n",
       "      <td>$</td>\n",
       "    </tr>\n",
       "    <tr>\n",
       "      <th>...</th>\n",
       "      <td>...</td>\n",
       "      <td>...</td>\n",
       "      <td>...</td>\n",
       "      <td>...</td>\n",
       "      <td>...</td>\n",
       "    </tr>\n",
       "    <tr>\n",
       "      <th>135</th>\n",
       "      <td>N31Vex7z_gckdhAsq0uPxA</td>\n",
       "      <td>Jack in the Box</td>\n",
       "      <td>2.5</td>\n",
       "      <td>28</td>\n",
       "      <td>$</td>\n",
       "    </tr>\n",
       "    <tr>\n",
       "      <th>136</th>\n",
       "      <td>5N4bHv9sTm1JsDqhDWz-tA</td>\n",
       "      <td>Jack in the Box</td>\n",
       "      <td>2.5</td>\n",
       "      <td>18</td>\n",
       "      <td>$</td>\n",
       "    </tr>\n",
       "    <tr>\n",
       "      <th>138</th>\n",
       "      <td>ehSTouF01blyKxwIxZQKjw</td>\n",
       "      <td>Jack in the Box</td>\n",
       "      <td>1.5</td>\n",
       "      <td>22</td>\n",
       "      <td>$</td>\n",
       "    </tr>\n",
       "    <tr>\n",
       "      <th>139</th>\n",
       "      <td>e8iaAO6ukGxUxhbzHS2LQg</td>\n",
       "      <td>Jack in the Box</td>\n",
       "      <td>2.0</td>\n",
       "      <td>47</td>\n",
       "      <td>$</td>\n",
       "    </tr>\n",
       "    <tr>\n",
       "      <th>140</th>\n",
       "      <td>FwWVAykgrFME1jKs2ZmG_Q</td>\n",
       "      <td>Jack in the Box</td>\n",
       "      <td>2.0</td>\n",
       "      <td>23</td>\n",
       "      <td>$</td>\n",
       "    </tr>\n",
       "  </tbody>\n",
       "</table>\n",
       "<p>84 rows × 5 columns</p>\n",
       "</div>"
      ],
      "text/plain": [
       "                business_id         biz_name  biz_rating  biz_review_count  \\\n",
       "1    gXlrgQkkdCc9iESuRlN_Uw    La Tunita 512         5.0                82   \n",
       "2    eUD2rCO5pfus19UN34Cgzw        FoodHeads         4.5               543   \n",
       "5    5fI9ZzqzRLnMNYoTMjUGGQ   Granny's Tacos         5.0               310   \n",
       "6    CgZfMVFv0ilEDZbH06apyA         Tacodeli         4.5               682   \n",
       "8    FWppPI6i6GJ1EXtT7U3G4Q  Vaquero Taquero         4.5               161   \n",
       "..                      ...              ...         ...               ...   \n",
       "135  N31Vex7z_gckdhAsq0uPxA  Jack in the Box         2.5                28   \n",
       "136  5N4bHv9sTm1JsDqhDWz-tA  Jack in the Box         2.5                18   \n",
       "138  ehSTouF01blyKxwIxZQKjw  Jack in the Box         1.5                22   \n",
       "139  e8iaAO6ukGxUxhbzHS2LQg  Jack in the Box         2.0                47   \n",
       "140  FwWVAykgrFME1jKs2ZmG_Q  Jack in the Box         2.0                23   \n",
       "\n",
       "    biz_price  \n",
       "1           $  \n",
       "2          $$  \n",
       "5           $  \n",
       "6           $  \n",
       "8           $  \n",
       "..        ...  \n",
       "135         $  \n",
       "136         $  \n",
       "138         $  \n",
       "139         $  \n",
       "140         $  \n",
       "\n",
       "[84 rows x 5 columns]"
      ]
     },
     "execution_count": 275,
     "metadata": {},
     "output_type": "execute_result"
    }
   ],
   "source": [
    "t_price_gone"
   ]
  },
  {
   "cell_type": "code",
   "execution_count": 292,
   "metadata": {},
   "outputs": [
    {
     "data": {
      "text/plain": [
       "category\n",
       "Pizza    3.440801\n",
       "Tacos    3.988402\n",
       "Name: biz_rating, dtype: float64"
      ]
     },
     "execution_count": 292,
     "metadata": {},
     "output_type": "execute_result"
    }
   ],
   "source": [
    "pizza_tacos_avg_rating= pizza_tacos.groupby('category')['biz_rating'].mean()\n",
    "pizza_tacos_avg_rating"
   ]
  },
  {
   "cell_type": "markdown",
   "metadata": {},
   "source": [
    "**Distribution of Pizza shops by Price Point**"
   ]
  },
  {
   "cell_type": "code",
   "execution_count": 302,
   "metadata": {},
   "outputs": [
    {
     "data": {
      "text/plain": [
       "$      51.333333\n",
       "$$     48.000000\n",
       "$$$     0.666667\n",
       "Name: biz_price, dtype: float64"
      ]
     },
     "execution_count": 302,
     "metadata": {},
     "output_type": "execute_result"
    }
   ],
   "source": [
    "ppp= pizza_tacos[pizza_tacos['category'] == 'Pizza']['biz_price'].value_counts(normalize=True)*100\n",
    "ppp"
   ]
  },
  {
   "cell_type": "markdown",
   "metadata": {},
   "source": [
    "**Distribution of Taco shops by Price Point**"
   ]
  },
  {
   "cell_type": "code",
   "execution_count": 316,
   "metadata": {},
   "outputs": [
    {
     "data": {
      "text/plain": [
       "$     73.895582\n",
       "$$    26.104418\n",
       "Name: biz_price, dtype: float64"
      ]
     },
     "execution_count": 316,
     "metadata": {},
     "output_type": "execute_result"
    }
   ],
   "source": [
    "tpp= pizza_tacos[pizza_tacos['category'] == 'Tacos']['biz_price'].value_counts(normalize=True)*100\n",
    "tpp"
   ]
  },
  {
   "cell_type": "code",
   "execution_count": 338,
   "metadata": {},
   "outputs": [],
   "source": [
    "price_cat= pizza_tacos.groupby(['biz_price', 'category'])['business_id'].count().unstack\n"
   ]
  },
  {
   "cell_type": "code",
   "execution_count": 383,
   "metadata": {},
   "outputs": [
    {
     "data": {
      "image/png": "[encoded data removed]",
      "text/plain": [
       "<Figure size 432x288 with 1 Axes>"
      ]
     },
     "metadata": {
      "needs_background": "light"
     },
     "output_type": "display_data"
    }
   ],
   "source": [
    "by_price = pizza_tacos.groupby(['biz_price', 'category'])['business_id'].count().unstack()\n",
    "\n",
    "labels = ['$','\\$\\$','\\$\\$\\$']\n",
    "\n",
    "x = np.arange(len(labels))\n",
    "\n",
    "\n",
    "fig, ax = plt.subplots()\n",
    "pizza = ax.bar(x - width/2, by_price['Pizza'].values, \n",
    "               width, label = 'Pizza', color= 'purple')\n",
    "tacos = ax.bar(x + width/2, by_price['Tacos'].values, \n",
    "               width, label = 'Tacos', color= 'turquoise')\n",
    "ax.set_ylabel('Number of Restaurants')\n",
    "ax.set_xlabel('Price Category')\n",
    "ax.set_title('Restaurants by Price')\n",
    "ax.set_xticks(list(range(3)))\n",
    "width=.4 \n",
    "ax.set_xticklabels(labels)\n",
    "ax.legend()\n",
    "plt.tight_layout()\n",
    "plt.savefig('pizza_tacos_price')"
   ]
  },
  {
   "cell_type": "markdown",
   "metadata": {},
   "source": [
    "### This bar graph indicated that there are almost no pizza or taco establishments at higher price points. "
   ]
  },
  {
   "cell_type": "markdown",
   "metadata": {},
   "source": [
    "____________"
   ]
  },
  {
   "cell_type": "markdown",
   "metadata": {},
   "source": [
    "## Analysis Summary\n",
    "-The reviews on average are higher for taco restaurants than pizza restaurants.\\\n",
    "-There is a plethora of higher priced pizza shops, compared to taco restaurants. \\\n",
    "-Reviewees of taco shops seem to leave feeback when the experience is average (3 star), whereas patrons of pizza restaurants are more inclined to review their experience the better it is (4-5 star).\\ \n",
    "-Taco shops are either rated very well or very poorly, while pizza restaurants are more consistent with reviews to ratings."
   ]
  },
  {
   "cell_type": "markdown",
   "metadata": {},
   "source": [
    "![pizza](https://camo.githubusercontent.com/623c34bf743be4a9ece92d9ea7d6aa318317b0457e005b36910bae287e14de27/68747470733a2f2f337669396d783430623361666162783166717676686b39652d7770656e67696e652e6e6574646e612d73736c2e636f6d2f77702d636f6e74656e742f75706c6f6164732f323032302f30372f34302d4e6f7274682d6e6f722d63616c2d686f72697a6f6e74616c2e6a7067)"
   ]
  },
  {
   "cell_type": "markdown",
   "metadata": {},
   "source": [
    "# Conclusions\n",
    "## This analysis leads to several conclusions:\n",
    "\n",
    "#### -The results of our analysis found that in Austin,Texas it would be better to invest in a pizza shop.\n",
    "#### -We made this conclusion because the mean value of the Taco business ratings is significantly higher than the mean value of the Pizza business ratings.\n",
    "#### -As an additional support to our conclusion, our results show that Taco businesses are distributed much less evenly among the ratings scale, and are more centralized between the four and five star ratings. This made us conclude that there was less highly-rated competition in the Pizza market.\n",
    "#### -Pizza patrons are more likely to review their experience to when it is positive, in comparison to taco connouisseurs who rate establishments mostly when the experience is just average (3 stars).\n",
    "#### -There is market opportunity for opening a higher end pizza parlor, as there are not currently many in existence.\n"
   ]
  },
  {
   "cell_type": "markdown",
   "metadata": {},
   "source": [
    "____________________________________"
   ]
  },
  {
   "cell_type": "markdown",
   "metadata": {},
   "source": [
    "For more information please visit our github repository at https://github.com/tsayula/Bikes_Repo!"
   ]
  },
  {
   "cell_type": "markdown",
   "metadata": {},
   "source": [
    "![keep Austin Weird](https://camo.githubusercontent.com/06e8ce2213890e77eaa17afb8e9571ba12fb4f43ec8631eddbe3751eeedfa827/68747470733a2f2f7265732e636c6f7564696e6172792e636f6d2f63756c747572656d61702d636f6d2f696d6167652f75706c6f61642f61725f343a332c635f66696c6c2c675f66616365733a63656e7465722c775f3938302f76313532313034373631332f70686f746f732f32383731325f6f726967696e616c2e6a7067)"
   ]
  }
 ],
 "metadata": {
  "kernelspec": {
   "display_name": "Python 3",
   "language": "python",
   "name": "python3"
  },
  "language_info": {
   "codemirror_mode": {
    "name": "ipython",
    "version": 3
   },
   "file_extension": ".py",
   "mimetype": "text/x-python",
   "name": "python",
   "nbconvert_exporter": "python",
   "pygments_lexer": "ipython3",
   "version": "3.8.5"
  },
  "toc": {
   "base_numbering": 1,
   "nav_menu": {},
   "number_sections": false,
   "sideBar": true,
   "skip_h1_title": false,
   "title_cell": "Table of Contents",
   "title_sidebar": "Contents",
   "toc_cell": false,
   "toc_position": {},
   "toc_section_display": true,
   "toc_window_display": false
  }
 },
 "nbformat": 4,
 "nbformat_minor": 2
}
