{
 "cells": [
  {
   "cell_type": "code",
   "execution_count": 3,
   "metadata": {},
   "outputs": [],
   "source": [
    "def yelp_data(url_params, api_key):\n",
    "    def yelp_call(url_params, api_key):\n",
    "        response= requests.get(url, headers=headers, params=url_params)  \n",
    "        if response.status_code==200:\n",
    "        business_data= response['businesses']\n",
    "        def parse_results(results):\n",
    "            parsed_results =[]\n",
    "            for biz in results:\n",
    "                biz_info= (biz['name'],\n",
    "                   biz['rating'],\n",
    "                   biz['review_count'],\n",
    "                   biz['location']['zip_code'])\n",
    "                parsed_results.append(biz_info)\n",
    "        parsed_results= parse_results(business_data)\n",
    "        def df_safe(csv_filepath, parsed_results):\n",
    "            pr_df= pd.DataFrame(parsed_results, columns= \n",
    "                                                ['name', 'rating', 'review_count', 'zipcode'])\n",
    "                pr_csv=pr_df.to_csv(path_or_buf=csv_filepath)\n",
    "                return print(\"Results added!\")\n",
    "        else: \n",
    "                return response.status_code"
   ]
  }
 ],
 "metadata": {
  "kernelspec": {
   "display_name": "Python 3",
   "language": "python",
   "name": "python3"
  },
  "language_info": {
   "codemirror_mode": {
    "name": "ipython",
    "version": 3
   },
   "file_extension": ".py",
   "mimetype": "text/x-python",
   "name": "python",
   "nbconvert_exporter": "python",
   "pygments_lexer": "ipython3",
   "version": "3.8.5"
  }
 },
 "nbformat": 4,
 "nbformat_minor": 4
}
